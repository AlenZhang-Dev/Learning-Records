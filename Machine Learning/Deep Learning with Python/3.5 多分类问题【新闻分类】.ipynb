{
  "nbformat": 4,
  "nbformat_minor": 0,
  "metadata": {
    "colab": {
      "name": "3.5 多分类问题【新闻分类】.ipynb",
      "provenance": [],
      "toc_visible": true,
      "authorship_tag": "ABX9TyOAHGp8PMDf5OIxsuKHb6ay",
      "include_colab_link": true
    },
    "kernelspec": {
      "name": "python3",
      "display_name": "Python 3"
    }
  },
  "cells": [
    {
      "cell_type": "markdown",
      "metadata": {
        "id": "view-in-github",
        "colab_type": "text"
      },
      "source": [
        "<a href=\"https://colab.research.google.com/github/AlenZhang-Dev/Learning-Records/blob/master/Machine%20Learning/Deep%20Learning%20with%20Python/3.5%20%E5%A4%9A%E5%88%86%E7%B1%BB%E9%97%AE%E9%A2%98%E3%80%90%E6%96%B0%E9%97%BB%E5%88%86%E7%B1%BB%E3%80%91.ipynb\" target=\"_parent\"><img src=\"https://colab.research.google.com/assets/colab-badge.svg\" alt=\"Open In Colab\"/></a>"
      ]
    },
    {
      "cell_type": "markdown",
      "metadata": {
        "id": "vh6i9e-kzdUj"
      },
      "source": [
        "# 多分类问题（Multiclass Classification）"
      ]
    },
    {
      "cell_type": "markdown",
      "metadata": {
        "id": "pdh14bbz5-23"
      },
      "source": [
        "本节构建一个网络，将路透新闻划分为46个互斥的主题。因为每个数据点只能划分到一个类别，这是单标签、多分类的问题；如果每个数据点能够划分到多个类别，那么这是一个多标签，多分类的问题。使用的数据集是路透社数据集，伯阿汉许多短新闻及其对应主题，是一个简单的，广泛使用的文本分类集。包括46个不同的主题：某些主题的样本更多，但训练集中每个主题至少有10个样本。"
      ]
    },
    {
      "cell_type": "code",
      "metadata": {
        "id": "V5TOJc4E0jAd"
      },
      "source": [
        "from keras.datasets import reuters\n",
        "\n",
        "(train_data, train_labels), (test_data, test_labels) = reuters.load_data(num_words=10000)"
      ],
      "execution_count": 1,
      "outputs": []
    },
    {
      "cell_type": "markdown",
      "metadata": {
        "id": "pq8x-yLV_bmV"
      },
      "source": [
        "num_words将数据限定为前10000个最常出现的单词，我们有8982个训练样本和2246个测试样本。"
      ]
    },
    {
      "cell_type": "code",
      "metadata": {
        "colab": {
          "base_uri": "https://localhost:8080/"
        },
        "id": "N9dOld9L_nNO",
        "outputId": "11c4042d-d3d0-42fd-8c2e-e6a93c7de1ce"
      },
      "source": [
        "len(train_data)\n",
        "len(test_data)"
      ],
      "execution_count": 2,
      "outputs": [
        {
          "output_type": "execute_result",
          "data": {
            "text/plain": [
              "2246"
            ]
          },
          "metadata": {
            "tags": []
          },
          "execution_count": 2
        }
      ]
    },
    {
      "cell_type": "markdown",
      "metadata": {
        "id": "2LbyXikR0p1v"
      },
      "source": [
        "## 数据准备\n"
      ]
    },
    {
      "cell_type": "markdown",
      "metadata": {
        "id": "pVbpr7Ad1QO9"
      },
      "source": [
        "1. 与上一个例子类似，将数据向量化"
      ]
    },
    {
      "cell_type": "code",
      "metadata": {
        "id": "ajzOvSSb0vxA"
      },
      "source": [
        "import numpy as np\n",
        "\n",
        "def vectorize_sequences(sequences, dimension=10000):\n",
        "    results = np.zeros((len(sequences), dimension))\n",
        "    for i, sequence in enumerate(sequences):\n",
        "        results[i, sequence] = 1.\n",
        "    return results\n",
        "\n",
        "# Our vectorized training data\n",
        "x_train = vectorize_sequences(train_data)\n",
        "# Our vectorized test data\n",
        "x_test = vectorize_sequences(test_data)"
      ],
      "execution_count": 3,
      "outputs": []
    },
    {
      "cell_type": "markdown",
      "metadata": {
        "id": "--zkniBC1Wj2"
      },
      "source": [
        "2. 将标签转换为整数张量，使用one-hot编码，one-hot是分类数据广泛使用的一种格式，也叫做分类编码（categorical encoding）。"
      ]
    },
    {
      "cell_type": "code",
      "metadata": {
        "id": "AFG23Cpg1CTc"
      },
      "source": [
        "def to_one_hot(labels, dimension=46):\n",
        "    results = np.zeros((len(labels), dimension))\n",
        "    for i, label in enumerate(labels):\n",
        "        results[i, label] = 1.\n",
        "    return results\n",
        "\n",
        "# Our vectorized training labels\n",
        "one_hot_train_labels = to_one_hot(train_labels)\n",
        "# Our vectorized test labels\n",
        "one_hot_test_labels = to_one_hot(test_labels)"
      ],
      "execution_count": 4,
      "outputs": []
    },
    {
      "cell_type": "markdown",
      "metadata": {
        "id": "hR_6Tvm67uud"
      },
      "source": [
        "注：Keras内置的方法可以实现这个操作。"
      ]
    },
    {
      "cell_type": "code",
      "metadata": {
        "id": "KiWbHSiI1GR7"
      },
      "source": [
        "from keras.utils.np_utils import to_categorical\n",
        "\n",
        "one_hot_train_labels = to_categorical(train_labels)\n",
        "one_hot_test_labels = to_categorical(test_labels)"
      ],
      "execution_count": 5,
      "outputs": []
    },
    {
      "cell_type": "markdown",
      "metadata": {
        "id": "1SvH5h_t1I0C"
      },
      "source": [
        "## 模型定义"
      ]
    },
    {
      "cell_type": "markdown",
      "metadata": {
        "id": "rRk4UQ5y3roZ"
      },
      "source": [
        "对于前面用过的Dense层堆叠，每层只能访问上一层输出的信息。如果某一层丢失了与分类信息相关的一些信息，那么这些信息无法被后续的层找回，因此在这个例子中使用64维空间进行训练。\n",
        "\n",
        "*   网络的最后一层大小为46的Dense层。对于每个输入样本，都会输出一个46维的向量。这个向量的每个元素代表不同的输出类别。\n",
        "\n",
        "*   最后一层采用softmax激活。网络将输出在46个不同输出类别上的概率分布，对于每一个输入样本，网络都会输出一个46维向量，46个概率总和为1。\n",
        "\n",
        "\n",
        "\n"
      ]
    },
    {
      "cell_type": "code",
      "metadata": {
        "id": "2yFk5jgI1rws"
      },
      "source": [
        "from keras import models\n",
        "from keras import layers\n",
        "\n",
        "model = models.Sequential()\n",
        "model.add(layers.Dense(64, activation='relu', input_shape=(10000,)))\n",
        "model.add(layers.Dense(64, activation='relu'))\n",
        "model.add(layers.Dense(46, activation='softmax'))"
      ],
      "execution_count": 6,
      "outputs": []
    },
    {
      "cell_type": "markdown",
      "metadata": {
        "id": "s9yk1LFM4mH6"
      },
      "source": [
        "编译模型\n",
        "对于本例子，最好使用分类交叉熵(categorical_crossentropy)，用于衡量两个概率分布之间的距离，这里两个概率分布分别是网络输出的概率分布和标签的真实分布。通过将这两个分布距离最小化，训练网络可使输出结果尽可能接近真实标签。"
      ]
    },
    {
      "cell_type": "code",
      "metadata": {
        "id": "95zw_uwJKBZF"
      },
      "source": [
        " model.compile(optimizer='rmsprop',\n",
        "              loss='binary_crossentropy',\n",
        "              metrics=['accuracy'])"
      ],
      "execution_count": 7,
      "outputs": []
    },
    {
      "cell_type": "markdown",
      "metadata": {
        "id": "uoDVuCnS4v_I"
      },
      "source": [
        "## 验证方法\n"
      ]
    },
    {
      "cell_type": "markdown",
      "metadata": {
        "id": "p-DnlIthCYaa"
      },
      "source": [
        "在训练数据中留出1000个样本作为验证集。"
      ]
    },
    {
      "cell_type": "code",
      "metadata": {
        "id": "utRhIXVh43Lg"
      },
      "source": [
        "x_val = x_train[:1000]\n",
        "partial_x_train = x_train[1000:]\n",
        "\n",
        "y_val = one_hot_train_labels[:1000]\n",
        "partial_y_train = one_hot_train_labels[1000:]"
      ],
      "execution_count": 8,
      "outputs": []
    },
    {
      "cell_type": "code",
      "metadata": {
        "id": "DMyJaV5V44v7",
        "colab": {
          "base_uri": "https://localhost:8080/"
        },
        "outputId": "bf34cfa9-33ea-43a1-ec5c-07d0aea95330"
      },
      "source": [
        "history = model.fit(partial_x_train,\n",
        "                    partial_y_train,\n",
        "                    epochs=20,\n",
        "                    batch_size=512,\n",
        "                    validation_data=(x_val, y_val))"
      ],
      "execution_count": 9,
      "outputs": [
        {
          "output_type": "stream",
          "text": [
            "Epoch 1/20\n",
            "16/16 [==============================] - 1s 56ms/step - loss: 0.0722 - accuracy: 0.5254 - val_loss: 0.0478 - val_accuracy: 0.6740\n",
            "Epoch 2/20\n",
            "16/16 [==============================] - 1s 42ms/step - loss: 0.0412 - accuracy: 0.7115 - val_loss: 0.0396 - val_accuracy: 0.7100\n",
            "Epoch 3/20\n",
            "16/16 [==============================] - 1s 42ms/step - loss: 0.0320 - accuracy: 0.7824 - val_loss: 0.0344 - val_accuracy: 0.7730\n",
            "Epoch 4/20\n",
            "16/16 [==============================] - 1s 41ms/step - loss: 0.0262 - accuracy: 0.8198 - val_loss: 0.0328 - val_accuracy: 0.7710\n",
            "Epoch 5/20\n",
            "16/16 [==============================] - 1s 40ms/step - loss: 0.0217 - accuracy: 0.8561 - val_loss: 0.0310 - val_accuracy: 0.7970\n",
            "Epoch 6/20\n",
            "16/16 [==============================] - 1s 41ms/step - loss: 0.0178 - accuracy: 0.8836 - val_loss: 0.0297 - val_accuracy: 0.8180\n",
            "Epoch 7/20\n",
            "16/16 [==============================] - 1s 41ms/step - loss: 0.0149 - accuracy: 0.9040 - val_loss: 0.0306 - val_accuracy: 0.8040\n",
            "Epoch 8/20\n",
            "16/16 [==============================] - 1s 41ms/step - loss: 0.0125 - accuracy: 0.9192 - val_loss: 0.0293 - val_accuracy: 0.8120\n",
            "Epoch 9/20\n",
            "16/16 [==============================] - 1s 42ms/step - loss: 0.0107 - accuracy: 0.9300 - val_loss: 0.0298 - val_accuracy: 0.8160\n",
            "Epoch 10/20\n",
            "16/16 [==============================] - 1s 40ms/step - loss: 0.0093 - accuracy: 0.9389 - val_loss: 0.0299 - val_accuracy: 0.8170\n",
            "Epoch 11/20\n",
            "16/16 [==============================] - 1s 42ms/step - loss: 0.0081 - accuracy: 0.9449 - val_loss: 0.0309 - val_accuracy: 0.8200\n",
            "Epoch 12/20\n",
            "16/16 [==============================] - 1s 40ms/step - loss: 0.0073 - accuracy: 0.9480 - val_loss: 0.0303 - val_accuracy: 0.8270\n",
            "Epoch 13/20\n",
            "16/16 [==============================] - 1s 39ms/step - loss: 0.0066 - accuracy: 0.9506 - val_loss: 0.0305 - val_accuracy: 0.8250\n",
            "Epoch 14/20\n",
            "16/16 [==============================] - 1s 42ms/step - loss: 0.0060 - accuracy: 0.9538 - val_loss: 0.0323 - val_accuracy: 0.8110\n",
            "Epoch 15/20\n",
            "16/16 [==============================] - 1s 79ms/step - loss: 0.0056 - accuracy: 0.9546 - val_loss: 0.0355 - val_accuracy: 0.7960\n",
            "Epoch 16/20\n",
            "16/16 [==============================] - 2s 138ms/step - loss: 0.0053 - accuracy: 0.9551 - val_loss: 0.0325 - val_accuracy: 0.8250\n",
            "Epoch 17/20\n",
            "16/16 [==============================] - 2s 111ms/step - loss: 0.0051 - accuracy: 0.9549 - val_loss: 0.0324 - val_accuracy: 0.8160\n",
            "Epoch 18/20\n",
            "16/16 [==============================] - 1s 68ms/step - loss: 0.0048 - accuracy: 0.9580 - val_loss: 0.0325 - val_accuracy: 0.8190\n",
            "Epoch 19/20\n",
            "16/16 [==============================] - 1s 67ms/step - loss: 0.0047 - accuracy: 0.9585 - val_loss: 0.0350 - val_accuracy: 0.8140\n",
            "Epoch 20/20\n",
            "16/16 [==============================] - 1s 74ms/step - loss: 0.0046 - accuracy: 0.9560 - val_loss: 0.0335 - val_accuracy: 0.8190\n"
          ],
          "name": "stdout"
        }
      ]
    },
    {
      "cell_type": "markdown",
      "metadata": {
        "id": "dCjo2IT4CfEc"
      },
      "source": [
        "绘制训练和验证损失"
      ]
    },
    {
      "cell_type": "code",
      "metadata": {
        "id": "0ZOmQwpo5Cf4",
        "colab": {
          "base_uri": "https://localhost:8080/",
          "height": 295
        },
        "outputId": "8ec22a4a-a668-48bf-93be-e8b482e9cb4d"
      },
      "source": [
        "import matplotlib.pyplot as plt\n",
        "\n",
        "loss = history.history['loss']\n",
        "val_loss = history.history['val_loss']\n",
        "\n",
        "epochs = range(1, len(loss) + 1)\n",
        "\n",
        "plt.plot(epochs, loss, 'bo', label='Training loss')\n",
        "plt.plot(epochs, val_loss, 'b', label='Validation loss')\n",
        "plt.title('Training and validation loss')\n",
        "plt.xlabel('Epochs')\n",
        "plt.ylabel('Loss')\n",
        "plt.legend()\n",
        "\n",
        "plt.show()"
      ],
      "execution_count": 10,
      "outputs": [
        {
          "output_type": "display_data",
          "data": {
            "image/png": "[encoded data removed]",
            "text/plain": [
              "<Figure size 432x288 with 1 Axes>"
            ]
          },
          "metadata": {
            "tags": [],
            "needs_background": "light"
          }
        }
      ]
    },
    {
      "cell_type": "code",
      "metadata": {
        "id": "lX93MO6F5D6E",
        "colab": {
          "base_uri": "https://localhost:8080/",
          "height": 295
        },
        "outputId": "c4cc349e-11ee-4137-e92e-b86519fd2759"
      },
      "source": [
        "plt.clf()   # clear figure\n",
        "\n",
        "acc = history.history['accuracy']\n",
        "val_acc = history.history['val_accuracy']\n",
        "\n",
        "plt.plot(epochs, acc, 'bo', label='Training acc')\n",
        "plt.plot(epochs, val_acc, 'b', label='Validation acc')\n",
        "plt.title('Training and validation accuracy')\n",
        "plt.xlabel('Epochs')\n",
        "plt.ylabel('Loss')\n",
        "plt.legend()\n",
        "\n",
        "plt.show()"
      ],
      "execution_count": 11,
      "outputs": [
        {
          "output_type": "display_data",
          "data": {
            "image/png": "[encoded data removed]",
            "text/plain": [
              "<Figure size 432x288 with 1 Axes>"
            ]
          },
          "metadata": {
            "tags": [],
            "needs_background": "light"
          }
        }
      ]
    },
    {
      "cell_type": "markdown",
      "metadata": {
        "id": "MG-JBgQDC-_k"
      },
      "source": [
        "根据以上训练反馈，修改训练轮次，从头开始重新训练一个模型。并在测试集还上进行评估。"
      ]
    },
    {
      "cell_type": "code",
      "metadata": {
        "id": "TT8MBoVc5FqH",
        "colab": {
          "base_uri": "https://localhost:8080/"
        },
        "outputId": "a0c40951-dacd-42aa-a967-8375cae2973a"
      },
      "source": [
        "model = models.Sequential()\n",
        "model.add(layers.Dense(64, activation='relu', input_shape=(10000,)))\n",
        "model.add(layers.Dense(64, activation='relu'))\n",
        "model.add(layers.Dense(46, activation='softmax'))\n",
        "\n",
        "model.compile(optimizer='rmsprop',\n",
        "              loss='categorical_crossentropy',\n",
        "              metrics=['accuracy'])\n",
        "\n",
        "model.fit(partial_x_train,\n",
        "          partial_y_train,\n",
        "          epochs=8,\n",
        "          batch_size=512,\n",
        "          validation_data=(x_val, y_val))\n",
        "\n",
        "results = model.evaluate(x_test, one_hot_test_labels)"
      ],
      "execution_count": 12,
      "outputs": [
        {
          "output_type": "stream",
          "text": [
            "Epoch 1/8\n",
            "16/16 [==============================] - 1s 52ms/step - loss: 2.4449 - accuracy: 0.5274 - val_loss: 1.6425 - val_accuracy: 0.6480\n",
            "Epoch 2/8\n",
            "16/16 [==============================] - 1s 41ms/step - loss: 1.3537 - accuracy: 0.7132 - val_loss: 1.2850 - val_accuracy: 0.7080\n",
            "Epoch 3/8\n",
            "16/16 [==============================] - 1s 39ms/step - loss: 1.0194 - accuracy: 0.7795 - val_loss: 1.1131 - val_accuracy: 0.7580\n",
            "Epoch 4/8\n",
            "16/16 [==============================] - 1s 39ms/step - loss: 0.8043 - accuracy: 0.8309 - val_loss: 1.0237 - val_accuracy: 0.7820\n",
            "Epoch 5/8\n",
            "16/16 [==============================] - 1s 39ms/step - loss: 0.6496 - accuracy: 0.8664 - val_loss: 0.9631 - val_accuracy: 0.7980\n",
            "Epoch 6/8\n",
            "16/16 [==============================] - 1s 39ms/step - loss: 0.5155 - accuracy: 0.8963 - val_loss: 0.9216 - val_accuracy: 0.8070\n",
            "Epoch 7/8\n",
            "16/16 [==============================] - 1s 39ms/step - loss: 0.4160 - accuracy: 0.9158 - val_loss: 0.9038 - val_accuracy: 0.8130\n",
            "Epoch 8/8\n",
            "16/16 [==============================] - 1s 39ms/step - loss: 0.3403 - accuracy: 0.9275 - val_loss: 0.8976 - val_accuracy: 0.8120\n",
            "71/71 [==============================] - 0s 2ms/step - loss: 0.9642 - accuracy: 0.7863\n"
          ],
          "name": "stdout"
        }
      ]
    },
    {
      "cell_type": "code",
      "metadata": {
        "id": "CZN_hwij5G5K",
        "colab": {
          "base_uri": "https://localhost:8080/"
        },
        "outputId": "dfca46f6-e045-4d33-b21e-57579973040e"
      },
      "source": [
        "results"
      ],
      "execution_count": 13,
      "outputs": [
        {
          "output_type": "execute_result",
          "data": {
            "text/plain": [
              "[0.9641938209533691, 0.7862867116928101]"
            ]
          },
          "metadata": {
            "tags": []
          },
          "execution_count": 13
        }
      ]
    },
    {
      "cell_type": "markdown",
      "metadata": {
        "id": "cUR-wnhTEPxz"
      },
      "source": [
        "对于平衡的二分类问题，完全随机的分类器能够到50%左右的精度，但在这个例子中，完全随机的精度约为19%，所以上述结果相比该基准而言非常不错。"
      ]
    },
    {
      "cell_type": "code",
      "metadata": {
        "id": "Eqtn6Sw45Jmf",
        "colab": {
          "base_uri": "https://localhost:8080/"
        },
        "outputId": "d1ebf064-b6cf-48be-8724-c6fbb12f4a09"
      },
      "source": [
        "import copy\n",
        "\n",
        "test_labels_copy = copy.copy(test_labels)\n",
        "np.random.shuffle(test_labels_copy)\n",
        "hits_array = np.array(test_labels) == np.array(test_labels_copy)\n",
        "float(np.sum(hits_array)) / len(test_labels)"
      ],
      "execution_count": 14,
      "outputs": [
        {
          "output_type": "execute_result",
          "data": {
            "text/plain": [
              "0.19545859305431879"
            ]
          },
          "metadata": {
            "tags": []
          },
          "execution_count": 14
        }
      ]
    },
    {
      "cell_type": "markdown",
      "metadata": {
        "id": "uwFYTQXlE8O0"
      },
      "source": [
        "## 在新数据上生成预测结果\n",
        "\n",
        "验证模型实例的predict方法返回了在46个主题上的概率分布。对所有测试数据生成主题推测。"
      ]
    },
    {
      "cell_type": "code",
      "metadata": {
        "id": "cMUGCA3eFo8q"
      },
      "source": [
        "predictions = model.predict(x_test)"
      ],
      "execution_count": 15,
      "outputs": []
    },
    {
      "cell_type": "markdown",
      "metadata": {
        "id": "3ctZY7kLGO_I"
      },
      "source": [
        "prediction 中每个元素都是长度为46的向量model.predict(x_test)"
      ]
    },
    {
      "cell_type": "code",
      "metadata": {
        "colab": {
          "base_uri": "https://localhost:8080/"
        },
        "id": "tw2xtENYGx8w",
        "outputId": "dbb1487a-05d3-4851-96fa-40b76b7c433f"
      },
      "source": [
        "predictions[0].shape"
      ],
      "execution_count": 16,
      "outputs": [
        {
          "output_type": "execute_result",
          "data": {
            "text/plain": [
              "(46,)"
            ]
          },
          "metadata": {
            "tags": []
          },
          "execution_count": 16
        }
      ]
    },
    {
      "cell_type": "markdown",
      "metadata": {
        "id": "-TJ4oF-NG3kD"
      },
      "source": [
        "该向量所有元素和为1"
      ]
    },
    {
      "cell_type": "code",
      "metadata": {
        "colab": {
          "base_uri": "https://localhost:8080/"
        },
        "id": "T0hRFmJdG8cT",
        "outputId": "8e3901c4-1f22-4bd1-ba93-7871073ef4e2"
      },
      "source": [
        "np.sum(predictions[0])"
      ],
      "execution_count": 17,
      "outputs": [
        {
          "output_type": "execute_result",
          "data": {
            "text/plain": [
              "0.9999999"
            ]
          },
          "metadata": {
            "tags": []
          },
          "execution_count": 17
        }
      ]
    },
    {
      "cell_type": "markdown",
      "metadata": {
        "id": "AjRqY7j2G_gp"
      },
      "source": [
        "最大元素就是预测类别，即概率最大的类别"
      ]
    },
    {
      "cell_type": "code",
      "metadata": {
        "colab": {
          "base_uri": "https://localhost:8080/"
        },
        "id": "3Ad15kAeHEPu",
        "outputId": "f9330949-943f-4d0b-aaef-79d886dcfe5a"
      },
      "source": [
        "np.argmax(predictions[0])"
      ],
      "execution_count": 18,
      "outputs": [
        {
          "output_type": "execute_result",
          "data": {
            "text/plain": [
              "3"
            ]
          },
          "metadata": {
            "tags": []
          },
          "execution_count": 18
        }
      ]
    },
    {
      "cell_type": "markdown",
      "metadata": {
        "id": "uY79M0sTHUMb"
      },
      "source": [
        "## 中间层维度足够大的重要性\n",
        "\n",
        "因为最终输出是46维的，最终输出不应该比46小太多。如果中间维度远远小于46，造成信息瓶颈，会产生什么结果。\n",
        "\n"
      ]
    },
    {
      "cell_type": "code",
      "metadata": {
        "colab": {
          "base_uri": "https://localhost:8080/"
        },
        "id": "ZX7J7M12HtmW",
        "outputId": "246eeed4-4b02-4108-8bbb-a72873a49551"
      },
      "source": [
        "model = models.Sequential()\n",
        "model.add(layers.Dense(64, activation='relu', input_shape=(10000,)))\n",
        "model.add(layers.Dense(4, activation='relu'))\n",
        "model.add(layers.Dense(46, activation='softmax'))\n",
        "\n",
        "model.compile(optimizer='rmsprop',\n",
        "              loss='categorical_crossentropy',\n",
        "              metrics=['accuracy'])\n",
        "model.fit(partial_x_train,\n",
        "          partial_y_train,\n",
        "          epochs=20,\n",
        "          batch_size=128,\n",
        "          validation_data=(x_val, y_val))"
      ],
      "execution_count": 19,
      "outputs": [
        {
          "output_type": "stream",
          "text": [
            "Epoch 1/20\n",
            "63/63 [==============================] - 1s 18ms/step - loss: 2.9614 - accuracy: 0.3696 - val_loss: 2.2487 - val_accuracy: 0.5920\n",
            "Epoch 2/20\n",
            "63/63 [==============================] - 1s 16ms/step - loss: 1.8082 - accuracy: 0.6163 - val_loss: 1.5554 - val_accuracy: 0.6330\n",
            "Epoch 3/20\n",
            "63/63 [==============================] - 1s 15ms/step - loss: 1.3488 - accuracy: 0.6579 - val_loss: 1.3737 - val_accuracy: 0.6700\n",
            "Epoch 4/20\n",
            "63/63 [==============================] - 1s 14ms/step - loss: 1.1502 - accuracy: 0.7250 - val_loss: 1.3203 - val_accuracy: 0.7030\n",
            "Epoch 5/20\n",
            "63/63 [==============================] - 1s 14ms/step - loss: 1.0224 - accuracy: 0.7571 - val_loss: 1.2850 - val_accuracy: 0.7130\n",
            "Epoch 6/20\n",
            "63/63 [==============================] - 1s 15ms/step - loss: 0.9222 - accuracy: 0.7809 - val_loss: 1.2655 - val_accuracy: 0.7250\n",
            "Epoch 7/20\n",
            "63/63 [==============================] - 1s 15ms/step - loss: 0.8404 - accuracy: 0.7980 - val_loss: 1.2810 - val_accuracy: 0.7260\n",
            "Epoch 8/20\n",
            "63/63 [==============================] - 1s 15ms/step - loss: 0.7705 - accuracy: 0.8118 - val_loss: 1.2979 - val_accuracy: 0.7250\n",
            "Epoch 9/20\n",
            "63/63 [==============================] - 1s 15ms/step - loss: 0.7110 - accuracy: 0.8193 - val_loss: 1.3206 - val_accuracy: 0.7240\n",
            "Epoch 10/20\n",
            "63/63 [==============================] - 1s 15ms/step - loss: 0.6597 - accuracy: 0.8289 - val_loss: 1.3987 - val_accuracy: 0.7200\n",
            "Epoch 11/20\n",
            "63/63 [==============================] - 1s 15ms/step - loss: 0.6195 - accuracy: 0.8358 - val_loss: 1.4288 - val_accuracy: 0.7140\n",
            "Epoch 12/20\n",
            "63/63 [==============================] - 1s 16ms/step - loss: 0.5834 - accuracy: 0.8463 - val_loss: 1.4498 - val_accuracy: 0.7210\n",
            "Epoch 13/20\n",
            "63/63 [==============================] - 1s 16ms/step - loss: 0.5494 - accuracy: 0.8554 - val_loss: 1.4678 - val_accuracy: 0.7310\n",
            "Epoch 14/20\n",
            "63/63 [==============================] - 1s 15ms/step - loss: 0.5224 - accuracy: 0.8627 - val_loss: 1.5369 - val_accuracy: 0.7240\n",
            "Epoch 15/20\n",
            "63/63 [==============================] - 1s 14ms/step - loss: 0.4965 - accuracy: 0.8686 - val_loss: 1.5904 - val_accuracy: 0.7240\n",
            "Epoch 16/20\n",
            "63/63 [==============================] - 1s 15ms/step - loss: 0.4690 - accuracy: 0.8741 - val_loss: 1.6941 - val_accuracy: 0.7160\n",
            "Epoch 17/20\n",
            "63/63 [==============================] - 1s 15ms/step - loss: 0.4496 - accuracy: 0.8814 - val_loss: 1.6659 - val_accuracy: 0.7100\n",
            "Epoch 18/20\n",
            "63/63 [==============================] - 1s 15ms/step - loss: 0.4307 - accuracy: 0.8871 - val_loss: 1.7485 - val_accuracy: 0.7190\n",
            "Epoch 19/20\n",
            "63/63 [==============================] - 1s 15ms/step - loss: 0.4119 - accuracy: 0.8910 - val_loss: 1.8502 - val_accuracy: 0.7130\n",
            "Epoch 20/20\n",
            "63/63 [==============================] - 1s 16ms/step - loss: 0.3986 - accuracy: 0.8950 - val_loss: 1.8733 - val_accuracy: 0.7090\n"
          ],
          "name": "stdout"
        },
        {
          "output_type": "execute_result",
          "data": {
            "text/plain": [
              "<tensorflow.python.keras.callbacks.History at 0x7ffa01953d68>"
            ]
          },
          "metadata": {
            "tags": []
          },
          "execution_count": 19
        }
      ]
    },
    {
      "cell_type": "markdown",
      "metadata": {
        "id": "DfscNG38gvim"
      },
      "source": [
        "可以发现验证精度相较上一轮下降了很多。"
      ]
    },
    {
      "cell_type": "markdown",
      "metadata": {
        "id": "X4n2D1Q4IguI"
      },
      "source": [
        "## 进一步实验\n",
        "* 尝试使用更多或者更少的隐藏单元\n",
        "* 使用一个或三个隐藏层"
      ]
    },
    {
      "cell_type": "markdown",
      "metadata": {
        "id": "qypfLQRIIqjx"
      },
      "source": [
        "## 小结\n",
        "* 如果要对N个类别的数据进行分类，网络的最后一层应该是大小为N的Dense层。\n",
        "* 对于单标签、多分类问题，网络最后一层应该使用softmax激活，这样可以输出在N个输出类别上的概率分布。\n",
        "* 这种问题损失函数几乎总是应该使用交叉熵。他将网络输出的概率分布与目标真实分布之间的距离最小化。\n",
        "* 处理多分类问题的标签有两种方法。\n",
        "  * 通过分类编码（one-hot）对标签进行编码，然后使用categorial_crossentropy作为损失函数。\n",
        "  * 将标签编码为整数，然后使用sparse_catagorical_crossentropy损失函数。\n",
        "* 如果需要将数据划分到许多类别中，应该避免使用太小的中间层，以免在网络中造成信息瓶颈。"
      ]
    }
  ]
}