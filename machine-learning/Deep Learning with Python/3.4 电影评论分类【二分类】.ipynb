{
  "nbformat": 4,
  "nbformat_minor": 0,
  "metadata": {
    "colab": {
      "name": "3.4 电影评论分类【二分类】.ipynb",
      "provenance": [],
      "collapsed_sections": [],
      "toc_visible": true,
      "authorship_tag": "ABX9TyNsZsLM5SDj5Eug5U0RrMMp",
      "include_colab_link": true
    },
    "kernelspec": {
      "name": "python3",
      "display_name": "Python 3"
    }
  },
  "cells": [
    {
      "cell_type": "markdown",
      "metadata": {
        "id": "view-in-github",
        "colab_type": "text"
      },
      "source": [
        "<a href=\"https://colab.research.google.com/github/AlenZhang-Dev/Learning-Records/blob/master/Machine%20Learning/Deep%20Learning%20with%20Python/3.4%20%E7%94%B5%E5%BD%B1%E8%AF%84%E8%AE%BA%E5%88%86%E7%B1%BB%E3%80%90%E4%BA%8C%E5%88%86%E7%B1%BB%E3%80%91.ipynb\" target=\"_parent\"><img src=\"https://colab.research.google.com/assets/colab-badge.svg\" alt=\"Open In Colab\"/></a>"
      ]
    },
    {
      "cell_type": "markdown",
      "metadata": {
        "id": "Bwz2fahR510_"
      },
      "source": [
        "# 电影评论分类：二分类问题\n",
        "二分类是应用最广泛的机器学习问题。本例将根据电影评论的文字内容将其划分为正面或负面。"
      ]
    },
    {
      "cell_type": "markdown",
      "metadata": {
        "id": "oovL_wiP8rDE"
      },
      "source": [
        "## IMDB数据集\n",
        "使用IMDB数据集，包含来自互联网电影数据库的50000条严重两集分化的评论。数据集被分为用于训练的25000条评论与用于测试的25000条评论。训练集和测试集都包含50%的正面评论和50%的负面评论。"
      ]
    },
    {
      "cell_type": "code",
      "metadata": {
        "id": "1s6xws6H9PN5",
        "colab": {
          "base_uri": "https://localhost:8080/"
        },
        "outputId": "22488004-79ca-4221-95d0-15f14d9062e8"
      },
      "source": [
        "from keras.datasets import imdb\n",
        "\n",
        "(train_data, train_labels), (test_data, test_labels) = imdb.load_data(num_words=10000)\n",
        "\n",
        "train_data[0]\n",
        "train_labels[0]"
      ],
      "execution_count": 1,
      "outputs": [
        {
          "output_type": "execute_result",
          "data": {
            "text/plain": [
              "1"
            ]
          },
          "metadata": {
            "tags": []
          },
          "execution_count": 1
        }
      ]
    },
    {
      "cell_type": "markdown",
      "metadata": {
        "id": "YWw8FbrbDUHo"
      },
      "source": [
        "## 数据准备\n",
        "你不能将整数序列直接输入神经网络。你需要将列表转换为张量。转换方法有以下两种\n",
        "\n",
        "1.   填充列表，使其具有相同长度。再将列表转换成形状为(samples, word_indices)的整数张量，然后网络的第一层使用能处理这种张量整数张量的层。\n",
        "2.   对列表进行one-hot编码，将其转换为0和1组成的向量。序列[3,5]将会被转换为10000维的向量，只有索引为3和5的元素是1，其余都是0。然后网络的第一层可以用Dense，他可以处理浮点向量数据。\n",
        "\n",
        "以下使用方法2准备数据\n",
        "\n"
      ]
    },
    {
      "cell_type": "code",
      "metadata": {
        "id": "qX8p2G_mF-Qv"
      },
      "source": [
        "import numpy as np\n",
        "def vectorize_sequences(sequences, dimension=10000):\n",
        "    # Create an all-zero matrix of shape (len(sequences), dimension)\n",
        "    results = np.zeros((len(sequences), dimension))\n",
        "    for i, sequence in enumerate(sequences):\n",
        "        results[i, sequence] = 1.  # set specific indices of results[i] to 1s\n",
        "    return results\n",
        "\n",
        "# Our vectorized training data\n",
        "x_train = vectorize_sequences(train_data)\n",
        "# Our vectorized test data\n",
        "x_test = vectorize_sequences(test_data)\n",
        "\n",
        "x_train[0]\n",
        "\n",
        "# 将标签向量化\n",
        "y_train = np.asarray(train_labels).astype('float32')\n",
        "y_test = np.asarray(test_labels).astype('float32')"
      ],
      "execution_count": 2,
      "outputs": []
    },
    {
      "cell_type": "markdown",
      "metadata": {
        "id": "8NL-KHeLKUcr"
      },
      "source": [
        "## 构建网络\n",
        "输入数据是向量，而标签是标量（0和1），这是遇到的最好情况。在该模型中我们使用以下架构\n",
        "1.  两个中间层，每层有16个隐藏变量\n",
        "2.  第三层输出一个标量，预测当前评论的情感\n",
        "中间层使用relu作为激活函数，最后一层使Sigmoid函数激活输出一个0-1范围内的概率。"
      ]
    },
    {
      "cell_type": "code",
      "metadata": {
        "id": "JRYOgl8rQFFI"
      },
      "source": [
        "from keras import models\n",
        "from keras import layers\n",
        "\n",
        "model = models.Sequential()\n",
        "model.add(layers.Dense(16, activation='relu', input_shape=(10000,)))\n",
        "model.add(layers.Dense(16, activation='relu'))\n",
        "model.add(layers.Dense(1, activation='sigmoid'))"
      ],
      "execution_count": 3,
      "outputs": []
    },
    {
      "cell_type": "markdown",
      "metadata": {
        "id": "JU4f_MNhmhz8"
      },
      "source": [
        "以下选择损失函数和优化器。二分类问题的网络输出是一个概率值，最好使用binary_crossentropy(二元交叉熵)损失，这并不是唯一可行的选择，还可以使用mean_squared_error（均方误差）。对于输出概率的值，交叉熵往往是最好的选择。"
      ]
    },
    {
      "cell_type": "markdown",
      "metadata": {
        "id": "p47IaEsDnK8a"
      },
      "source": [
        "## 编译模型\n",
        "因为rmsprop、binary_crossentropy和accuracy都是Keras内置的一部分。可以通过optimzer参数传入一个优化器累实现。"
      ]
    },
    {
      "cell_type": "code",
      "metadata": {
        "id": "ZUGKAuY8njA1"
      },
      "source": [
        "model.compile(optimizer='rmsprop',\n",
        "              loss='binary_crossentropy',\n",
        "              metrics=['accuracy'])"
      ],
      "execution_count": 4,
      "outputs": []
    },
    {
      "cell_type": "markdown",
      "metadata": {
        "id": "ikQGkmBun3qr"
      },
      "source": [
        "## 配置优化器\n"
      ]
    },
    {
      "cell_type": "code",
      "metadata": {
        "id": "fKjE3ySpoCw4"
      },
      "source": [
        "from keras import optimizers\n",
        "model.compile(optimizer=optimizers.RMSprop(lr=0.001),\n",
        "              loss='binary_crossentropy',\n",
        "              metrics=['accuracy'])"
      ],
      "execution_count": 5,
      "outputs": []
    },
    {
      "cell_type": "markdown",
      "metadata": {
        "id": "Fhd3-ZHapWG9"
      },
      "source": [
        "使用自定义的损失和指标。"
      ]
    },
    {
      "cell_type": "code",
      "metadata": {
        "id": "qWtikbmrpBoJ"
      },
      "source": [
        "# from keras import losses\n",
        "# from keras import metrics\n",
        "\n",
        "# model.compile(optimizer=optimizers.RMSprop(lr=0.001),\n",
        "#               loss=losses.binary_crossentropy,\n",
        "#               metrics=[metrics.binary_accuracy])"
      ],
      "execution_count": 6,
      "outputs": []
    },
    {
      "cell_type": "markdown",
      "metadata": {
        "id": "Y7nz4XQoqH8e"
      },
      "source": [
        "## 验证\n",
        "留出验证集并进行训练"
      ]
    },
    {
      "cell_type": "code",
      "metadata": {
        "id": "Cm73eIesqXDt"
      },
      "source": [
        "x_val = x_train[:10000]\n",
        "partial_x_train = x_train[10000:]\n",
        "\n",
        "y_val = y_train[:10000]\n",
        "partial_y_train = y_train[10000:]"
      ],
      "execution_count": 7,
      "outputs": []
    },
    {
      "cell_type": "code",
      "metadata": {
        "id": "qY39tIRoqY3q",
        "colab": {
          "base_uri": "https://localhost:8080/"
        },
        "outputId": "5d19bd8a-7422-4dff-cdc2-b9fc852d7a06"
      },
      "source": [
        "history = model.fit(partial_x_train,\n",
        "                    partial_y_train,\n",
        "                    epochs=20,\n",
        "                    batch_size=512,\n",
        "                    validation_data=(x_val, y_val))"
      ],
      "execution_count": 8,
      "outputs": [
        {
          "output_type": "stream",
          "text": [
            "Epoch 1/20\n",
            "30/30 [==============================] - 2s 56ms/step - loss: 0.4962 - accuracy: 0.7847 - val_loss: 0.3648 - val_accuracy: 0.8753\n",
            "Epoch 2/20\n",
            "30/30 [==============================] - 1s 42ms/step - loss: 0.2904 - accuracy: 0.9069 - val_loss: 0.3006 - val_accuracy: 0.8863\n",
            "Epoch 3/20\n",
            "30/30 [==============================] - 1s 42ms/step - loss: 0.2180 - accuracy: 0.9280 - val_loss: 0.2781 - val_accuracy: 0.8910\n",
            "Epoch 4/20\n",
            "30/30 [==============================] - 1s 43ms/step - loss: 0.1707 - accuracy: 0.9469 - val_loss: 0.2761 - val_accuracy: 0.8878\n",
            "Epoch 5/20\n",
            "30/30 [==============================] - 1s 42ms/step - loss: 0.1402 - accuracy: 0.9549 - val_loss: 0.2847 - val_accuracy: 0.8861\n",
            "Epoch 6/20\n",
            "30/30 [==============================] - 1s 42ms/step - loss: 0.1136 - accuracy: 0.9659 - val_loss: 0.3080 - val_accuracy: 0.8854\n",
            "Epoch 7/20\n",
            "30/30 [==============================] - 1s 42ms/step - loss: 0.0939 - accuracy: 0.9725 - val_loss: 0.3438 - val_accuracy: 0.8749\n",
            "Epoch 8/20\n",
            "30/30 [==============================] - 1s 43ms/step - loss: 0.0780 - accuracy: 0.9790 - val_loss: 0.3349 - val_accuracy: 0.8832\n",
            "Epoch 9/20\n",
            "30/30 [==============================] - 1s 44ms/step - loss: 0.0642 - accuracy: 0.9831 - val_loss: 0.3559 - val_accuracy: 0.8809\n",
            "Epoch 10/20\n",
            "30/30 [==============================] - 1s 44ms/step - loss: 0.0510 - accuracy: 0.9879 - val_loss: 0.3856 - val_accuracy: 0.8802\n",
            "Epoch 11/20\n",
            "30/30 [==============================] - 1s 43ms/step - loss: 0.0427 - accuracy: 0.9905 - val_loss: 0.4259 - val_accuracy: 0.8695\n",
            "Epoch 12/20\n",
            "30/30 [==============================] - 1s 44ms/step - loss: 0.0328 - accuracy: 0.9939 - val_loss: 0.5031 - val_accuracy: 0.8607\n",
            "Epoch 13/20\n",
            "30/30 [==============================] - 1s 45ms/step - loss: 0.0270 - accuracy: 0.9955 - val_loss: 0.4721 - val_accuracy: 0.8728\n",
            "Epoch 14/20\n",
            "30/30 [==============================] - 1s 44ms/step - loss: 0.0218 - accuracy: 0.9956 - val_loss: 0.5035 - val_accuracy: 0.8725\n",
            "Epoch 15/20\n",
            "30/30 [==============================] - 1s 42ms/step - loss: 0.0201 - accuracy: 0.9954 - val_loss: 0.5329 - val_accuracy: 0.8699\n",
            "Epoch 16/20\n",
            "30/30 [==============================] - 1s 43ms/step - loss: 0.0131 - accuracy: 0.9983 - val_loss: 0.5588 - val_accuracy: 0.8695\n",
            "Epoch 17/20\n",
            "30/30 [==============================] - 1s 43ms/step - loss: 0.0104 - accuracy: 0.9989 - val_loss: 0.6130 - val_accuracy: 0.8652\n",
            "Epoch 18/20\n",
            "30/30 [==============================] - 1s 42ms/step - loss: 0.0066 - accuracy: 0.9998 - val_loss: 0.6221 - val_accuracy: 0.8675\n",
            "Epoch 19/20\n",
            "30/30 [==============================] - 1s 43ms/step - loss: 0.0098 - accuracy: 0.9977 - val_loss: 0.6636 - val_accuracy: 0.8659\n",
            "Epoch 20/20\n",
            "30/30 [==============================] - 1s 42ms/step - loss: 0.0038 - accuracy: 0.9999 - val_loss: 0.6838 - val_accuracy: 0.8678\n"
          ],
          "name": "stdout"
        }
      ]
    },
    {
      "cell_type": "markdown",
      "metadata": {
        "id": "DpmlRyHTqdHN"
      },
      "source": [
        "以下字典中的四个指标对应训练过程中的验证过程和监控指标。以下为对数据进行可视化"
      ]
    },
    {
      "cell_type": "code",
      "metadata": {
        "id": "vzxc83YJq72G",
        "colab": {
          "base_uri": "https://localhost:8080/"
        },
        "outputId": "6a865f99-7031-4291-ac26-d913e7704203"
      },
      "source": [
        "history_dict = history.history\n",
        "history_dict.keys()"
      ],
      "execution_count": 9,
      "outputs": [
        {
          "output_type": "execute_result",
          "data": {
            "text/plain": [
              "dict_keys(['loss', 'accuracy', 'val_loss', 'val_accuracy'])"
            ]
          },
          "metadata": {
            "tags": []
          },
          "execution_count": 9
        }
      ]
    },
    {
      "cell_type": "code",
      "metadata": {
        "id": "BN6LW4yLrH_3",
        "colab": {
          "base_uri": "https://localhost:8080/",
          "height": 295
        },
        "outputId": "7f07b9d5-ec92-4ffd-f217-469b09184638"
      },
      "source": [
        "import matplotlib.pyplot as plt\n",
        "\n",
        "acc = history.history['accuracy']\n",
        "val_acc = history.history['val_accuracy']\n",
        "loss = history.history['loss']\n",
        "val_loss = history.history['val_loss']\n",
        "\n",
        "epochs = range(1, len(acc) + 1)\n",
        "\n",
        "# \"bo\" is for \"blue dot\"\n",
        "plt.plot(epochs, loss, 'bo', label='Training Loss')\n",
        "# b is for \"solid blue line\"\n",
        "plt.plot(epochs, val_loss, 'b', label='Validation Loss')\n",
        "plt.title('Training and Validation Loss')\n",
        "plt.xlabel('Epochs')\n",
        "plt.ylabel('Loss')\n",
        "plt.legend()\n",
        "\n",
        "plt.show()"
      ],
      "execution_count": 10,
      "outputs": [
        {
          "output_type": "display_data",
          "data": {
            "image/png": "[encoded data removed]",
            "text/plain": [
              "<Figure size 432x288 with 1 Axes>"
            ]
          },
          "metadata": {
            "tags": [],
            "needs_background": "light"
          }
        }
      ]
    },
    {
      "cell_type": "code",
      "metadata": {
        "id": "KqiJQ9XerLyy",
        "colab": {
          "base_uri": "https://localhost:8080/",
          "height": 295
        },
        "outputId": "fc908911-b670-45c3-a42e-36f8f6a5c875"
      },
      "source": [
        "plt.clf()   # clear figure\n",
        "acc_values = history_dict['accuracy']\n",
        "val_acc_values = history_dict['val_accuracy']\n",
        "\n",
        "plt.plot(epochs, acc, 'bo', label='Training Acc')\n",
        "plt.plot(epochs, val_acc, 'b', label='Validation Acc')\n",
        "plt.title('Training and Validation Accuracy')\n",
        "plt.xlabel('Epochs')\n",
        "plt.ylabel('Loss')\n",
        "plt.legend()\n",
        "\n",
        "plt.show()"
      ],
      "execution_count": 11,
      "outputs": [
        {
          "output_type": "display_data",
          "data": {
            "image/png": "[encoded data removed]",
            "text/plain": [
              "<Figure size 432x288 with 1 Axes>"
            ]
          },
          "metadata": {
            "tags": [],
            "needs_background": "light"
          }
        }
      ]
    },
    {
      "cell_type": "markdown",
      "metadata": {
        "id": "DknDdSJrrYmL"
      },
      "source": [
        "然后从头开始训练一个网络\n"
      ]
    },
    {
      "cell_type": "code",
      "metadata": {
        "id": "ah7Zet4ircfr",
        "colab": {
          "base_uri": "https://localhost:8080/"
        },
        "outputId": "564795d6-714d-49b5-f7be-8a0b320159de"
      },
      "source": [
        "model = models.Sequential()\n",
        "model.add(layers.Dense(16, activation='relu', input_shape=(10000,)))\n",
        "model.add(layers.Dense(16, activation='relu'))\n",
        "model.add(layers.Dense(1, activation='sigmoid'))\n",
        "\n",
        "model.compile(optimizer='rmsprop',\n",
        "              loss='binary_crossentropy',\n",
        "              metrics=['accuracy'])\n",
        "\n",
        "history_original = model.fit(x_train, y_train, epochs=4, batch_size=512, validation_data=(x_val, y_val))\n",
        "results = model.evaluate(x_test, y_test)"
      ],
      "execution_count": 12,
      "outputs": [
        {
          "output_type": "stream",
          "text": [
            "Epoch 1/4\n",
            "49/49 [==============================] - 2s 48ms/step - loss: 0.4639 - accuracy: 0.8229 - val_loss: 0.3034 - val_accuracy: 0.9076\n",
            "Epoch 2/4\n",
            "49/49 [==============================] - 2s 40ms/step - loss: 0.2708 - accuracy: 0.9082 - val_loss: 0.2267 - val_accuracy: 0.9217\n",
            "Epoch 3/4\n",
            "49/49 [==============================] - 2s 39ms/step - loss: 0.2087 - accuracy: 0.9272 - val_loss: 0.1653 - val_accuracy: 0.9493\n",
            "Epoch 4/4\n",
            "49/49 [==============================] - 2s 39ms/step - loss: 0.1744 - accuracy: 0.9388 - val_loss: 0.1380 - val_accuracy: 0.9576\n",
            "782/782 [==============================] - 2s 2ms/step - loss: 0.2869 - accuracy: 0.8864\n"
          ],
          "name": "stdout"
        }
      ]
    },
    {
      "cell_type": "code",
      "metadata": {
        "id": "ZW5tdJFsreyY",
        "colab": {
          "base_uri": "https://localhost:8080/"
        },
        "outputId": "1c70bbd9-60c6-486c-ef01-d25835bafe93"
      },
      "source": [
        "results"
      ],
      "execution_count": 13,
      "outputs": [
        {
          "output_type": "execute_result",
          "data": {
            "text/plain": [
              "[0.2869228422641754, 0.8864399790763855]"
            ]
          },
          "metadata": {
            "tags": []
          },
          "execution_count": 13
        }
      ]
    },
    {
      "cell_type": "markdown",
      "metadata": {
        "id": "g14B8wlqri5W"
      },
      "source": [
        "使用训练好的网路在新数据上生成预测结果"
      ]
    },
    {
      "cell_type": "code",
      "metadata": {
        "id": "wrIuTAldrozb",
        "colab": {
          "base_uri": "https://localhost:8080/"
        },
        "outputId": "303271fe-7ac4-49b9-b521-cd8dc16a7089"
      },
      "source": [
        "model.predict(x_test)"
      ],
      "execution_count": 14,
      "outputs": [
        {
          "output_type": "execute_result",
          "data": {
            "text/plain": [
              "array([[0.20975155],\n",
              "       [0.999835  ],\n",
              "       [0.93700194],\n",
              "       ...,\n",
              "       [0.11754999],\n",
              "       [0.0749051 ],\n",
              "       [0.54305625]], dtype=float32)"
            ]
          },
          "metadata": {
            "tags": []
          },
          "execution_count": 14
        }
      ]
    },
    {
      "cell_type": "markdown",
      "metadata": {
        "id": "G2iZlGXE1aPF"
      },
      "source": [
        "## 进一步实验\n",
        "通过以下实现，你可以确信前面选择的网络架构挺合理，但还有改进空间。\n",
        "* 尝试使用一个或3个以上的隐藏层，观察对验证精度和测试精度的影响。\n",
        "* 尝试使用更少的隐藏单元。\n",
        "* 尝试使用mse损失函数代替binary_crosseentropy。\n",
        "* 尝试使用tanh激活（该激活函数在神经网络早期流行）代替relu。"
      ]
    },
    {
      "cell_type": "markdown",
      "metadata": {
        "id": "y6vLZ96i3ALc"
      },
      "source": [
        "### 减少网络容量"
      ]
    },
    {
      "cell_type": "code",
      "metadata": {
        "colab": {
          "base_uri": "https://localhost:8080/"
        },
        "id": "L2FdoUJo3F9d",
        "outputId": "21d40cf7-0e88-46ce-e8b3-efa316087ddf"
      },
      "source": [
        "model = models.Sequential()\n",
        "model.add(layers.Dense(4, activation='relu', input_shape=(10000,)))\n",
        "model.add(layers.Dense(4, activation='relu'))\n",
        "model.add(layers.Dense(1, activation='sigmoid'))\n",
        "\n",
        "model.compile(optimizer='rmsprop',\n",
        "              loss='binary_crossentropy',\n",
        "              metrics=['accuracy'])\n",
        "\n",
        "\n",
        "history_tiny = model.fit(x_train, y_train, epochs=20, batch_size=512, validation_data=(x_val, y_val))\n",
        "results = model.evaluate(x_test, y_test)"
      ],
      "execution_count": 15,
      "outputs": [
        {
          "output_type": "stream",
          "text": [
            "Epoch 1/20\n",
            "49/49 [==============================] - 2s 41ms/step - loss: 0.5910 - accuracy: 0.7091 - val_loss: 0.4987 - val_accuracy: 0.8448\n",
            "Epoch 2/20\n",
            "49/49 [==============================] - 2s 36ms/step - loss: 0.4642 - accuracy: 0.8649 - val_loss: 0.3900 - val_accuracy: 0.9199\n",
            "Epoch 3/20\n",
            "49/49 [==============================] - 2s 35ms/step - loss: 0.3268 - accuracy: 0.9122 - val_loss: 0.2559 - val_accuracy: 0.9344\n",
            "Epoch 4/20\n",
            "49/49 [==============================] - 2s 34ms/step - loss: 0.2384 - accuracy: 0.9279 - val_loss: 0.1993 - val_accuracy: 0.9423\n",
            "Epoch 5/20\n",
            "49/49 [==============================] - 2s 34ms/step - loss: 0.1974 - accuracy: 0.9372 - val_loss: 0.1695 - val_accuracy: 0.9501\n",
            "Epoch 6/20\n",
            "49/49 [==============================] - 2s 34ms/step - loss: 0.1735 - accuracy: 0.9441 - val_loss: 0.1488 - val_accuracy: 0.9568\n",
            "Epoch 7/20\n",
            "49/49 [==============================] - 2s 35ms/step - loss: 0.1542 - accuracy: 0.9505 - val_loss: 0.1328 - val_accuracy: 0.9626\n",
            "Epoch 8/20\n",
            "49/49 [==============================] - 2s 35ms/step - loss: 0.1408 - accuracy: 0.9537 - val_loss: 0.1203 - val_accuracy: 0.9663\n",
            "Epoch 9/20\n",
            "49/49 [==============================] - 2s 35ms/step - loss: 0.1277 - accuracy: 0.9589 - val_loss: 0.1114 - val_accuracy: 0.9677\n",
            "Epoch 10/20\n",
            "49/49 [==============================] - 2s 34ms/step - loss: 0.1181 - accuracy: 0.9628 - val_loss: 0.1005 - val_accuracy: 0.9721\n",
            "Epoch 11/20\n",
            "49/49 [==============================] - 2s 35ms/step - loss: 0.1087 - accuracy: 0.9665 - val_loss: 0.0930 - val_accuracy: 0.9758\n",
            "Epoch 12/20\n",
            "49/49 [==============================] - 2s 34ms/step - loss: 0.1002 - accuracy: 0.9692 - val_loss: 0.0861 - val_accuracy: 0.9776\n",
            "Epoch 13/20\n",
            "49/49 [==============================] - 2s 36ms/step - loss: 0.0926 - accuracy: 0.9718 - val_loss: 0.0825 - val_accuracy: 0.9768\n",
            "Epoch 14/20\n",
            "49/49 [==============================] - 2s 36ms/step - loss: 0.0857 - accuracy: 0.9747 - val_loss: 0.0717 - val_accuracy: 0.9821\n",
            "Epoch 15/20\n",
            "49/49 [==============================] - 2s 35ms/step - loss: 0.0798 - accuracy: 0.9767 - val_loss: 0.0684 - val_accuracy: 0.9827\n",
            "Epoch 16/20\n",
            "49/49 [==============================] - 2s 37ms/step - loss: 0.0739 - accuracy: 0.9788 - val_loss: 0.0645 - val_accuracy: 0.9840\n",
            "Epoch 17/20\n",
            "49/49 [==============================] - 2s 35ms/step - loss: 0.0681 - accuracy: 0.9806 - val_loss: 0.0565 - val_accuracy: 0.9866\n",
            "Epoch 18/20\n",
            "49/49 [==============================] - 2s 35ms/step - loss: 0.0628 - accuracy: 0.9832 - val_loss: 0.0518 - val_accuracy: 0.9885\n",
            "Epoch 19/20\n",
            "49/49 [==============================] - 2s 35ms/step - loss: 0.0587 - accuracy: 0.9837 - val_loss: 0.0509 - val_accuracy: 0.9882\n",
            "Epoch 20/20\n",
            "49/49 [==============================] - 2s 34ms/step - loss: 0.0538 - accuracy: 0.9865 - val_loss: 0.0445 - val_accuracy: 0.9905\n",
            "782/782 [==============================] - 2s 3ms/step - loss: 0.5145 - accuracy: 0.8571\n"
          ],
          "name": "stdout"
        }
      ]
    },
    {
      "cell_type": "code",
      "metadata": {
        "colab": {
          "base_uri": "https://localhost:8080/"
        },
        "id": "VbXnEQ6c8uwL",
        "outputId": "6a15ccba-356f-4232-9e31-5c2e86613b4f"
      },
      "source": [
        "history_dict = history_tiny.history\n",
        "history_dict.keys()"
      ],
      "execution_count": 16,
      "outputs": [
        {
          "output_type": "execute_result",
          "data": {
            "text/plain": [
              "dict_keys(['loss', 'accuracy', 'val_loss', 'val_accuracy'])"
            ]
          },
          "metadata": {
            "tags": []
          },
          "execution_count": 16
        }
      ]
    },
    {
      "cell_type": "code",
      "metadata": {
        "colab": {
          "base_uri": "https://localhost:8080/",
          "height": 295
        },
        "id": "cgb9XCeY3p0j",
        "outputId": "f664dbf3-f1ae-44d7-8360-b2a6c7feba19"
      },
      "source": [
        "import matplotlib.pyplot as plt\n",
        "\n",
        "acc_tiny = history_tiny.history['accuracy']\n",
        "val_acc_tiny = history_tiny.history['val_accuracy']\n",
        "loss_tiny = history_tiny.history['loss']\n",
        "val_loss_tiny = history_tiny.history['val_loss']\n",
        "\n",
        "acc = history.history['accuracy']\n",
        "val_acc = history.history['val_accuracy']\n",
        "loss = history.history['loss']\n",
        "val_loss = history.history['val_loss']\n",
        "\n",
        "epochs = range(1, len(acc) + 1)\n",
        "\n",
        "# \"bo\" is for \"blue dot\"\n",
        "plt.plot(epochs, val_loss_tiny, 'bo', label='Tiny Network Model')\n",
        "# b is for \"solid blue line\"\n",
        "plt.plot(epochs, val_loss, 'b', label='Original Model')\n",
        "plt.title('Validation Loss with Tiny Network')\n",
        "plt.xlabel('Epochs')\n",
        "plt.ylabel('Validation Loss')\n",
        "plt.legend()\n",
        "\n",
        "plt.show()"
      ],
      "execution_count": 17,
      "outputs": [
        {
          "output_type": "display_data",
          "data": {
            "image/png": "[encoded data removed]",
            "text/plain": [
              "<Figure size 432x288 with 1 Axes>"
            ]
          },
          "metadata": {
            "tags": [],
            "needs_background": "light"
          }
        }
      ]
    },
    {
      "cell_type": "markdown",
      "metadata": {
        "id": "Q3bFvgQc_4_5"
      },
      "source": [
        "### 增大网络容量\n"
      ]
    },
    {
      "cell_type": "code",
      "metadata": {
        "colab": {
          "base_uri": "https://localhost:8080/"
        },
        "id": "9RrmsxE_ACUG",
        "outputId": "7f3cd46f-6c60-42f3-95cf-d7a5c22a41b3"
      },
      "source": [
        "model = models.Sequential()\n",
        "model.add(layers.Dense(256, activation='relu', input_shape=(10000,)))\n",
        "model.add(layers.Dense(256, activation='relu'))\n",
        "model.add(layers.Dense(1, activation='sigmoid'))\n",
        "\n",
        "model.compile(optimizer='rmsprop',\n",
        "              loss='binary_crossentropy',\n",
        "              metrics=['accuracy'])\n",
        "\n",
        "\n",
        "history_huge = model.fit(x_train, y_train, epochs=20, batch_size=512, validation_data=(x_val, y_val))\n",
        "results = model.evaluate(x_test, y_test)"
      ],
      "execution_count": 18,
      "outputs": [
        {
          "output_type": "stream",
          "text": [
            "Epoch 1/20\n",
            "49/49 [==============================] - 8s 157ms/step - loss: 0.4416 - accuracy: 0.8027 - val_loss: 0.2066 - val_accuracy: 0.9310\n",
            "Epoch 2/20\n",
            "49/49 [==============================] - 8s 155ms/step - loss: 0.2292 - accuracy: 0.9100 - val_loss: 0.1361 - val_accuracy: 0.9615\n",
            "Epoch 3/20\n",
            "49/49 [==============================] - 8s 154ms/step - loss: 0.1476 - accuracy: 0.9444 - val_loss: 0.0691 - val_accuracy: 0.9798\n",
            "Epoch 4/20\n",
            "49/49 [==============================] - 8s 154ms/step - loss: 0.0786 - accuracy: 0.9720 - val_loss: 0.0289 - val_accuracy: 0.9932\n",
            "Epoch 5/20\n",
            "49/49 [==============================] - 8s 155ms/step - loss: 0.0529 - accuracy: 0.9855 - val_loss: 0.0073 - val_accuracy: 0.9991\n",
            "Epoch 6/20\n",
            "49/49 [==============================] - 8s 155ms/step - loss: 0.0496 - accuracy: 0.9892 - val_loss: 0.0035 - val_accuracy: 0.9996\n",
            "Epoch 7/20\n",
            "49/49 [==============================] - 8s 155ms/step - loss: 0.0468 - accuracy: 0.9909 - val_loss: 0.0049 - val_accuracy: 0.9999\n",
            "Epoch 8/20\n",
            "49/49 [==============================] - 8s 153ms/step - loss: 0.0022 - accuracy: 0.9999 - val_loss: 5.6677e-04 - val_accuracy: 1.0000\n",
            "Epoch 9/20\n",
            "49/49 [==============================] - 8s 155ms/step - loss: 0.0738 - accuracy: 0.9914 - val_loss: 0.0013 - val_accuracy: 1.0000\n",
            "Epoch 10/20\n",
            "49/49 [==============================] - 8s 154ms/step - loss: 7.3154e-04 - accuracy: 1.0000 - val_loss: 2.3426e-04 - val_accuracy: 1.0000\n",
            "Epoch 11/20\n",
            "49/49 [==============================] - 8s 155ms/step - loss: 1.7354e-04 - accuracy: 1.0000 - val_loss: 4.0105e-05 - val_accuracy: 1.0000\n",
            "Epoch 12/20\n",
            "49/49 [==============================] - 8s 162ms/step - loss: 0.0832 - accuracy: 0.9917 - val_loss: 4.1403e-04 - val_accuracy: 1.0000\n",
            "Epoch 13/20\n",
            "49/49 [==============================] - 8s 165ms/step - loss: 2.1203e-04 - accuracy: 1.0000 - val_loss: 7.3866e-05 - val_accuracy: 1.0000\n",
            "Epoch 14/20\n",
            "49/49 [==============================] - 8s 154ms/step - loss: 5.8165e-05 - accuracy: 1.0000 - val_loss: 1.4354e-05 - val_accuracy: 1.0000\n",
            "Epoch 15/20\n",
            "49/49 [==============================] - 8s 155ms/step - loss: 9.5631e-06 - accuracy: 1.0000 - val_loss: 2.6998e-06 - val_accuracy: 1.0000\n",
            "Epoch 16/20\n",
            "49/49 [==============================] - 8s 155ms/step - loss: 0.0111 - accuracy: 0.9982 - val_loss: 3.2630 - val_accuracy: 0.7609\n",
            "Epoch 17/20\n",
            "49/49 [==============================] - 8s 153ms/step - loss: 0.0768 - accuracy: 0.9937 - val_loss: 4.7573e-06 - val_accuracy: 1.0000\n",
            "Epoch 18/20\n",
            "49/49 [==============================] - 8s 160ms/step - loss: 4.2949e-06 - accuracy: 1.0000 - val_loss: 3.0819e-06 - val_accuracy: 1.0000\n",
            "Epoch 19/20\n",
            "49/49 [==============================] - 8s 158ms/step - loss: 2.3874e-06 - accuracy: 1.0000 - val_loss: 1.3414e-06 - val_accuracy: 1.0000\n",
            "Epoch 20/20\n",
            "49/49 [==============================] - 8s 156ms/step - loss: 8.1792e-07 - accuracy: 1.0000 - val_loss: 3.2732e-07 - val_accuracy: 1.0000\n",
            "782/782 [==============================] - 6s 8ms/step - loss: 1.3838 - accuracy: 0.8744\n"
          ],
          "name": "stdout"
        }
      ]
    },
    {
      "cell_type": "code",
      "metadata": {
        "colab": {
          "base_uri": "https://localhost:8080/",
          "height": 295
        },
        "id": "N_hANLY6AUW9",
        "outputId": "575bed0c-eb7a-41d2-dcf9-9d12e92d85bd"
      },
      "source": [
        "import matplotlib.pyplot as plt\n",
        "\n",
        "acc = history.history['accuracy']\n",
        "val_acc = history.history['val_accuracy']\n",
        "loss = history.history['loss']\n",
        "val_loss = history.history['val_loss']\n",
        "\n",
        "acc_huge = history_huge.history['accuracy']\n",
        "val_acc_huge = history_huge.history['val_accuracy']\n",
        "loss_huge = history_huge.history['loss']\n",
        "val_loss_huge = history_huge.history['val_loss']\n",
        "\n",
        "epochs = range(1, len(acc) + 1)\n",
        "\n",
        "# \"g^\" if for \"green triangles\"\n",
        "plt.plot(epochs, val_loss_huge, 'g^', label='Huge Network Model')\n",
        "# \"b--\" is for \"solid blue dashes\"\n",
        "plt.plot(epochs, val_loss, 'b--', label='Original Model')\n",
        "plt.title('Validation Loss with Huge Network')\n",
        "plt.xlabel('Epochs')\n",
        "plt.ylabel('Validation Loss')\n",
        "plt.legend()\n",
        "\n",
        "plt.show()"
      ],
      "execution_count": 19,
      "outputs": [
        {
          "output_type": "display_data",
          "data": {
            "image/png": "[encoded data removed]",
            "text/plain": [
              "<Figure size 432x288 with 1 Axes>"
            ]
          },
          "metadata": {
            "tags": [],
            "needs_background": "light"
          }
        }
      ]
    },
    {
      "cell_type": "markdown",
      "metadata": {
        "id": "PUsGkFv3CBwN"
      },
      "source": [
        "### 添加权重正则化"
      ]
    },
    {
      "cell_type": "code",
      "metadata": {
        "id": "xS4Wq6fbCNVZ"
      },
      "source": [
        "# 添加权重l2正则化\n",
        "from keras import regularizers\n",
        "\n",
        "model = models.Sequential()\n",
        "model.add(layers.Dense(16, kernel_regularizer=regularizers.l2(0.001) ,activation='relu', input_shape=(10000,)))\n",
        "model.add(layers.Dense(16, kernel_regularizer=regularizers.l2(0.001) ,activation='relu'))\n",
        "model.add(layers.Dense(1, activation='sigmoid'))"
      ],
      "execution_count": 20,
      "outputs": []
    },
    {
      "cell_type": "code",
      "metadata": {
        "colab": {
          "base_uri": "https://localhost:8080/"
        },
        "id": "rH9b-HYVDAJg",
        "outputId": "b0f96dfa-6854-42e3-be70-335fc362e15b"
      },
      "source": [
        "model.compile(optimizer='rmsprop',\n",
        "              loss='binary_crossentropy',\n",
        "              metrics=['accuracy'])\n",
        "\n",
        "\n",
        "history_regularizers = model.fit(x_train, y_train, epochs=20, batch_size=512, validation_data=(x_val, y_val))\n",
        "results = model.evaluate(x_test, y_test)"
      ],
      "execution_count": 21,
      "outputs": [
        {
          "output_type": "stream",
          "text": [
            "Epoch 1/20\n",
            "49/49 [==============================] - 2s 49ms/step - loss: 0.5206 - accuracy: 0.8116 - val_loss: 0.3525 - val_accuracy: 0.9046\n",
            "Epoch 2/20\n",
            "49/49 [==============================] - 2s 41ms/step - loss: 0.3282 - accuracy: 0.8999 - val_loss: 0.2745 - val_accuracy: 0.9253\n",
            "Epoch 3/20\n",
            "49/49 [==============================] - 2s 40ms/step - loss: 0.2807 - accuracy: 0.9174 - val_loss: 0.2438 - val_accuracy: 0.9362\n",
            "Epoch 4/20\n",
            "49/49 [==============================] - 2s 40ms/step - loss: 0.2576 - accuracy: 0.9264 - val_loss: 0.2232 - val_accuracy: 0.9477\n",
            "Epoch 5/20\n",
            "49/49 [==============================] - 2s 41ms/step - loss: 0.2462 - accuracy: 0.9305 - val_loss: 0.2151 - val_accuracy: 0.9487\n",
            "Epoch 6/20\n",
            "49/49 [==============================] - 2s 40ms/step - loss: 0.2365 - accuracy: 0.9352 - val_loss: 0.2026 - val_accuracy: 0.9569\n",
            "Epoch 7/20\n",
            "49/49 [==============================] - 2s 41ms/step - loss: 0.2302 - accuracy: 0.9378 - val_loss: 0.1986 - val_accuracy: 0.9570\n",
            "Epoch 8/20\n",
            "49/49 [==============================] - 2s 41ms/step - loss: 0.2259 - accuracy: 0.9385 - val_loss: 0.2322 - val_accuracy: 0.9322\n",
            "Epoch 9/20\n",
            "49/49 [==============================] - 2s 40ms/step - loss: 0.2171 - accuracy: 0.9428 - val_loss: 0.1975 - val_accuracy: 0.9545\n",
            "Epoch 10/20\n",
            "49/49 [==============================] - 2s 40ms/step - loss: 0.2165 - accuracy: 0.9426 - val_loss: 0.1802 - val_accuracy: 0.9651\n",
            "Epoch 11/20\n",
            "49/49 [==============================] - 2s 42ms/step - loss: 0.2114 - accuracy: 0.9444 - val_loss: 0.1753 - val_accuracy: 0.9652\n",
            "Epoch 12/20\n",
            "49/49 [==============================] - 2s 40ms/step - loss: 0.2079 - accuracy: 0.9441 - val_loss: 0.1896 - val_accuracy: 0.9558\n",
            "Epoch 13/20\n",
            "49/49 [==============================] - 2s 41ms/step - loss: 0.2073 - accuracy: 0.9449 - val_loss: 0.1710 - val_accuracy: 0.9654\n",
            "Epoch 14/20\n",
            "49/49 [==============================] - 2s 40ms/step - loss: 0.2017 - accuracy: 0.9479 - val_loss: 0.1661 - val_accuracy: 0.9680\n",
            "Epoch 15/20\n",
            "49/49 [==============================] - 2s 40ms/step - loss: 0.2014 - accuracy: 0.9468 - val_loss: 0.1708 - val_accuracy: 0.9647\n",
            "Epoch 16/20\n",
            "49/49 [==============================] - 2s 40ms/step - loss: 0.1961 - accuracy: 0.9484 - val_loss: 0.1831 - val_accuracy: 0.9571\n",
            "Epoch 17/20\n",
            "49/49 [==============================] - 2s 40ms/step - loss: 0.2011 - accuracy: 0.9452 - val_loss: 0.1604 - val_accuracy: 0.9693\n",
            "Epoch 18/20\n",
            "49/49 [==============================] - 2s 40ms/step - loss: 0.1928 - accuracy: 0.9502 - val_loss: 0.1562 - val_accuracy: 0.9696\n",
            "Epoch 19/20\n",
            "49/49 [==============================] - 2s 40ms/step - loss: 0.1931 - accuracy: 0.9486 - val_loss: 0.1592 - val_accuracy: 0.9692\n",
            "Epoch 20/20\n",
            "49/49 [==============================] - 2s 40ms/step - loss: 0.1890 - accuracy: 0.9518 - val_loss: 0.1638 - val_accuracy: 0.9687\n",
            "782/782 [==============================] - 2s 3ms/step - loss: 0.4396 - accuracy: 0.8632\n"
          ],
          "name": "stdout"
        }
      ]
    },
    {
      "cell_type": "code",
      "metadata": {
        "colab": {
          "base_uri": "https://localhost:8080/",
          "height": 295
        },
        "id": "DktRR1lxDaYe",
        "outputId": "69b61488-1329-494d-cd9d-4f85fe9a2493"
      },
      "source": [
        "# original data\n",
        "acc = history.history['accuracy']\n",
        "val_acc = history.history['val_accuracy']\n",
        "loss = history.history['loss']\n",
        "val_loss = history.history['val_loss']\n",
        "\n",
        "# training data\n",
        "acc_regularizers = history_regularizers.history['accuracy']\n",
        "val_acc_regularizers = history_regularizers.history['val_accuracy']\n",
        "loss_regularizers = history_regularizers.history['loss']\n",
        "val_loss_regularizers = history_regularizers.history['val_loss']\n",
        "\n",
        "epochs = range(1, len(acc) + 1)\n",
        "\n",
        "# \"g^\" if for \"green triangles\"\n",
        "plt.plot(epochs, val_loss_regularizers, 'g^', label='Network with Regularizers')\n",
        "# \"b--\" is for \"solid blue dashes\"\n",
        "plt.plot(epochs, val_loss, 'b--', label='Original Model')\n",
        "plt.title('Validation Loss with Regularizers')\n",
        "plt.xlabel('Epochs')\n",
        "plt.ylabel('Validation Loss')\n",
        "plt.legend()\n",
        "\n",
        "plt.show()"
      ],
      "execution_count": 22,
      "outputs": [
        {
          "output_type": "display_data",
          "data": {
            "image/png": "[encoded data removed]",
            "text/plain": [
              "<Figure size 432x288 with 1 Axes>"
            ]
          },
          "metadata": {
            "tags": [],
            "needs_background": "light"
          }
        }
      ]
    },
    {
      "cell_type": "markdown",
      "metadata": {
        "id": "O6C79LZrCjOK"
      },
      "source": [
        "### 添加dropout正则化"
      ]
    },
    {
      "cell_type": "code",
      "metadata": {
        "id": "E_bCGVWrCref"
      },
      "source": [
        "odel = models.Sequential()\n",
        "model.add(layers.Dense(16, activation='relu', input_shape=(10000,)))\n",
        "model.add(layers.Dropout(0.5))\n",
        "model.add(layers.Dense(16, activation='relu'))\n",
        "model.add(layers.Dropout(0.5))\n",
        "model.add(layers.Dense(1, activation='sigmoid'))"
      ],
      "execution_count": 23,
      "outputs": []
    },
    {
      "cell_type": "code",
      "metadata": {
        "colab": {
          "base_uri": "https://localhost:8080/"
        },
        "id": "5GgUrcquDDrN",
        "outputId": "6a7d9112-8f2c-4fb9-f3b8-4ba8505b64c6"
      },
      "source": [
        "model.compile(optimizer='rmsprop',\n",
        "              loss='binary_crossentropy',\n",
        "              metrics=['accuracy'])\n",
        "\n",
        "\n",
        "history_dropout = model.fit(x_train, y_train, epochs=20, batch_size=512, validation_data=(x_val, y_val))\n",
        "results = model.evaluate(x_test, y_test)"
      ],
      "execution_count": 24,
      "outputs": [
        {
          "output_type": "stream",
          "text": [
            "Epoch 1/20\n",
            "49/49 [==============================] - 2s 49ms/step - loss: 0.6830 - accuracy: 0.7728 - val_loss: 0.6545 - val_accuracy: 0.8883\n",
            "Epoch 2/20\n",
            "49/49 [==============================] - 2s 42ms/step - loss: 0.6309 - accuracy: 0.8288 - val_loss: 0.6071 - val_accuracy: 0.9229\n",
            "Epoch 3/20\n",
            "49/49 [==============================] - 2s 41ms/step - loss: 0.5814 - accuracy: 0.8596 - val_loss: 0.5429 - val_accuracy: 0.9254\n",
            "Epoch 4/20\n",
            "49/49 [==============================] - 2s 41ms/step - loss: 0.5287 - accuracy: 0.8788 - val_loss: 0.4557 - val_accuracy: 0.9291\n",
            "Epoch 5/20\n",
            "49/49 [==============================] - 2s 40ms/step - loss: 0.4851 - accuracy: 0.8905 - val_loss: 0.3968 - val_accuracy: 0.9441\n",
            "Epoch 6/20\n",
            "49/49 [==============================] - 2s 40ms/step - loss: 0.4447 - accuracy: 0.9013 - val_loss: 0.3559 - val_accuracy: 0.9435\n",
            "Epoch 7/20\n",
            "49/49 [==============================] - 2s 40ms/step - loss: 0.4201 - accuracy: 0.9050 - val_loss: 0.3280 - val_accuracy: 0.9459\n",
            "Epoch 8/20\n",
            "49/49 [==============================] - 2s 41ms/step - loss: 0.3937 - accuracy: 0.9108 - val_loss: 0.3153 - val_accuracy: 0.9438\n",
            "Epoch 9/20\n",
            "49/49 [==============================] - 2s 41ms/step - loss: 0.3736 - accuracy: 0.9155 - val_loss: 0.3194 - val_accuracy: 0.9289\n",
            "Epoch 10/20\n",
            "49/49 [==============================] - 2s 41ms/step - loss: 0.3614 - accuracy: 0.9142 - val_loss: 0.2694 - val_accuracy: 0.9559\n",
            "Epoch 11/20\n",
            "49/49 [==============================] - 2s 41ms/step - loss: 0.3468 - accuracy: 0.9166 - val_loss: 0.2864 - val_accuracy: 0.9345\n",
            "Epoch 12/20\n",
            "49/49 [==============================] - 2s 44ms/step - loss: 0.3389 - accuracy: 0.9186 - val_loss: 0.2407 - val_accuracy: 0.9596\n",
            "Epoch 13/20\n",
            "49/49 [==============================] - 2s 44ms/step - loss: 0.3316 - accuracy: 0.9184 - val_loss: 0.2440 - val_accuracy: 0.9552\n",
            "Epoch 14/20\n",
            "49/49 [==============================] - 2s 41ms/step - loss: 0.3240 - accuracy: 0.9213 - val_loss: 0.2237 - val_accuracy: 0.9619\n",
            "Epoch 15/20\n",
            "49/49 [==============================] - 2s 41ms/step - loss: 0.3117 - accuracy: 0.9260 - val_loss: 0.2154 - val_accuracy: 0.9637\n",
            "Epoch 16/20\n",
            "49/49 [==============================] - 2s 41ms/step - loss: 0.3103 - accuracy: 0.9279 - val_loss: 0.2844 - val_accuracy: 0.9176\n",
            "Epoch 17/20\n",
            "49/49 [==============================] - 2s 40ms/step - loss: 0.3019 - accuracy: 0.9300 - val_loss: 0.2020 - val_accuracy: 0.9668\n",
            "Epoch 18/20\n",
            "49/49 [==============================] - 2s 40ms/step - loss: 0.3009 - accuracy: 0.9298 - val_loss: 0.3011 - val_accuracy: 0.9060\n",
            "Epoch 19/20\n",
            "49/49 [==============================] - 2s 40ms/step - loss: 0.2948 - accuracy: 0.9304 - val_loss: 0.2187 - val_accuracy: 0.9542\n",
            "Epoch 20/20\n",
            "49/49 [==============================] - 2s 41ms/step - loss: 0.2944 - accuracy: 0.9299 - val_loss: 0.1953 - val_accuracy: 0.9665\n",
            "782/782 [==============================] - 2s 3ms/step - loss: 0.5528 - accuracy: 0.8629\n"
          ],
          "name": "stdout"
        }
      ]
    },
    {
      "cell_type": "code",
      "metadata": {
        "colab": {
          "base_uri": "https://localhost:8080/",
          "height": 295
        },
        "id": "0fVIz7zTD9WR",
        "outputId": "19b127bc-20e6-46eb-d738-1e09105bf7bf"
      },
      "source": [
        "# original data\n",
        "acc = history.history['accuracy']\n",
        "val_acc = history.history['val_accuracy']\n",
        "loss = history.history['loss']\n",
        "val_loss = history.history['val_loss']\n",
        "\n",
        "# training data\n",
        "acc_dropout = history_dropout.history['accuracy']\n",
        "val_acc_dropout = history_dropout.history['val_accuracy']\n",
        "loss_dropout = history_dropout.history['loss']\n",
        "val_loss_dropout = history_dropout.history['val_loss']\n",
        "\n",
        "epochs = range(1, len(acc) + 1)\n",
        "\n",
        "# \"g^\" if for \"green triangles\"\n",
        "plt.plot(epochs, val_loss_dropout, 'g^', label='Network With Dropout')\n",
        "# \"b--\" is for \"solid blue dashes\"\n",
        "plt.plot(epochs, val_loss, 'b--', label='Original model')\n",
        "plt.title('Validation Loss with Dropout')\n",
        "plt.xlabel('Epochs')\n",
        "plt.ylabel('Validation Loss')\n",
        "plt.legend()\n",
        "\n",
        "plt.show()"
      ],
      "execution_count": 25,
      "outputs": [
        {
          "output_type": "display_data",
          "data": {
            "image/png": "[encoded data removed]",
            "text/plain": [
              "<Figure size 432x288 with 1 Axes>"
            ]
          },
          "metadata": {
            "tags": [],
            "needs_background": "light"
          }
        }
      ]
    },
    {
      "cell_type": "markdown",
      "metadata": {
        "id": "cK3_9dSCGxXA"
      },
      "source": [
        "### 图表汇总"
      ]
    },
    {
      "cell_type": "code",
      "metadata": {
        "colab": {
          "base_uri": "https://localhost:8080/",
          "height": 295
        },
        "id": "c0NefQinH6Qf",
        "outputId": "b8da9141-71c6-41e8-d1d3-4c52af9f2ae8"
      },
      "source": [
        "# \"bo\" is for \"blue dot\"\n",
        "plt.plot(epochs, val_loss_tiny, 'bo', label='Tiny Network Model')\n",
        "# \"g^\" if for \"green triangles\"\n",
        "plt.plot(epochs, val_loss_huge, 'g^', label='Huge Network Model')\n",
        "# \"g^\" if for \"green triangles\"\n",
        "plt.plot(epochs, val_loss_regularizers, 'g^', label='Network Model with Regularizers')\n",
        "# \"g^\" if for \"green triangles\"\n",
        "plt.plot(epochs, val_loss_dropout, 'g^', label='Network Model with Dropout')\n",
        "# \"b--\" is for \"solid blue dashes\"\n",
        "plt.plot(epochs, val_loss, 'b--', label='Original Model')\n",
        "plt.title('Validation Loss Compare')\n",
        "plt.xlabel('Epochs')\n",
        "plt.ylabel('Validation Loss')\n",
        "plt.legend()\n",
        "\n",
        "plt.show()"
      ],
      "execution_count": 26,
      "outputs": [
        {
          "output_type": "display_data",
          "data": {
            "image/png": "[encoded data removed]",
            "text/plain": [
              "<Figure size 432x288 with 1 Axes>"
            ]
          },
          "metadata": {
            "tags": [],
            "needs_background": "light"
          }
        }
      ]
    },
    {
      "cell_type": "markdown",
      "metadata": {
        "id": "zHLkVoyd2Js0"
      },
      "source": [
        "## 总结\n",
        "1. 需要对原始数据进行大量的预处理，方便将其转换为张量输入到神经网络中。单词序列使用二进制向量编码，但也有别的编码方式。\n",
        "\n",
        "2. 带有relu激活的Dense层堆叠，可以解决很多种问题。\n",
        "\n",
        "3. 对于二分类问题，网络最后一层应该是只有一个单元并使用sigmoid激活的Dense层，网络输出应该是0～1范围内的标量，表示概率值。\n",
        "\n",
        "4. 对于二分类问题的sigmoid标量输出，应该使用binary_crossentropy损失函数。\n",
        "\n",
        "5. 无论问题是什么，rmsprop优化器通常都是足够好的选择。\n",
        "\n",
        "6. 随着神经网络在训练数据上的表现越来越好，模型最终会过拟合，所以需要监控模型在训练集之外的性能。"
      ]
    }
  ]
}