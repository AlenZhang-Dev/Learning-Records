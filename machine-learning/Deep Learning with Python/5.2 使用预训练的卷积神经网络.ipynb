{
  "nbformat": 4,
  "nbformat_minor": 0,
  "metadata": {
    "colab": {
      "name": "5.3 使用预训练的卷积神经网络.ipynb",
      "provenance": [],
      "toc_visible": true,
      "authorship_tag": "ABX9TyOpqhyvic6gR3hrYMcOHPU7",
      "include_colab_link": true
    },
    "kernelspec": {
      "display_name": "Python 3",
      "name": "python3"
    },
    "accelerator": "GPU"
  },
  "cells": [
    {
      "cell_type": "markdown",
      "metadata": {
        "id": "view-in-github",
        "colab_type": "text"
      },
      "source": [
        "<a href=\"https://colab.research.google.com/github/AlenZhang-Dev/Learning-Records/blob/master/Machine%20Learning/Deep%20Learning%20with%20Python/5.3%20%E4%BD%BF%E7%94%A8%E9%A2%84%E8%AE%AD%E7%BB%83%E7%9A%84%E5%8D%B7%E7%A7%AF%E7%A5%9E%E7%BB%8F%E7%BD%91%E7%BB%9C.ipynb\" target=\"_parent\"><img src=\"https://colab.research.google.com/assets/colab-badge.svg\" alt=\"Open In Colab\"/></a>"
      ]
    },
    {
      "cell_type": "code",
      "metadata": {
        "colab": {
          "base_uri": "https://localhost:8080/"
        },
        "id": "D2dKyIwLvG7r",
        "outputId": "598aa218-aabe-45a2-8399-1c290c9d2296"
      },
      "source": [
        "# mount the drive to colab notebook\n",
        "from google.colab import drive\n",
        "drive.mount('/content/gdrive')"
      ],
      "execution_count": 1,
      "outputs": [
        {
          "output_type": "stream",
          "text": [
            "Mounted at /content/gdrive\n"
          ],
          "name": "stdout"
        }
      ]
    },
    {
      "cell_type": "markdown",
      "metadata": {
        "id": "d6GOjRBFdiO5"
      },
      "source": [
        "# 使用预训练的卷积神经网络\n",
        "使用深度学习对小型图像数据集进行训练，一种比较高效的方法是使用预训练网络。预训练网络指已经保存好的网络，之前在一个大型网络中训练好，如果这个原始数据足够大而且足够通用，那么预训练网络学到的特征的空间层次结构可以有效作为视觉领域的模型。使用预训练网络有两种方法：特征提取(feature extraction)和微调模型(fine-tuning)。"
      ]
    },
    {
      "cell_type": "markdown",
      "metadata": {
        "id": "lEW8O3ShqUji"
      },
      "source": [
        "本例中，我们使用VGG16模型进行训练。\n",
        "> VGG模型相对而言是一个比较旧的模型，性能比不了当前最陷阱的模型，且比许多新模型复杂。\n",
        "选择VGG是因为其使用的架构与我们熟悉的架构类型。\n",
        "\n",
        "\n"
      ]
    },
    {
      "cell_type": "markdown",
      "metadata": {
        "id": "AHDnLjn3qt5C"
      },
      "source": [
        "# 特征提取\n",
        "特征提取指使用之前网络学到的表示来从新样本中提取有趣的特征，然后将这些特性输入一个新的分类器，进行重新训练。在卷积神经网络中我们使用原先的卷积基，因为卷积基学到的特征更加通用，适合重复使用。某个卷积层提取的表示的通用性取决于该层在模型中的深度。模型中靠近地步的层提取的是局部的，高度通用的特征图【比如视觉边缘，颜色和纹理】。而靠近顶层的是更加抽象的概念【猫耳朵，狗眼睛】。如果你的新数据集和原始模型训练数据集有很大的差异，最好使用模型的前几层进行特征提取，而不是使用整个卷积基。\n",
        "\n"
      ]
    },
    {
      "cell_type": "markdown",
      "metadata": {
        "id": "3A3ST0c9sc4V"
      },
      "source": [
        "## 实例化VGG16卷积模型"
      ]
    },
    {
      "cell_type": "markdown",
      "metadata": {
        "id": "zfzPlOcYtgSu"
      },
      "source": [
        "向构造函数中传入三个参数\n",
        "\n",
        "*   weights 指定模型初始化的权重检查点\n",
        "*   include_top 指定模型最后是否包含密集连接分类器。默认情况下，该密集连接层对应ImageNet的1000个类别。因为我们打算使用自己的密集连接分类器（只有Dog和cat）所以不需要包含它。\n",
        "*   input_shape 指输入到网络中的图像张量的形状，这个参数完全是自己可选的，如果不传这个参数，那么这个网络能够处理任意形状输入。\n",
        "\n"
      ]
    },
    {
      "cell_type": "code",
      "metadata": {
        "colab": {
          "base_uri": "https://localhost:8080/"
        },
        "id": "MfwAZ58IqUIC",
        "outputId": "488a7f33-3804-4913-e883-dd221ea28ca0"
      },
      "source": [
        "from keras.applications import VGG16\n",
        "\n",
        "conv_base = VGG16(weights='imagenet',\n",
        "                  include_top=False,\n",
        "                  input_shape=(150, 150, 3))\n",
        "conv_base.summary()"
      ],
      "execution_count": 2,
      "outputs": [
        {
          "output_type": "stream",
          "text": [
            "Downloading data from https://storage.googleapis.com/tensorflow/keras-applications/vgg16/vgg16_weights_tf_dim_ordering_tf_kernels_notop.h5\n",
            "58892288/58889256 [==============================] - 0s 0us/step\n",
            "Model: \"vgg16\"\n",
            "_________________________________________________________________\n",
            "Layer (type)                 Output Shape              Param #   \n",
            "=================================================================\n",
            "input_1 (InputLayer)         [(None, 150, 150, 3)]     0         \n",
            "_________________________________________________________________\n",
            "block1_conv1 (Conv2D)        (None, 150, 150, 64)      1792      \n",
            "_________________________________________________________________\n",
            "block1_conv2 (Conv2D)        (None, 150, 150, 64)      36928     \n",
            "_________________________________________________________________\n",
            "block1_pool (MaxPooling2D)   (None, 75, 75, 64)        0         \n",
            "_________________________________________________________________\n",
            "block2_conv1 (Conv2D)        (None, 75, 75, 128)       73856     \n",
            "_________________________________________________________________\n",
            "block2_conv2 (Conv2D)        (None, 75, 75, 128)       147584    \n",
            "_________________________________________________________________\n",
            "block2_pool (MaxPooling2D)   (None, 37, 37, 128)       0         \n",
            "_________________________________________________________________\n",
            "block3_conv1 (Conv2D)        (None, 37, 37, 256)       295168    \n",
            "_________________________________________________________________\n",
            "block3_conv2 (Conv2D)        (None, 37, 37, 256)       590080    \n",
            "_________________________________________________________________\n",
            "block3_conv3 (Conv2D)        (None, 37, 37, 256)       590080    \n",
            "_________________________________________________________________\n",
            "block3_pool (MaxPooling2D)   (None, 18, 18, 256)       0         \n",
            "_________________________________________________________________\n",
            "block4_conv1 (Conv2D)        (None, 18, 18, 512)       1180160   \n",
            "_________________________________________________________________\n",
            "block4_conv2 (Conv2D)        (None, 18, 18, 512)       2359808   \n",
            "_________________________________________________________________\n",
            "block4_conv3 (Conv2D)        (None, 18, 18, 512)       2359808   \n",
            "_________________________________________________________________\n",
            "block4_pool (MaxPooling2D)   (None, 9, 9, 512)         0         \n",
            "_________________________________________________________________\n",
            "block5_conv1 (Conv2D)        (None, 9, 9, 512)         2359808   \n",
            "_________________________________________________________________\n",
            "block5_conv2 (Conv2D)        (None, 9, 9, 512)         2359808   \n",
            "_________________________________________________________________\n",
            "block5_conv3 (Conv2D)        (None, 9, 9, 512)         2359808   \n",
            "_________________________________________________________________\n",
            "block5_pool (MaxPooling2D)   (None, 4, 4, 512)         0         \n",
            "=================================================================\n",
            "Total params: 14,714,688\n",
            "Trainable params: 14,714,688\n",
            "Non-trainable params: 0\n",
            "_________________________________________________________________\n"
          ],
          "name": "stdout"
        }
      ]
    },
    {
      "cell_type": "markdown",
      "metadata": {
        "id": "QWfofdZppNDj"
      },
      "source": [
        "最终的特征图形状为（4, 4, 512)，我们将在这个特征上添加一个密集连接分类器。"
      ]
    },
    {
      "cell_type": "markdown",
      "metadata": {
        "id": "0ywPKtDXuUw9"
      },
      "source": [
        "## 方法一：不使用数据增强的快速特征提取\n",
        "首先，运行ImageDataGenerator实例，将图像及其标签提取为Numpy数组。我们需要调用conv_base模型的predict方法来从这些图像中提取特征。\n",
        "以下为在数据集上运行卷积基，将输出保存成硬盘中的Numpy数组，然后用这个数组作为输入，输入到独立的密集连接分类器中。"
      ]
    },
    {
      "cell_type": "code",
      "metadata": {
        "colab": {
          "base_uri": "https://localhost:8080/"
        },
        "id": "k9vUWjxju-V7",
        "outputId": "30f0d99b-3723-466f-f428-43a728325b06"
      },
      "source": [
        "import os\n",
        "import numpy as np\n",
        "from keras.preprocessing.image import ImageDataGenerator\n",
        "\n",
        "base_dir = '/content/gdrive/My Drive/Kaggle/dogs-vs-cats/dogs-vs-cats-small'\n",
        "train_dir = os.path.join(base_dir, 'train')\n",
        "validation_dir = os.path.join(base_dir, 'validation')\n",
        "test_dir = os.path.join(base_dir, 'test')\n",
        "\n",
        "datagen = ImageDataGenerator(rescale=1./255)\n",
        "batch_size = 20\n",
        "\n",
        "def extract_features(directory, sample_count):\n",
        "    features = np.zeros(shape=(sample_count, 4, 4, 512))\n",
        "    labels = np.zeros(shape=(sample_count))\n",
        "    generator = datagen.flow_from_directory(\n",
        "        directory,\n",
        "        target_size=(150, 150),\n",
        "        batch_size=batch_size,\n",
        "        class_mode='binary')\n",
        "    i = 0\n",
        "    for inputs_batch, labels_batch in generator:\n",
        "        features_batch = conv_base.predict(inputs_batch)\n",
        "        features[i * batch_size : (i + 1) * batch_size] = features_batch\n",
        "        labels[i * batch_size : (i + 1) * batch_size] = labels_batch\n",
        "        i += 1\n",
        "        if i * batch_size >= sample_count:\n",
        "            # Note that since generators yield data indefinitely in a loop,\n",
        "            # we must `break` after every image has been seen once.\n",
        "            break\n",
        "    return features, labels\n",
        "\n",
        "train_features, train_labels = extract_features(train_dir, 2000)\n",
        "validation_features, validation_labels = extract_features(validation_dir, 1000)\n",
        "test_features, test_labels = extract_features(test_dir, 1000)"
      ],
      "execution_count": 3,
      "outputs": [
        {
          "output_type": "stream",
          "text": [
            "Found 2000 images belonging to 2 classes.\n",
            "Found 1000 images belonging to 2 classes.\n",
            "Found 1000 images belonging to 2 classes.\n"
          ],
          "name": "stdout"
        }
      ]
    },
    {
      "cell_type": "markdown",
      "metadata": {
        "id": "liMImk5RvXx_"
      },
      "source": [
        "目前提取特征形状为（samples，4，4，512）我们要将其输入到密集连接分类器中，首先将其形状展平为（samples，8192）"
      ]
    },
    {
      "cell_type": "code",
      "metadata": {
        "id": "7BsNiSeTvUpk"
      },
      "source": [
        "train_features = np.reshape(train_features, (2000, 4 * 4 * 512))\n",
        "validation_features = np.reshape(validation_features, (1000, 4 * 4 * 512))\n",
        "test_features = np.reshape(test_features, (1000, 4 * 4 * 512))"
      ],
      "execution_count": 4,
      "outputs": []
    },
    {
      "cell_type": "markdown",
      "metadata": {
        "id": "QKsj7-L-v0BS"
      },
      "source": [
        "现在可以定义并训练密集连接分类器，过程很快，因为只需要处理两个Dense层\n",
        "\n"
      ]
    },
    {
      "cell_type": "code",
      "metadata": {
        "colab": {
          "base_uri": "https://localhost:8080/"
        },
        "id": "2Fz4oMnsvzkE",
        "outputId": "2c172b05-7be8-4e63-eadc-9ed167eaff23"
      },
      "source": [
        "from keras import models\n",
        "from keras import layers\n",
        "from keras import optimizers\n",
        "\n",
        "model = models.Sequential()\n",
        "model.add(layers.Dense(256, activation='relu', input_dim=4 * 4 * 512))\n",
        "model.add(layers.Dropout(0.5))\n",
        "model.add(layers.Dense(1, activation='sigmoid'))\n",
        "model.summary()\n",
        "\n",
        "model.compile(optimizer=optimizers.RMSprop(lr=2e-5),\n",
        "              loss='binary_crossentropy',\n",
        "              metrics=['acc'])\n",
        "\n",
        "history = model.fit(train_features, train_labels,\n",
        "                    epochs=30,\n",
        "                    batch_size=20,\n",
        "                    validation_data=(validation_features, validation_labels))"
      ],
      "execution_count": 5,
      "outputs": [
        {
          "output_type": "stream",
          "text": [
            "Model: \"sequential\"\n",
            "_________________________________________________________________\n",
            "Layer (type)                 Output Shape              Param #   \n",
            "=================================================================\n",
            "dense (Dense)                (None, 256)               2097408   \n",
            "_________________________________________________________________\n",
            "dropout (Dropout)            (None, 256)               0         \n",
            "_________________________________________________________________\n",
            "dense_1 (Dense)              (None, 1)                 257       \n",
            "=================================================================\n",
            "Total params: 2,097,665\n",
            "Trainable params: 2,097,665\n",
            "Non-trainable params: 0\n",
            "_________________________________________________________________\n",
            "Epoch 1/30\n",
            "100/100 [==============================] - 1s 5ms/step - loss: 0.5977 - acc: 0.6700 - val_loss: 0.4330 - val_acc: 0.8450\n",
            "Epoch 2/30\n",
            "100/100 [==============================] - 0s 4ms/step - loss: 0.4235 - acc: 0.8075 - val_loss: 0.3598 - val_acc: 0.8550\n",
            "Epoch 3/30\n",
            "100/100 [==============================] - 0s 4ms/step - loss: 0.3515 - acc: 0.8560 - val_loss: 0.3286 - val_acc: 0.8700\n",
            "Epoch 4/30\n",
            "100/100 [==============================] - 0s 4ms/step - loss: 0.2987 - acc: 0.8720 - val_loss: 0.2939 - val_acc: 0.8890\n",
            "Epoch 5/30\n",
            "100/100 [==============================] - 0s 4ms/step - loss: 0.2843 - acc: 0.8815 - val_loss: 0.2802 - val_acc: 0.8880\n",
            "Epoch 6/30\n",
            "100/100 [==============================] - 0s 4ms/step - loss: 0.2539 - acc: 0.9060 - val_loss: 0.2858 - val_acc: 0.8810\n",
            "Epoch 7/30\n",
            "100/100 [==============================] - 0s 4ms/step - loss: 0.2391 - acc: 0.9055 - val_loss: 0.2852 - val_acc: 0.8760\n",
            "Epoch 8/30\n",
            "100/100 [==============================] - 0s 4ms/step - loss: 0.2276 - acc: 0.9140 - val_loss: 0.2583 - val_acc: 0.8980\n",
            "Epoch 9/30\n",
            "100/100 [==============================] - 0s 4ms/step - loss: 0.2096 - acc: 0.9250 - val_loss: 0.2553 - val_acc: 0.8940\n",
            "Epoch 10/30\n",
            "100/100 [==============================] - 0s 4ms/step - loss: 0.1949 - acc: 0.9285 - val_loss: 0.2504 - val_acc: 0.8980\n",
            "Epoch 11/30\n",
            "100/100 [==============================] - 0s 4ms/step - loss: 0.1932 - acc: 0.9285 - val_loss: 0.2516 - val_acc: 0.8980\n",
            "Epoch 12/30\n",
            "100/100 [==============================] - 0s 4ms/step - loss: 0.1827 - acc: 0.9345 - val_loss: 0.2425 - val_acc: 0.9030\n",
            "Epoch 13/30\n",
            "100/100 [==============================] - 0s 4ms/step - loss: 0.1733 - acc: 0.9340 - val_loss: 0.2564 - val_acc: 0.8850\n",
            "Epoch 14/30\n",
            "100/100 [==============================] - 0s 4ms/step - loss: 0.1660 - acc: 0.9390 - val_loss: 0.2420 - val_acc: 0.8990\n",
            "Epoch 15/30\n",
            "100/100 [==============================] - 0s 4ms/step - loss: 0.1533 - acc: 0.9480 - val_loss: 0.2402 - val_acc: 0.9050\n",
            "Epoch 16/30\n",
            "100/100 [==============================] - 0s 4ms/step - loss: 0.1499 - acc: 0.9450 - val_loss: 0.2438 - val_acc: 0.8960\n",
            "Epoch 17/30\n",
            "100/100 [==============================] - 0s 4ms/step - loss: 0.1375 - acc: 0.9520 - val_loss: 0.2368 - val_acc: 0.9060\n",
            "Epoch 18/30\n",
            "100/100 [==============================] - 0s 4ms/step - loss: 0.1347 - acc: 0.9475 - val_loss: 0.2356 - val_acc: 0.9080\n",
            "Epoch 19/30\n",
            "100/100 [==============================] - 0s 4ms/step - loss: 0.1293 - acc: 0.9565 - val_loss: 0.2363 - val_acc: 0.9030\n",
            "Epoch 20/30\n",
            "100/100 [==============================] - 0s 4ms/step - loss: 0.1244 - acc: 0.9570 - val_loss: 0.2378 - val_acc: 0.9000\n",
            "Epoch 21/30\n",
            "100/100 [==============================] - 0s 4ms/step - loss: 0.1207 - acc: 0.9540 - val_loss: 0.2357 - val_acc: 0.9050\n",
            "Epoch 22/30\n",
            "100/100 [==============================] - 0s 4ms/step - loss: 0.1173 - acc: 0.9620 - val_loss: 0.2379 - val_acc: 0.8990\n",
            "Epoch 23/30\n",
            "100/100 [==============================] - 0s 4ms/step - loss: 0.1098 - acc: 0.9660 - val_loss: 0.2383 - val_acc: 0.9010\n",
            "Epoch 24/30\n",
            "100/100 [==============================] - 0s 4ms/step - loss: 0.1002 - acc: 0.9685 - val_loss: 0.2385 - val_acc: 0.9000\n",
            "Epoch 25/30\n",
            "100/100 [==============================] - 0s 4ms/step - loss: 0.0994 - acc: 0.9670 - val_loss: 0.2379 - val_acc: 0.9010\n",
            "Epoch 26/30\n",
            "100/100 [==============================] - 0s 4ms/step - loss: 0.0967 - acc: 0.9660 - val_loss: 0.2495 - val_acc: 0.9020\n",
            "Epoch 27/30\n",
            "100/100 [==============================] - 0s 4ms/step - loss: 0.0892 - acc: 0.9705 - val_loss: 0.2413 - val_acc: 0.8990\n",
            "Epoch 28/30\n",
            "100/100 [==============================] - 0s 4ms/step - loss: 0.0870 - acc: 0.9760 - val_loss: 0.2399 - val_acc: 0.9010\n",
            "Epoch 29/30\n",
            "100/100 [==============================] - 0s 4ms/step - loss: 0.0844 - acc: 0.9740 - val_loss: 0.2475 - val_acc: 0.9000\n",
            "Epoch 30/30\n",
            "100/100 [==============================] - 0s 4ms/step - loss: 0.0799 - acc: 0.9760 - val_loss: 0.2439 - val_acc: 0.9020\n"
          ],
          "name": "stdout"
        }
      ]
    },
    {
      "cell_type": "markdown",
      "metadata": {
        "id": "nzIaoLKpwAdl"
      },
      "source": [
        "训练可视化"
      ]
    },
    {
      "cell_type": "code",
      "metadata": {
        "colab": {
          "base_uri": "https://localhost:8080/",
          "height": 545
        },
        "id": "rm7mHIINwCLU",
        "outputId": "b5b4aca3-929f-422e-b6bc-d1b4d73426ef"
      },
      "source": [
        "import matplotlib.pyplot as plt\n",
        "\n",
        "acc = history.history['acc']\n",
        "val_acc = history.history['val_acc']\n",
        "loss = history.history['loss']\n",
        "val_loss = history.history['val_loss']\n",
        "\n",
        "epochs = range(len(acc))\n",
        "\n",
        "plt.plot(epochs, acc, 'bo', label='Training acc')\n",
        "plt.plot(epochs, val_acc, 'b', label='Validation acc')\n",
        "plt.title('Training and validation accuracy')\n",
        "plt.legend()\n",
        "\n",
        "plt.figure()\n",
        "\n",
        "plt.plot(epochs, loss, 'bo', label='Training loss')\n",
        "plt.plot(epochs, val_loss, 'b', label='Validation loss')\n",
        "plt.title('Training and validation loss')\n",
        "plt.legend()\n",
        "\n",
        "plt.show()"
      ],
      "execution_count": 6,
      "outputs": [
        {
          "output_type": "display_data",
          "data": {
            "image/png": "[encoded data removed]",
            "text/plain": [
              "<Figure size 432x288 with 1 Axes>"
            ]
          },
          "metadata": {
            "tags": [],
            "needs_background": "light"
          }
        },
        {
          "output_type": "display_data",
          "data": {
            "image/png": "[encoded data removed]",
            "text/plain": [
              "<Figure size 432x288 with 1 Axes>"
            ]
          },
          "metadata": {
            "tags": [],
            "needs_background": "light"
          }
        }
      ]
    },
    {
      "cell_type": "markdown",
      "metadata": {
        "id": "UVo5dCeq--Ac"
      },
      "source": [
        "总结：验证精度达到90%左右，比上一节从头开始训练的小型模型效果要好很多。但从图中可以看出，虽然dropout比率相对较大，但模型几乎从一开始就过拟合。这是因为该方法无法使用数据增加，而数据增强对于防止小型图像数据集的过拟合非常重要。"
      ]
    },
    {
      "cell_type": "markdown",
      "metadata": {
        "id": "fip5AVfPwHSq"
      },
      "source": [
        "## 方法二：使用数据增强的特征提取\n",
        "该方法速度更慢，计算代价更高，但在训练期间可以使用数据增强。该方法就是：扩展conv_base模型，然后在输入数据上端到端运行模型。"
      ]
    },
    {
      "cell_type": "markdown",
      "metadata": {
        "id": "7rBn2bx0xesQ"
      },
      "source": [
        ""
      ]
    },
    {
      "cell_type": "code",
      "metadata": {
        "id": "t6hbG2X4xbyd",
        "colab": {
          "base_uri": "https://localhost:8080/"
        },
        "outputId": "0ea447b2-e018-458f-e6e6-86952652be4e"
      },
      "source": [
        "from keras import models\n",
        "from keras import layers\n",
        "\n",
        "model = models.Sequential()\n",
        "model.add(conv_base)\n",
        "model.add(layers.Flatten())\n",
        "model.add(layers.Dense(256, activation='relu'))\n",
        "model.add(layers.Dense(1, activation='sigmoid'))\n",
        "model.summary()"
      ],
      "execution_count": 7,
      "outputs": [
        {
          "output_type": "stream",
          "text": [
            "Model: \"sequential_1\"\n",
            "_________________________________________________________________\n",
            "Layer (type)                 Output Shape              Param #   \n",
            "=================================================================\n",
            "vgg16 (Functional)           (None, 4, 4, 512)         14714688  \n",
            "_________________________________________________________________\n",
            "flatten (Flatten)            (None, 8192)              0         \n",
            "_________________________________________________________________\n",
            "dense_2 (Dense)              (None, 256)               2097408   \n",
            "_________________________________________________________________\n",
            "dense_3 (Dense)              (None, 1)                 257       \n",
            "=================================================================\n",
            "Total params: 16,812,353\n",
            "Trainable params: 16,812,353\n",
            "Non-trainable params: 0\n",
            "_________________________________________________________________\n"
          ],
          "name": "stdout"
        }
      ]
    },
    {
      "cell_type": "markdown",
      "metadata": {
        "id": "eLF7AGhE0TUB"
      },
      "source": [
        "可见VGG16的卷积积参数非常多，在编译和训练模型之前，一定要“冻结”卷积核，冻结一个或多个层是指在训练过程中保持权重不变。如果不这么做，那么卷积基之前学到的表示将会在训练过程中被修改，因为其上添加的Dense层是随机初始化的，所以非常大的权重会在网络中传播，对先验知识得到很大的破坏。"
      ]
    },
    {
      "cell_type": "markdown",
      "metadata": {
        "id": "-X3cnSSaB6e4"
      },
      "source": [
        "利用冻结的卷积基端到端训练模型"
      ]
    },
    {
      "cell_type": "code",
      "metadata": {
        "id": "mlXXJ7y50Sxj"
      },
      "source": [
        "conv_base.trainable = False"
      ],
      "execution_count": 8,
      "outputs": []
    },
    {
      "cell_type": "code",
      "metadata": {
        "colab": {
          "base_uri": "https://localhost:8080/"
        },
        "id": "d4HHXR4X0lbe",
        "outputId": "2355acc7-7e1c-482a-afd1-ba1224cd0542"
      },
      "source": [
        "from keras.preprocessing.image import ImageDataGenerator\n",
        "\n",
        "train_datagen = ImageDataGenerator(\n",
        "      rescale=1./255,\n",
        "      rotation_range=40,\n",
        "      width_shift_range=0.2,\n",
        "      height_shift_range=0.2,\n",
        "      shear_range=0.2,\n",
        "      zoom_range=0.2,\n",
        "      horizontal_flip=True,\n",
        "      fill_mode='nearest')\n",
        "\n",
        "# Note that the validation data should not be augmented!\n",
        "test_datagen = ImageDataGenerator(rescale=1./255)\n",
        "\n",
        "train_generator = train_datagen.flow_from_directory(\n",
        "        # This is the target directory\n",
        "        train_dir,\n",
        "        # All images will be resized to 150x150\n",
        "        target_size=(150, 150),\n",
        "        batch_size=20,\n",
        "        # Since we use binary_crossentropy loss, we need binary labels\n",
        "        class_mode='binary')\n",
        "\n",
        "validation_generator = test_datagen.flow_from_directory(\n",
        "        validation_dir,\n",
        "        target_size=(150, 150),\n",
        "        batch_size=20,\n",
        "        class_mode='binary')\n",
        "\n",
        "model.compile(loss='binary_crossentropy',\n",
        "              optimizer=optimizers.RMSprop(lr=2e-5),\n",
        "              metrics=['acc'])\n",
        "\n",
        "history = model.fit_generator(\n",
        "      train_generator,\n",
        "      steps_per_epoch=100,\n",
        "      epochs=30,\n",
        "      validation_data=validation_generator,\n",
        "      validation_steps=50,\n",
        "      verbose=2)"
      ],
      "execution_count": 9,
      "outputs": [
        {
          "output_type": "stream",
          "text": [
            "Found 2000 images belonging to 2 classes.\n",
            "Found 1000 images belonging to 2 classes.\n",
            "WARNING:tensorflow:From <ipython-input-9-0909a1dd9664>:41: Model.fit_generator (from tensorflow.python.keras.engine.training) is deprecated and will be removed in a future version.\n",
            "Instructions for updating:\n",
            "Please use Model.fit, which supports generators.\n",
            "Epoch 1/30\n",
            "100/100 - 24s - loss: 0.5900 - acc: 0.6935 - val_loss: 0.4858 - val_acc: 0.7460\n",
            "Epoch 2/30\n",
            "100/100 - 23s - loss: 0.4814 - acc: 0.7850 - val_loss: 0.3958 - val_acc: 0.8340\n",
            "Epoch 3/30\n",
            "100/100 - 23s - loss: 0.4359 - acc: 0.8050 - val_loss: 0.3386 - val_acc: 0.8710\n",
            "Epoch 4/30\n",
            "100/100 - 23s - loss: 0.4131 - acc: 0.8175 - val_loss: 0.3122 - val_acc: 0.8700\n",
            "Epoch 5/30\n",
            "100/100 - 22s - loss: 0.3903 - acc: 0.8300 - val_loss: 0.2926 - val_acc: 0.8850\n",
            "Epoch 6/30\n",
            "100/100 - 22s - loss: 0.3739 - acc: 0.8395 - val_loss: 0.2935 - val_acc: 0.8810\n",
            "Epoch 7/30\n",
            "100/100 - 23s - loss: 0.3672 - acc: 0.8380 - val_loss: 0.2773 - val_acc: 0.8870\n",
            "Epoch 8/30\n",
            "100/100 - 23s - loss: 0.3568 - acc: 0.8425 - val_loss: 0.2715 - val_acc: 0.8860\n",
            "Epoch 9/30\n",
            "100/100 - 22s - loss: 0.3445 - acc: 0.8520 - val_loss: 0.2701 - val_acc: 0.8860\n",
            "Epoch 10/30\n",
            "100/100 - 22s - loss: 0.3390 - acc: 0.8495 - val_loss: 0.2625 - val_acc: 0.8930\n",
            "Epoch 11/30\n",
            "100/100 - 23s - loss: 0.3327 - acc: 0.8545 - val_loss: 0.2720 - val_acc: 0.8770\n",
            "Epoch 12/30\n",
            "100/100 - 23s - loss: 0.3154 - acc: 0.8665 - val_loss: 0.2677 - val_acc: 0.8860\n",
            "Epoch 13/30\n",
            "100/100 - 23s - loss: 0.3267 - acc: 0.8655 - val_loss: 0.2577 - val_acc: 0.8890\n",
            "Epoch 14/30\n",
            "100/100 - 23s - loss: 0.3244 - acc: 0.8600 - val_loss: 0.2467 - val_acc: 0.8980\n",
            "Epoch 15/30\n",
            "100/100 - 22s - loss: 0.3167 - acc: 0.8645 - val_loss: 0.2468 - val_acc: 0.9020\n",
            "Epoch 16/30\n",
            "100/100 - 22s - loss: 0.3359 - acc: 0.8565 - val_loss: 0.2415 - val_acc: 0.9030\n",
            "Epoch 17/30\n",
            "100/100 - 22s - loss: 0.3089 - acc: 0.8635 - val_loss: 0.2401 - val_acc: 0.9010\n",
            "Epoch 18/30\n",
            "100/100 - 22s - loss: 0.3121 - acc: 0.8580 - val_loss: 0.2421 - val_acc: 0.8960\n",
            "Epoch 19/30\n",
            "100/100 - 21s - loss: 0.3140 - acc: 0.8620 - val_loss: 0.2416 - val_acc: 0.9030\n",
            "Epoch 20/30\n",
            "100/100 - 21s - loss: 0.2972 - acc: 0.8805 - val_loss: 0.2429 - val_acc: 0.9010\n",
            "Epoch 21/30\n",
            "100/100 - 21s - loss: 0.2983 - acc: 0.8735 - val_loss: 0.2332 - val_acc: 0.9070\n",
            "Epoch 22/30\n",
            "100/100 - 21s - loss: 0.3017 - acc: 0.8790 - val_loss: 0.2384 - val_acc: 0.9030\n",
            "Epoch 23/30\n",
            "100/100 - 21s - loss: 0.3008 - acc: 0.8670 - val_loss: 0.2457 - val_acc: 0.8980\n",
            "Epoch 24/30\n",
            "100/100 - 21s - loss: 0.3004 - acc: 0.8735 - val_loss: 0.2355 - val_acc: 0.9050\n",
            "Epoch 25/30\n",
            "100/100 - 21s - loss: 0.2893 - acc: 0.8715 - val_loss: 0.2352 - val_acc: 0.9040\n",
            "Epoch 26/30\n",
            "100/100 - 21s - loss: 0.2807 - acc: 0.8765 - val_loss: 0.2341 - val_acc: 0.9080\n",
            "Epoch 27/30\n",
            "100/100 - 21s - loss: 0.2925 - acc: 0.8760 - val_loss: 0.2344 - val_acc: 0.9020\n",
            "Epoch 28/30\n",
            "100/100 - 20s - loss: 0.2751 - acc: 0.8800 - val_loss: 0.2336 - val_acc: 0.9050\n",
            "Epoch 29/30\n",
            "100/100 - 21s - loss: 0.2805 - acc: 0.8750 - val_loss: 0.2360 - val_acc: 0.9050\n",
            "Epoch 30/30\n",
            "100/100 - 21s - loss: 0.2975 - acc: 0.8705 - val_loss: 0.2318 - val_acc: 0.9050\n"
          ],
          "name": "stdout"
        }
      ]
    },
    {
      "cell_type": "code",
      "metadata": {
        "colab": {
          "base_uri": "https://localhost:8080/",
          "height": 545
        },
        "id": "XsD81N4tCEFD",
        "outputId": "41850957-30ac-4457-f1de-df094e93f8e5"
      },
      "source": [
        "import matplotlib.pyplot as plt\n",
        "\n",
        "acc = history.history['acc']\n",
        "val_acc = history.history['val_acc']\n",
        "loss = history.history['loss']\n",
        "val_loss = history.history['val_loss']\n",
        "\n",
        "epochs = range(len(acc))\n",
        "\n",
        "plt.plot(epochs, acc, 'bo', label='Training acc')\n",
        "plt.plot(epochs, val_acc, 'b', label='Validation acc')\n",
        "plt.title('Training and validation accuracy')\n",
        "plt.legend()\n",
        "\n",
        "plt.figure()\n",
        "\n",
        "plt.plot(epochs, loss, 'bo', label='Training loss')\n",
        "plt.plot(epochs, val_loss, 'b', label='Validation loss')\n",
        "plt.title('Training and validation loss')\n",
        "plt.legend()\n",
        "\n",
        "plt.show()"
      ],
      "execution_count": 10,
      "outputs": [
        {
          "output_type": "display_data",
          "data": {
            "image/png": "[encoded data removed]",
            "text/plain": [
              "<Figure size 432x288 with 1 Axes>"
            ]
          },
          "metadata": {
            "tags": [],
            "needs_background": "light"
          }
        },
        {
          "output_type": "display_data",
          "data": {
            "image/png": "[encoded data removed]",
            "text/plain": [
              "<Figure size 432x288 with 1 Axes>"
            ]
          },
          "metadata": {
            "tags": [],
            "needs_background": "light"
          }
        }
      ]
    },
    {
      "cell_type": "markdown",
      "metadata": {
        "id": "GhvNnXfE08H2"
      },
      "source": [
        "## 进一步优化：微调模型（fune-tuning）\n",
        "该方法与特征提取相互补充。微调指将顶部的几层解冻，并将这几层和新增加的部分联合训练。\n",
        "前文讲过：冻结VGG卷积基是为了能够在上面训练一个随机初始化的分类器。因此只有上面的分类器训练好了，才能微调卷积层的顶部几层。如果分类器都没有训练好，那么训练期间通过网络传播的误差信号会特别大。微调前几层之前学到的表示都会被破坏。\n",
        "\n",
        "微调网络的步骤如下\n",
        "1. 在训练好的基网络上添加自定义网络。\n",
        "2. 冻结基网络\n",
        "3. 训练所添加的部分\n",
        "4. 解冻基网络的一次层。\n",
        "5. 联合训练解冻这些层和添加的部分。\n",
        "\n",
        "我们在做特征提取时已经完成了前三个步骤。我们继续第四步：先解冻conv_base,然后冻结其中的部分层。"
      ]
    },
    {
      "cell_type": "markdown",
      "metadata": {
        "id": "-rWaW3x92PhX"
      },
      "source": [
        "冻结直到某一层的所有层\n"
      ]
    },
    {
      "cell_type": "code",
      "metadata": {
        "id": "TLmqU3Cm2U0H",
        "colab": {
          "base_uri": "https://localhost:8080/"
        },
        "outputId": "2c0b59fb-14c2-4f41-aecc-52a5a3a1cf0a"
      },
      "source": [
        "conv_base.summary()\n",
        "\n",
        "conv_base.trainable = True\n",
        "\n",
        "set_trainable = False\n",
        "for layer in conv_base.layers:\n",
        "    if layer.name == 'block5_conv1':\n",
        "        set_trainable = True\n",
        "    if set_trainable:\n",
        "        layer.trainable = True\n",
        "    else:\n",
        "        layer.trainable = False"
      ],
      "execution_count": 11,
      "outputs": [
        {
          "output_type": "stream",
          "text": [
            "Model: \"vgg16\"\n",
            "_________________________________________________________________\n",
            "Layer (type)                 Output Shape              Param #   \n",
            "=================================================================\n",
            "input_1 (InputLayer)         [(None, 150, 150, 3)]     0         \n",
            "_________________________________________________________________\n",
            "block1_conv1 (Conv2D)        (None, 150, 150, 64)      1792      \n",
            "_________________________________________________________________\n",
            "block1_conv2 (Conv2D)        (None, 150, 150, 64)      36928     \n",
            "_________________________________________________________________\n",
            "block1_pool (MaxPooling2D)   (None, 75, 75, 64)        0         \n",
            "_________________________________________________________________\n",
            "block2_conv1 (Conv2D)        (None, 75, 75, 128)       73856     \n",
            "_________________________________________________________________\n",
            "block2_conv2 (Conv2D)        (None, 75, 75, 128)       147584    \n",
            "_________________________________________________________________\n",
            "block2_pool (MaxPooling2D)   (None, 37, 37, 128)       0         \n",
            "_________________________________________________________________\n",
            "block3_conv1 (Conv2D)        (None, 37, 37, 256)       295168    \n",
            "_________________________________________________________________\n",
            "block3_conv2 (Conv2D)        (None, 37, 37, 256)       590080    \n",
            "_________________________________________________________________\n",
            "block3_conv3 (Conv2D)        (None, 37, 37, 256)       590080    \n",
            "_________________________________________________________________\n",
            "block3_pool (MaxPooling2D)   (None, 18, 18, 256)       0         \n",
            "_________________________________________________________________\n",
            "block4_conv1 (Conv2D)        (None, 18, 18, 512)       1180160   \n",
            "_________________________________________________________________\n",
            "block4_conv2 (Conv2D)        (None, 18, 18, 512)       2359808   \n",
            "_________________________________________________________________\n",
            "block4_conv3 (Conv2D)        (None, 18, 18, 512)       2359808   \n",
            "_________________________________________________________________\n",
            "block4_pool (MaxPooling2D)   (None, 9, 9, 512)         0         \n",
            "_________________________________________________________________\n",
            "block5_conv1 (Conv2D)        (None, 9, 9, 512)         2359808   \n",
            "_________________________________________________________________\n",
            "block5_conv2 (Conv2D)        (None, 9, 9, 512)         2359808   \n",
            "_________________________________________________________________\n",
            "block5_conv3 (Conv2D)        (None, 9, 9, 512)         2359808   \n",
            "_________________________________________________________________\n",
            "block5_pool (MaxPooling2D)   (None, 4, 4, 512)         0         \n",
            "=================================================================\n",
            "Total params: 14,714,688\n",
            "Trainable params: 0\n",
            "Non-trainable params: 14,714,688\n",
            "_________________________________________________________________\n"
          ],
          "name": "stdout"
        }
      ]
    },
    {
      "cell_type": "markdown",
      "metadata": {
        "id": "ZSBYSRuuDjcU"
      },
      "source": [
        "现在我们可以微调网络。我们将使用学习率非常小的RMSProp优化器实现。之所以学习速率小，是因为对于微调的三层表示，我们希望变化范围不要太大。太大的权重更新可能会破坏这些表示。"
      ]
    },
    {
      "cell_type": "markdown",
      "metadata": {
        "id": "rV_KTkt_2h-z"
      },
      "source": [
        "微调模型"
      ]
    },
    {
      "cell_type": "code",
      "metadata": {
        "id": "l8rmHUsS2jub",
        "colab": {
          "base_uri": "https://localhost:8080/"
        },
        "outputId": "03e0627b-9f9c-4ad3-96e9-84036fd077cd"
      },
      "source": [
        "model.compile(loss='binary_crossentropy',\n",
        "              optimizer=optimizers.RMSprop(lr=1e-5),\n",
        "              metrics=['acc'])\n",
        "\n",
        "history = model.fit_generator(\n",
        "      train_generator,\n",
        "      steps_per_epoch=100,\n",
        "      epochs=100,\n",
        "      validation_data=validation_generator,\n",
        "      validation_steps=50)"
      ],
      "execution_count": 12,
      "outputs": [
        {
          "output_type": "stream",
          "text": [
            "Epoch 1/100\n",
            "100/100 [==============================] - 22s 223ms/step - loss: 0.2890 - acc: 0.8790 - val_loss: 0.2352 - val_acc: 0.9060\n",
            "Epoch 2/100\n",
            "100/100 [==============================] - 22s 223ms/step - loss: 0.2443 - acc: 0.8905 - val_loss: 0.2267 - val_acc: 0.9010\n",
            "Epoch 3/100\n",
            "100/100 [==============================] - 23s 230ms/step - loss: 0.2265 - acc: 0.9035 - val_loss: 0.2136 - val_acc: 0.9150\n",
            "Epoch 4/100\n",
            "100/100 [==============================] - 22s 220ms/step - loss: 0.2210 - acc: 0.9070 - val_loss: 0.1903 - val_acc: 0.9300\n",
            "Epoch 5/100\n",
            "100/100 [==============================] - 22s 220ms/step - loss: 0.2196 - acc: 0.9090 - val_loss: 0.1981 - val_acc: 0.9290\n",
            "Epoch 6/100\n",
            "100/100 [==============================] - 22s 220ms/step - loss: 0.1899 - acc: 0.9205 - val_loss: 0.1868 - val_acc: 0.9270\n",
            "Epoch 7/100\n",
            "100/100 [==============================] - 23s 226ms/step - loss: 0.1867 - acc: 0.9315 - val_loss: 0.2620 - val_acc: 0.9070\n",
            "Epoch 8/100\n",
            "100/100 [==============================] - 23s 229ms/step - loss: 0.1719 - acc: 0.9350 - val_loss: 0.1776 - val_acc: 0.9360\n",
            "Epoch 9/100\n",
            "100/100 [==============================] - 23s 230ms/step - loss: 0.1621 - acc: 0.9330 - val_loss: 0.2194 - val_acc: 0.9240\n",
            "Epoch 10/100\n",
            "100/100 [==============================] - 23s 232ms/step - loss: 0.1538 - acc: 0.9325 - val_loss: 0.2451 - val_acc: 0.9020\n",
            "Epoch 11/100\n",
            "100/100 [==============================] - 23s 232ms/step - loss: 0.1440 - acc: 0.9405 - val_loss: 0.1834 - val_acc: 0.9300\n",
            "Epoch 12/100\n",
            "100/100 [==============================] - 23s 233ms/step - loss: 0.1555 - acc: 0.9350 - val_loss: 0.1702 - val_acc: 0.9380\n",
            "Epoch 13/100\n",
            "100/100 [==============================] - 23s 234ms/step - loss: 0.1264 - acc: 0.9550 - val_loss: 0.1807 - val_acc: 0.9350\n",
            "Epoch 14/100\n",
            "100/100 [==============================] - 24s 237ms/step - loss: 0.1323 - acc: 0.9475 - val_loss: 0.2133 - val_acc: 0.9260\n",
            "Epoch 15/100\n",
            "100/100 [==============================] - 24s 237ms/step - loss: 0.1251 - acc: 0.9520 - val_loss: 0.2336 - val_acc: 0.9190\n",
            "Epoch 16/100\n",
            "100/100 [==============================] - 24s 239ms/step - loss: 0.1211 - acc: 0.9510 - val_loss: 0.1942 - val_acc: 0.9340\n",
            "Epoch 17/100\n",
            "100/100 [==============================] - 23s 233ms/step - loss: 0.1082 - acc: 0.9570 - val_loss: 0.1869 - val_acc: 0.9330\n",
            "Epoch 18/100\n",
            "100/100 [==============================] - 23s 228ms/step - loss: 0.1067 - acc: 0.9570 - val_loss: 0.2200 - val_acc: 0.9180\n",
            "Epoch 19/100\n",
            "100/100 [==============================] - 23s 226ms/step - loss: 0.1035 - acc: 0.9570 - val_loss: 0.2777 - val_acc: 0.9060\n",
            "Epoch 20/100\n",
            "100/100 [==============================] - 23s 226ms/step - loss: 0.1018 - acc: 0.9540 - val_loss: 0.1719 - val_acc: 0.9350\n",
            "Epoch 21/100\n",
            "100/100 [==============================] - 23s 227ms/step - loss: 0.0907 - acc: 0.9675 - val_loss: 0.1761 - val_acc: 0.9340\n",
            "Epoch 22/100\n",
            "100/100 [==============================] - 22s 224ms/step - loss: 0.0863 - acc: 0.9675 - val_loss: 0.1729 - val_acc: 0.9370\n",
            "Epoch 23/100\n",
            "100/100 [==============================] - 22s 219ms/step - loss: 0.0793 - acc: 0.9670 - val_loss: 0.2316 - val_acc: 0.9250\n",
            "Epoch 24/100\n",
            "100/100 [==============================] - 22s 219ms/step - loss: 0.0831 - acc: 0.9735 - val_loss: 0.2051 - val_acc: 0.9340\n",
            "Epoch 25/100\n",
            "100/100 [==============================] - 22s 218ms/step - loss: 0.0830 - acc: 0.9710 - val_loss: 0.2060 - val_acc: 0.9350\n",
            "Epoch 26/100\n",
            "100/100 [==============================] - 22s 218ms/step - loss: 0.0887 - acc: 0.9640 - val_loss: 0.2539 - val_acc: 0.9210\n",
            "Epoch 27/100\n",
            "100/100 [==============================] - 22s 217ms/step - loss: 0.0741 - acc: 0.9690 - val_loss: 0.2071 - val_acc: 0.9280\n",
            "Epoch 28/100\n",
            "100/100 [==============================] - 23s 227ms/step - loss: 0.0667 - acc: 0.9745 - val_loss: 0.2404 - val_acc: 0.9270\n",
            "Epoch 29/100\n",
            "100/100 [==============================] - 23s 226ms/step - loss: 0.0752 - acc: 0.9695 - val_loss: 0.1823 - val_acc: 0.9340\n",
            "Epoch 30/100\n",
            "100/100 [==============================] - 24s 236ms/step - loss: 0.0799 - acc: 0.9705 - val_loss: 0.2040 - val_acc: 0.9370\n",
            "Epoch 31/100\n",
            "100/100 [==============================] - 23s 229ms/step - loss: 0.0646 - acc: 0.9780 - val_loss: 0.2278 - val_acc: 0.9360\n",
            "Epoch 32/100\n",
            "100/100 [==============================] - 22s 224ms/step - loss: 0.0482 - acc: 0.9815 - val_loss: 0.2595 - val_acc: 0.9300\n",
            "Epoch 33/100\n",
            "100/100 [==============================] - 22s 224ms/step - loss: 0.0714 - acc: 0.9725 - val_loss: 0.2199 - val_acc: 0.9350\n",
            "Epoch 34/100\n",
            "100/100 [==============================] - 22s 224ms/step - loss: 0.0742 - acc: 0.9770 - val_loss: 0.2241 - val_acc: 0.9320\n",
            "Epoch 35/100\n",
            "100/100 [==============================] - 22s 224ms/step - loss: 0.0552 - acc: 0.9805 - val_loss: 0.2008 - val_acc: 0.9370\n",
            "Epoch 36/100\n",
            "100/100 [==============================] - 22s 224ms/step - loss: 0.0597 - acc: 0.9760 - val_loss: 0.2344 - val_acc: 0.9320\n",
            "Epoch 37/100\n",
            "100/100 [==============================] - 23s 229ms/step - loss: 0.0577 - acc: 0.9800 - val_loss: 0.1981 - val_acc: 0.9370\n",
            "Epoch 38/100\n",
            "100/100 [==============================] - 23s 233ms/step - loss: 0.0540 - acc: 0.9825 - val_loss: 0.2242 - val_acc: 0.9360\n",
            "Epoch 39/100\n",
            "100/100 [==============================] - 23s 231ms/step - loss: 0.0482 - acc: 0.9795 - val_loss: 0.2285 - val_acc: 0.9310\n",
            "Epoch 40/100\n",
            "100/100 [==============================] - 23s 232ms/step - loss: 0.0528 - acc: 0.9815 - val_loss: 0.2164 - val_acc: 0.9390\n",
            "Epoch 41/100\n",
            "100/100 [==============================] - 24s 238ms/step - loss: 0.0470 - acc: 0.9835 - val_loss: 0.1927 - val_acc: 0.9380\n",
            "Epoch 42/100\n",
            "100/100 [==============================] - 24s 239ms/step - loss: 0.0599 - acc: 0.9775 - val_loss: 0.2396 - val_acc: 0.9370\n",
            "Epoch 43/100\n",
            "100/100 [==============================] - 25s 245ms/step - loss: 0.0477 - acc: 0.9855 - val_loss: 0.1991 - val_acc: 0.9350\n",
            "Epoch 44/100\n",
            "100/100 [==============================] - 24s 237ms/step - loss: 0.0450 - acc: 0.9800 - val_loss: 0.1910 - val_acc: 0.9380\n",
            "Epoch 45/100\n",
            "100/100 [==============================] - 24s 236ms/step - loss: 0.0360 - acc: 0.9875 - val_loss: 0.1920 - val_acc: 0.9440\n",
            "Epoch 46/100\n",
            "100/100 [==============================] - 24s 236ms/step - loss: 0.0466 - acc: 0.9845 - val_loss: 0.2241 - val_acc: 0.9340\n",
            "Epoch 47/100\n",
            "100/100 [==============================] - 24s 237ms/step - loss: 0.0372 - acc: 0.9875 - val_loss: 0.3920 - val_acc: 0.9160\n",
            "Epoch 48/100\n",
            "100/100 [==============================] - 24s 238ms/step - loss: 0.0460 - acc: 0.9845 - val_loss: 0.2077 - val_acc: 0.9340\n",
            "Epoch 49/100\n",
            "100/100 [==============================] - 24s 235ms/step - loss: 0.0444 - acc: 0.9840 - val_loss: 0.2130 - val_acc: 0.9390\n",
            "Epoch 50/100\n",
            "100/100 [==============================] - 23s 232ms/step - loss: 0.0448 - acc: 0.9855 - val_loss: 0.2021 - val_acc: 0.9370\n",
            "Epoch 51/100\n",
            "100/100 [==============================] - 23s 233ms/step - loss: 0.0384 - acc: 0.9865 - val_loss: 0.4228 - val_acc: 0.9140\n",
            "Epoch 52/100\n",
            "100/100 [==============================] - 23s 228ms/step - loss: 0.0377 - acc: 0.9860 - val_loss: 0.2403 - val_acc: 0.9340\n",
            "Epoch 53/100\n",
            "100/100 [==============================] - 23s 225ms/step - loss: 0.0336 - acc: 0.9895 - val_loss: 0.2247 - val_acc: 0.9380\n",
            "Epoch 54/100\n",
            "100/100 [==============================] - 22s 224ms/step - loss: 0.0354 - acc: 0.9865 - val_loss: 0.2176 - val_acc: 0.9390\n",
            "Epoch 55/100\n",
            "100/100 [==============================] - 23s 227ms/step - loss: 0.0400 - acc: 0.9865 - val_loss: 0.2537 - val_acc: 0.9320\n",
            "Epoch 56/100\n",
            "100/100 [==============================] - 22s 223ms/step - loss: 0.0352 - acc: 0.9865 - val_loss: 0.2314 - val_acc: 0.9410\n",
            "Epoch 57/100\n",
            "100/100 [==============================] - 23s 225ms/step - loss: 0.0399 - acc: 0.9860 - val_loss: 0.2220 - val_acc: 0.9430\n",
            "Epoch 58/100\n",
            "100/100 [==============================] - 22s 221ms/step - loss: 0.0386 - acc: 0.9870 - val_loss: 0.3245 - val_acc: 0.9280\n",
            "Epoch 59/100\n",
            "100/100 [==============================] - 22s 219ms/step - loss: 0.0366 - acc: 0.9895 - val_loss: 0.2696 - val_acc: 0.9280\n",
            "Epoch 60/100\n",
            "100/100 [==============================] - 22s 217ms/step - loss: 0.0271 - acc: 0.9895 - val_loss: 0.2722 - val_acc: 0.9320\n",
            "Epoch 61/100\n",
            "100/100 [==============================] - 22s 217ms/step - loss: 0.0388 - acc: 0.9865 - val_loss: 0.2356 - val_acc: 0.9390\n",
            "Epoch 62/100\n",
            "100/100 [==============================] - 22s 217ms/step - loss: 0.0309 - acc: 0.9895 - val_loss: 0.2088 - val_acc: 0.9400\n",
            "Epoch 63/100\n",
            "100/100 [==============================] - 22s 220ms/step - loss: 0.0322 - acc: 0.9895 - val_loss: 0.2250 - val_acc: 0.9380\n",
            "Epoch 64/100\n",
            "100/100 [==============================] - 22s 217ms/step - loss: 0.0303 - acc: 0.9895 - val_loss: 0.2008 - val_acc: 0.9440\n",
            "Epoch 65/100\n",
            "100/100 [==============================] - 22s 223ms/step - loss: 0.0352 - acc: 0.9885 - val_loss: 0.2169 - val_acc: 0.9400\n",
            "Epoch 66/100\n",
            "100/100 [==============================] - 23s 232ms/step - loss: 0.0245 - acc: 0.9915 - val_loss: 0.2129 - val_acc: 0.9400\n",
            "Epoch 67/100\n",
            "100/100 [==============================] - 23s 230ms/step - loss: 0.0369 - acc: 0.9890 - val_loss: 0.2206 - val_acc: 0.9450\n",
            "Epoch 68/100\n",
            "100/100 [==============================] - 23s 233ms/step - loss: 0.0304 - acc: 0.9910 - val_loss: 0.2387 - val_acc: 0.9440\n",
            "Epoch 69/100\n",
            "100/100 [==============================] - 24s 239ms/step - loss: 0.0319 - acc: 0.9915 - val_loss: 0.2283 - val_acc: 0.9410\n",
            "Epoch 70/100\n",
            "100/100 [==============================] - 24s 242ms/step - loss: 0.0256 - acc: 0.9925 - val_loss: 0.2716 - val_acc: 0.9380\n",
            "Epoch 71/100\n",
            "100/100 [==============================] - 23s 235ms/step - loss: 0.0242 - acc: 0.9910 - val_loss: 0.2350 - val_acc: 0.9390\n",
            "Epoch 72/100\n",
            "100/100 [==============================] - 23s 228ms/step - loss: 0.0260 - acc: 0.9920 - val_loss: 0.2946 - val_acc: 0.9220\n",
            "Epoch 73/100\n",
            "100/100 [==============================] - 23s 228ms/step - loss: 0.0250 - acc: 0.9915 - val_loss: 0.2518 - val_acc: 0.9420\n",
            "Epoch 74/100\n",
            "100/100 [==============================] - 22s 224ms/step - loss: 0.0299 - acc: 0.9880 - val_loss: 0.2112 - val_acc: 0.9470\n",
            "Epoch 75/100\n",
            "100/100 [==============================] - 22s 220ms/step - loss: 0.0277 - acc: 0.9890 - val_loss: 0.3629 - val_acc: 0.9320\n",
            "Epoch 76/100\n",
            "100/100 [==============================] - 22s 221ms/step - loss: 0.0204 - acc: 0.9930 - val_loss: 0.2485 - val_acc: 0.9410\n",
            "Epoch 77/100\n",
            "100/100 [==============================] - 22s 220ms/step - loss: 0.0223 - acc: 0.9915 - val_loss: 0.2772 - val_acc: 0.9390\n",
            "Epoch 78/100\n",
            "100/100 [==============================] - 22s 218ms/step - loss: 0.0234 - acc: 0.9895 - val_loss: 0.2495 - val_acc: 0.9380\n",
            "Epoch 79/100\n",
            "100/100 [==============================] - 22s 219ms/step - loss: 0.0260 - acc: 0.9905 - val_loss: 0.3215 - val_acc: 0.9380\n",
            "Epoch 80/100\n",
            "100/100 [==============================] - 22s 219ms/step - loss: 0.0224 - acc: 0.9910 - val_loss: 0.2782 - val_acc: 0.9440\n",
            "Epoch 81/100\n",
            "100/100 [==============================] - 22s 216ms/step - loss: 0.0222 - acc: 0.9905 - val_loss: 0.2372 - val_acc: 0.9440\n",
            "Epoch 82/100\n",
            "100/100 [==============================] - 22s 220ms/step - loss: 0.0298 - acc: 0.9885 - val_loss: 0.2259 - val_acc: 0.9460\n",
            "Epoch 83/100\n",
            "100/100 [==============================] - 22s 222ms/step - loss: 0.0151 - acc: 0.9930 - val_loss: 0.2879 - val_acc: 0.9390\n",
            "Epoch 84/100\n",
            "100/100 [==============================] - 23s 230ms/step - loss: 0.0263 - acc: 0.9920 - val_loss: 0.3160 - val_acc: 0.9370\n",
            "Epoch 85/100\n",
            "100/100 [==============================] - 22s 219ms/step - loss: 0.0300 - acc: 0.9890 - val_loss: 0.2900 - val_acc: 0.9340\n",
            "Epoch 86/100\n",
            "100/100 [==============================] - 22s 219ms/step - loss: 0.0239 - acc: 0.9900 - val_loss: 0.2915 - val_acc: 0.9420\n",
            "Epoch 87/100\n",
            "100/100 [==============================] - 22s 223ms/step - loss: 0.0263 - acc: 0.9925 - val_loss: 0.2509 - val_acc: 0.9330\n",
            "Epoch 88/100\n",
            "100/100 [==============================] - 22s 220ms/step - loss: 0.0135 - acc: 0.9945 - val_loss: 0.2520 - val_acc: 0.9360\n",
            "Epoch 89/100\n",
            "100/100 [==============================] - 22s 218ms/step - loss: 0.0189 - acc: 0.9930 - val_loss: 0.2595 - val_acc: 0.9410\n",
            "Epoch 90/100\n",
            "100/100 [==============================] - 22s 217ms/step - loss: 0.0186 - acc: 0.9935 - val_loss: 0.3604 - val_acc: 0.9310\n",
            "Epoch 91/100\n",
            "100/100 [==============================] - 22s 219ms/step - loss: 0.0226 - acc: 0.9925 - val_loss: 0.2979 - val_acc: 0.9330\n",
            "Epoch 92/100\n",
            "100/100 [==============================] - 22s 219ms/step - loss: 0.0288 - acc: 0.9895 - val_loss: 0.2607 - val_acc: 0.9360\n",
            "Epoch 93/100\n",
            "100/100 [==============================] - 23s 227ms/step - loss: 0.0172 - acc: 0.9940 - val_loss: 0.2932 - val_acc: 0.9410\n",
            "Epoch 94/100\n",
            "100/100 [==============================] - 23s 233ms/step - loss: 0.0160 - acc: 0.9940 - val_loss: 0.2979 - val_acc: 0.9360\n",
            "Epoch 95/100\n",
            "100/100 [==============================] - 23s 231ms/step - loss: 0.0302 - acc: 0.9890 - val_loss: 0.2892 - val_acc: 0.9390\n",
            "Epoch 96/100\n",
            "100/100 [==============================] - 22s 224ms/step - loss: 0.0176 - acc: 0.9945 - val_loss: 0.3207 - val_acc: 0.9310\n",
            "Epoch 97/100\n",
            "100/100 [==============================] - 23s 225ms/step - loss: 0.0184 - acc: 0.9935 - val_loss: 0.2550 - val_acc: 0.9420\n",
            "Epoch 98/100\n",
            "100/100 [==============================] - 23s 232ms/step - loss: 0.0145 - acc: 0.9945 - val_loss: 0.4559 - val_acc: 0.9210\n",
            "Epoch 99/100\n",
            "100/100 [==============================] - 22s 223ms/step - loss: 0.0220 - acc: 0.9910 - val_loss: 0.2658 - val_acc: 0.9380\n",
            "Epoch 100/100\n",
            "100/100 [==============================] - 22s 223ms/step - loss: 0.0246 - acc: 0.9930 - val_loss: 0.2754 - val_acc: 0.9460\n"
          ],
          "name": "stdout"
        }
      ]
    },
    {
      "cell_type": "markdown",
      "metadata": {
        "id": "ftYswaTE2zUA"
      },
      "source": [
        "训练数据\n",
        "\n",
        "\n"
      ]
    },
    {
      "cell_type": "code",
      "metadata": {
        "id": "PYbuab-U22a8",
        "colab": {
          "base_uri": "https://localhost:8080/",
          "height": 545
        },
        "outputId": "f6e54ce9-aa22-4c01-b2bb-7ea14f1a6244"
      },
      "source": [
        "acc = history.history['acc']\n",
        "val_acc = history.history['val_acc']\n",
        "loss = history.history['loss']\n",
        "val_loss = history.history['val_loss']\n",
        "\n",
        "epochs = range(len(acc))\n",
        "\n",
        "plt.plot(epochs, acc, 'bo', label='Training acc')\n",
        "plt.plot(epochs, val_acc, 'b', label='Validation acc')\n",
        "plt.title('Training and validation accuracy')\n",
        "plt.legend()\n",
        "\n",
        "plt.figure()\n",
        "\n",
        "plt.plot(epochs, loss, 'bo', label='Training loss')\n",
        "plt.plot(epochs, val_loss, 'b', label='Validation loss')\n",
        "plt.title('Training and validation loss')\n",
        "plt.legend()\n",
        "\n",
        "plt.show()"
      ],
      "execution_count": 13,
      "outputs": [
        {
          "output_type": "display_data",
          "data": {
            "image/png": "[encoded data removed]",
            "text/plain": [
              "<Figure size 432x288 with 1 Axes>"
            ]
          },
          "metadata": {
            "tags": [],
            "needs_background": "light"
          }
        },
        {
          "output_type": "display_data",
          "data": {
            "image/png": "[encoded data removed]",
            "text/plain": [
              "<Figure size 432x288 with 1 Axes>"
            ]
          },
          "metadata": {
            "tags": [],
            "needs_background": "light"
          }
        }
      ]
    },
    {
      "cell_type": "markdown",
      "metadata": {
        "id": "iusWYB2g3RsS"
      },
      "source": [
        "在测试数据上最终评估这个模型"
      ]
    },
    {
      "cell_type": "code",
      "metadata": {
        "id": "Lw_iuz1I3U8l",
        "colab": {
          "base_uri": "https://localhost:8080/"
        },
        "outputId": "961543ee-db58-42aa-f833-fa84bdcaa6ac"
      },
      "source": [
        "test_generator = test_datagen.flow_from_directory(\n",
        "        test_dir,\n",
        "        target_size=(150, 150),\n",
        "        batch_size=20,\n",
        "        class_mode='binary')\n",
        "\n",
        "test_loss, test_acc = model.evaluate_generator(test_generator, steps=50)\n",
        "print('test acc:', test_acc)"
      ],
      "execution_count": 14,
      "outputs": [
        {
          "output_type": "stream",
          "text": [
            "Found 1000 images belonging to 2 classes.\n",
            "WARNING:tensorflow:From <ipython-input-14-19f8443b6c42>:7: Model.evaluate_generator (from tensorflow.python.keras.engine.training) is deprecated and will be removed in a future version.\n",
            "Instructions for updating:\n",
            "Please use Model.evaluate, which supports generators.\n",
            "test acc: 0.9340000152587891\n"
          ],
          "name": "stdout"
        }
      ]
    },
    {
      "cell_type": "markdown",
      "metadata": {
        "id": "20WdrhQkVJ-K"
      },
      "source": [
        "## 模型保存\n",
        "将模型保存到Google Drive中，需要先挂在Drive，然后指定挂在路径即可。"
      ]
    },
    {
      "cell_type": "code",
      "metadata": {
        "colab": {
          "base_uri": "https://localhost:8080/"
        },
        "id": "DLxyaRsnVTs7",
        "outputId": "2cdce7a0-28b0-404e-a667-9f6d38f5dbf5"
      },
      "source": [
        "!pip install pyyaml h5py"
      ],
      "execution_count": 15,
      "outputs": [
        {
          "output_type": "stream",
          "text": [
            "Requirement already satisfied: pyyaml in /usr/local/lib/python3.6/dist-packages (3.13)\n",
            "Requirement already satisfied: h5py in /usr/local/lib/python3.6/dist-packages (2.10.0)\n",
            "Requirement already satisfied: numpy>=1.7 in /usr/local/lib/python3.6/dist-packages (from h5py) (1.18.5)\n",
            "Requirement already satisfied: six in /usr/local/lib/python3.6/dist-packages (from h5py) (1.15.0)\n"
          ],
          "name": "stdout"
        }
      ]
    },
    {
      "cell_type": "code",
      "metadata": {
        "id": "2FoGLs1cVXpV"
      },
      "source": [
        "\n",
        "model.save('gdrive/MyDrive/saved_model/cats_and_dogs_small_3.h5')\n"
      ],
      "execution_count": 24,
      "outputs": []
    },
    {
      "cell_type": "markdown",
      "metadata": {
        "id": "XQ56o0qWauR3"
      },
      "source": [
        "# 总结\n",
        "* 卷积神经网络是用于计算机视觉任务的最佳及其学习模型。即使在非常小的数据集上也可以从头开始训练一个卷积神经网络，且得到不错的结果。\n",
        "* 在小型数据集上主要问题是过拟合，在处理图像数据时，数据增强是一种降低过拟合的强大方法。\n",
        "* 利用特征提取，可以很容易将现有的卷积神经网络复用于新数据集，对于小型图像数据集，是一种很有价值的方法。\n",
        "* 作为特征提取的补充，可以使用微调整进一步提高模型的性能。"
      ]
    }
  ]
}