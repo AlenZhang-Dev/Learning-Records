{
  "nbformat": 4,
  "nbformat_minor": 0,
  "metadata": {
    "colab": {
      "name": "5.1 简单的卷积神经网络.ipynb",
      "provenance": [],
      "authorship_tag": "ABX9TyOE0osmtRg2LoU0RKrLURlx",
      "include_colab_link": true
    },
    "kernelspec": {
      "name": "python3",
      "display_name": "Python 3"
    }
  },
  "cells": [
    {
      "cell_type": "markdown",
      "metadata": {
        "id": "view-in-github",
        "colab_type": "text"
      },
      "source": [
        "<a href=\"https://colab.research.google.com/github/AlenZhang-Dev/Learning-Records/blob/master/Machine%20Learning/Deep%20Learning%20with%20Python/5.1%E7%AE%80%E5%8D%95%E7%9A%84%E5%8D%B7%E7%A7%AF%E7%A5%9E%E7%BB%8F%E7%BD%91%E7%BB%9C.ipynb\" target=\"_parent\"><img src=\"https://colab.research.google.com/assets/colab-badge.svg\" alt=\"Open In Colab\"/></a>"
      ]
    },
    {
      "cell_type": "markdown",
      "metadata": {
        "id": "F8t5-IWB-Cgk"
      },
      "source": [
        "# 简单的卷积神经网络\n"
      ]
    },
    {
      "cell_type": "markdown",
      "metadata": {
        "id": "9u3M1WPG5DEU"
      },
      "source": [
        "通过简单的卷积神经网络示例，对MNIST数字进行分类。"
      ]
    },
    {
      "cell_type": "code",
      "metadata": {
        "id": "Q_NUUcrB-KyY"
      },
      "source": [
        "from keras import layers\n",
        "from keras import models\n",
        "\n",
        "model = models.Sequential()\n",
        "model.add(layers.Conv2D(32, (3, 3), activation='relu', input_shape=(28, 28, 1)))\n",
        "model.add(layers.MaxPooling2D((2, 2)))\n",
        "model.add(layers.Conv2D(64, (3, 3), activation='relu'))\n",
        "model.add(layers.MaxPooling2D((2, 2)))\n",
        "model.add(layers.Conv2D(64, (3, 3), activation='relu'))"
      ],
      "execution_count": 1,
      "outputs": []
    },
    {
      "cell_type": "code",
      "metadata": {
        "id": "qclSAjxA-MJv",
        "colab": {
          "base_uri": "https://localhost:8080/"
        },
        "outputId": "8e4b8099-25ed-4614-9589-f4e4a8b46978"
      },
      "source": [
        "model.summary()"
      ],
      "execution_count": 2,
      "outputs": [
        {
          "output_type": "stream",
          "text": [
            "Model: \"sequential\"\n",
            "_________________________________________________________________\n",
            "Layer (type)                 Output Shape              Param #   \n",
            "=================================================================\n",
            "conv2d (Conv2D)              (None, 26, 26, 32)        320       \n",
            "_________________________________________________________________\n",
            "max_pooling2d (MaxPooling2D) (None, 13, 13, 32)        0         \n",
            "_________________________________________________________________\n",
            "conv2d_1 (Conv2D)            (None, 11, 11, 64)        18496     \n",
            "_________________________________________________________________\n",
            "max_pooling2d_1 (MaxPooling2 (None, 5, 5, 64)          0         \n",
            "_________________________________________________________________\n",
            "conv2d_2 (Conv2D)            (None, 3, 3, 64)          36928     \n",
            "=================================================================\n",
            "Total params: 55,744\n",
            "Trainable params: 55,744\n",
            "Non-trainable params: 0\n",
            "_________________________________________________________________\n"
          ],
          "name": "stdout"
        }
      ]
    },
    {
      "cell_type": "markdown",
      "metadata": {
        "id": "zi6HswzO_RDy"
      },
      "source": [
        "最后输出张量为【3，3，64】，输入到一个密集连接分类器网络中，即Dense层的堆叠。这些分类器网络中，即Dense层的堆叠【只能处理1D向量】，所以需要Flatten层对张量进行处理。"
      ]
    },
    {
      "cell_type": "code",
      "metadata": {
        "id": "wLjztRSM-Oqr"
      },
      "source": [
        "model.add(layers.Flatten())\n",
        "model.add(layers.Dense(64, activation='relu'))\n",
        "model.add(layers.Dense(10, activation='softmax'))"
      ],
      "execution_count": 3,
      "outputs": []
    },
    {
      "cell_type": "code",
      "metadata": {
        "id": "fVRzSteK-Po-",
        "colab": {
          "base_uri": "https://localhost:8080/"
        },
        "outputId": "445ff003-7ac4-4577-e0d7-33431a33475c"
      },
      "source": [
        "model.summary()"
      ],
      "execution_count": 4,
      "outputs": [
        {
          "output_type": "stream",
          "text": [
            "Model: \"sequential\"\n",
            "_________________________________________________________________\n",
            "Layer (type)                 Output Shape              Param #   \n",
            "=================================================================\n",
            "conv2d (Conv2D)              (None, 26, 26, 32)        320       \n",
            "_________________________________________________________________\n",
            "max_pooling2d (MaxPooling2D) (None, 13, 13, 32)        0         \n",
            "_________________________________________________________________\n",
            "conv2d_1 (Conv2D)            (None, 11, 11, 64)        18496     \n",
            "_________________________________________________________________\n",
            "max_pooling2d_1 (MaxPooling2 (None, 5, 5, 64)          0         \n",
            "_________________________________________________________________\n",
            "conv2d_2 (Conv2D)            (None, 3, 3, 64)          36928     \n",
            "_________________________________________________________________\n",
            "flatten (Flatten)            (None, 576)               0         \n",
            "_________________________________________________________________\n",
            "dense (Dense)                (None, 64)                36928     \n",
            "_________________________________________________________________\n",
            "dense_1 (Dense)              (None, 10)                650       \n",
            "=================================================================\n",
            "Total params: 93,322\n",
            "Trainable params: 93,322\n",
            "Non-trainable params: 0\n",
            "_________________________________________________________________\n"
          ],
          "name": "stdout"
        }
      ]
    },
    {
      "cell_type": "markdown",
      "metadata": {
        "id": "2k1LrK5L5_Mk"
      },
      "source": [
        "在进入Dense层之前，形状（3，3，64）的输出被展平为（576，）向量。"
      ]
    },
    {
      "cell_type": "code",
      "metadata": {
        "id": "4Is9iCN2-RYc",
        "colab": {
          "base_uri": "https://localhost:8080/"
        },
        "outputId": "f3ce18b7-1d74-4b2e-da56-765bc5f4646b"
      },
      "source": [
        "from keras.datasets import mnist\n",
        "from keras.utils import to_categorical\n",
        "\n",
        "(train_images, train_labels), (test_images, test_labels) = mnist.load_data()\n",
        "\n",
        "train_images = train_images.reshape((60000, 28, 28, 1))\n",
        "train_images = train_images.astype('float32') / 255\n",
        "\n",
        "test_images = test_images.reshape((10000, 28, 28, 1))\n",
        "test_images = test_images.astype('float32') / 255\n",
        "\n",
        "train_labels = to_categorical(train_labels)\n",
        "test_labels = to_categorical(test_labels)"
      ],
      "execution_count": 5,
      "outputs": [
        {
          "output_type": "stream",
          "text": [
            "Downloading data from https://storage.googleapis.com/tensorflow/tf-keras-datasets/mnist.npz\n",
            "11493376/11490434 [==============================] - 0s 0us/step\n"
          ],
          "name": "stdout"
        }
      ]
    },
    {
      "cell_type": "code",
      "metadata": {
        "id": "_kpUHMue-TlJ",
        "colab": {
          "base_uri": "https://localhost:8080/"
        },
        "outputId": "17e446d4-7696-46cd-80c6-3893f0ae447e"
      },
      "source": [
        "model.compile(optimizer='rmsprop',\n",
        "              loss='categorical_crossentropy',\n",
        "              metrics=['accuracy'])\n",
        "model.fit(train_images, train_labels, epochs=5, batch_size=64)"
      ],
      "execution_count": 6,
      "outputs": [
        {
          "output_type": "stream",
          "text": [
            "Epoch 1/5\n",
            "938/938 [==============================] - 48s 52ms/step - loss: 0.1792 - accuracy: 0.9433\n",
            "Epoch 2/5\n",
            "938/938 [==============================] - 48s 52ms/step - loss: 0.0490 - accuracy: 0.9849\n",
            "Epoch 3/5\n",
            "938/938 [==============================] - 48s 51ms/step - loss: 0.0329 - accuracy: 0.9900\n",
            "Epoch 4/5\n",
            "938/938 [==============================] - 48s 51ms/step - loss: 0.0249 - accuracy: 0.9927\n",
            "Epoch 5/5\n",
            "938/938 [==============================] - 47s 51ms/step - loss: 0.0194 - accuracy: 0.9944\n"
          ],
          "name": "stdout"
        },
        {
          "output_type": "execute_result",
          "data": {
            "text/plain": [
              "<tensorflow.python.keras.callbacks.History at 0x7f7198f8f5f8>"
            ]
          },
          "metadata": {
            "tags": []
          },
          "execution_count": 6
        }
      ]
    },
    {
      "cell_type": "code",
      "metadata": {
        "id": "P7jB4yOa-UtN",
        "colab": {
          "base_uri": "https://localhost:8080/"
        },
        "outputId": "33e925d8-4fc8-43f7-cab5-70e81b5de6a4"
      },
      "source": [
        "test_loss, test_acc = model.evaluate(test_images, test_labels)"
      ],
      "execution_count": 7,
      "outputs": [
        {
          "output_type": "stream",
          "text": [
            "313/313 [==============================] - 3s 10ms/step - loss: 0.0300 - accuracy: 0.9920\n"
          ],
          "name": "stdout"
        }
      ]
    },
    {
      "cell_type": "code",
      "metadata": {
        "id": "Rw85dG2n-Vgz",
        "colab": {
          "base_uri": "https://localhost:8080/"
        },
        "outputId": "693409ad-9667-47b8-9273-47a4edacb177"
      },
      "source": [
        "test_acc"
      ],
      "execution_count": 8,
      "outputs": [
        {
          "output_type": "execute_result",
          "data": {
            "text/plain": [
              "0.9919999837875366"
            ]
          },
          "metadata": {
            "tags": []
          },
          "execution_count": 8
        }
      ]
    },
    {
      "cell_type": "markdown",
      "metadata": {
        "id": "ZMRJIeD96Qe7"
      },
      "source": [
        "可见卷积神经网络的效果远高于密集连接层的网络效果。"
      ]
    }
  ]
}