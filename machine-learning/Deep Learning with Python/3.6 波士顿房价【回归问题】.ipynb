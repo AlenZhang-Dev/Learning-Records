{
  "nbformat": 4,
  "nbformat_minor": 0,
  "metadata": {
    "colab": {
      "name": "3.6 波士顿房价【回归问题】.ipynb",
      "provenance": [],
      "toc_visible": true,
      "authorship_tag": "ABX9TyOK7gCVg86OzlLks91IZp3J",
      "include_colab_link": true
    },
    "kernelspec": {
      "name": "python3",
      "display_name": "Python 3"
    }
  },
  "cells": [
    {
      "cell_type": "markdown",
      "metadata": {
        "id": "view-in-github",
        "colab_type": "text"
      },
      "source": [
        "<a href=\"https://colab.research.google.com/github/AlenZhang-Dev/Learning-Records/blob/master/Machine%20Learning/Deep%20Learning%20with%20Python/3.6%20%E6%B3%A2%E5%A3%AB%E9%A1%BF%E6%88%BF%E4%BB%B7%E3%80%90%E5%9B%9E%E5%BD%92%E9%97%AE%E9%A2%98%E3%80%91.ipynb\" target=\"_parent\"><img src=\"https://colab.research.google.com/assets/colab-badge.svg\" alt=\"Open In Colab\"/></a>"
      ]
    },
    {
      "cell_type": "markdown",
      "metadata": {
        "id": "1MsvfON4l3C5"
      },
      "source": [
        " # 预测波士顿房价\n"
      ]
    },
    {
      "cell_type": "markdown",
      "metadata": {
        "id": "QyvC-wTknT_i"
      },
      "source": [
        "不要把回归问题与logistic回归混为一谈。回归问题是常见的机器学习问题，预测一个连续值而不是离散标签。"
      ]
    },
    {
      "cell_type": "markdown",
      "metadata": {
        "id": "e1yZyZkArqTo"
      },
      "source": [
        "## 数据集\n",
        "本节预测20世纪70年代中期波士顿郊区房屋价格中位数，已知当时郊区的一些数据点，比如犯罪率、当地房产税率等。本节用到的数据相对较少，只有506个，分为404个训练样本和102个测试样本。输入数据的每个特征（比如犯罪率）都有不同的取值范围。比如，有些特性是比例，取值范围0-1，有些取值范围1-12，有些取值范围0-100，等"
      ]
    },
    {
      "cell_type": "code",
      "metadata": {
        "id": "1jiBu7H2ldQs"
      },
      "source": [
        "# 加载数据\n",
        "from keras.datasets import boston_housing\n",
        "(train_data, train_targets), (test_data, test_targets) = boston_housing.load_data()"
      ],
      "execution_count": 1,
      "outputs": []
    },
    {
      "cell_type": "markdown",
      "metadata": {
        "id": "slSFBFmgtY1O"
      },
      "source": [
        "## 准备数据"
      ]
    },
    {
      "cell_type": "markdown",
      "metadata": {
        "id": "04dSsLLttiTV"
      },
      "source": [
        "将取值范围很大的数据输入到神经网络中，会增加网络训练的难度。对于回归问题的数据处理可以参考  [Machine Learning Week2](https://github.com/AlenZhang-Dev/MachineLearning-Stanford/blob/master/Week2/ClassNote-Week2.md)\n",
        "对于这种数据，一般对每个特征进行标准化，即对于输入数据的每个特征，减去特征平均值，在除上标准差，这样得到的特征平均值为0，标准差为1.使用Numpy很容易可以实现标准化。"
      ]
    },
    {
      "cell_type": "markdown",
      "metadata": {
        "id": "RAKRjSCmvIJG"
      },
      "source": [
        "需要注意的是，用于测试数据标准化的均值都是在训练数据上得到的，不能使用测试数据的任何结果。"
      ]
    },
    {
      "cell_type": "code",
      "metadata": {
        "id": "n8nsoBlzul6s"
      },
      "source": [
        "mean = train_data.mean(axis=0)\n",
        "train_data -= mean\n",
        "std = train_data.std(axis=0)\n",
        "train_data /= std\n",
        "\n",
        "test_data -= mean\n",
        "test_data /= std"
      ],
      "execution_count": 2,
      "outputs": []
    },
    {
      "cell_type": "markdown",
      "metadata": {
        "id": "AGRQU43ZvYro"
      },
      "source": [
        "## 构建网络\n",
        "样本数据很少，所以使用一个小网络，包含两个隐藏层，每层64个单元。一般来说训练数据越少，过拟合越严重，因此使用较小的网络可以降低过拟合。"
      ]
    },
    {
      "cell_type": "code",
      "metadata": {
        "id": "KtzVcnw4v8AO"
      },
      "source": [
        "from keras import models\n",
        "from keras import layers\n",
        "\n",
        "def build_model():\n",
        "    # Because we will need to instantiate\n",
        "    # the same model multiple times,\n",
        "    # we use a function to construct it.\n",
        "    model = models.Sequential()\n",
        "    model.add(layers.Dense(64, activation='relu',\n",
        "                           input_shape=(train_data.shape[1],)))\n",
        "    model.add(layers.Dense(64, activation='relu'))\n",
        "    model.add(layers.Dense(1))\n",
        "    model.compile(optimizer='rmsprop', loss='mse', metrics=['mae'])\n",
        "    return model"
      ],
      "execution_count": 3,
      "outputs": []
    },
    {
      "cell_type": "markdown",
      "metadata": {
        "id": "Zqq5MGv6xS_R"
      },
      "source": [
        "编译网络用的是mse损失函数，即均方误差（MSE，mean squared error）。预测值与目标之差的平方。这是回归问题常用的损失函数。"
      ]
    },
    {
      "cell_type": "markdown",
      "metadata": {
        "id": "SS-8UyFzxlVk"
      },
      "source": [
        "还增加了一个监控新指标：平均绝对误差（MAE，mean absolute error)。预测值与目标值之间的差的绝对值。MAE = 0.5，表示你预测房价与实际价格差为0.5。"
      ]
    },
    {
      "cell_type": "markdown",
      "metadata": {
        "id": "0eHU7Pknw3Cv"
      },
      "source": [
        "网络的最后一层只有一个单元，没有激活，是一个线性层。这是标量回归的典型设置。添加激活函数会限制输出范围。比如，最后一层添加sigmoid激活函数，网络只能学会预测0-1范围内的值。这里最后一层是纯线性的，因此可以学到任何值。"
      ]
    },
    {
      "cell_type": "markdown",
      "metadata": {
        "id": "sT3F8M_syOKV"
      },
      "source": [
        "## 使用K折验证你的方法\n",
        "按照3.4 和3.5的验证方法。由于验证数据点很少，验证集也很少。因此验证分数可能会有很大波动，这取决于你所选择的验证集和训练集。即：验证集的划分方式可能会造成验证分数上有很大的方差，无法对模型进行可靠的评估。"
      ]
    },
    {
      "cell_type": "markdown",
      "metadata": {
        "id": "dBMTkOmgz2XP"
      },
      "source": [
        "在这种情况下，最佳做法是使用**K折交叉验证**。这种方法将可用数据划分为K个分区（K一般取4或5），实例化K个相同模型，将每个模型在K-1个分区上训练，并在剩下的一个分区上进行评估。模型的验证分数等于K个验证分数的平均值。\n"
      ]
    },
    {
      "cell_type": "code",
      "metadata": {
        "colab": {
          "base_uri": "https://localhost:8080/"
        },
        "id": "8heSRroK1UmJ",
        "outputId": "6dee3632-43a3-439c-b5c9-685304045759"
      },
      "source": [
        "import numpy as np\n",
        "\n",
        "k = 4\n",
        "num_val_samples = len(train_data) // k\n",
        "num_epochs = 100\n",
        "all_scores = []\n",
        "\n",
        "for i in range(k):\n",
        "    print('processing fold #', i)\n",
        "    # Prepare the validation data: data from partition # k\n",
        "    val_data = train_data[i * num_val_samples: (i + 1) * num_val_samples]\n",
        "    val_targets = train_targets[i * num_val_samples: (i + 1) * num_val_samples]\n",
        "\n",
        "    # Prepare the training data: data from all other partitions\n",
        "    partial_train_data = np.concatenate(\n",
        "        [train_data[:i * num_val_samples],\n",
        "         train_data[(i + 1) * num_val_samples:]],\n",
        "        axis=0)\n",
        "    partial_train_targets = np.concatenate(\n",
        "        [train_targets[:i * num_val_samples],\n",
        "         train_targets[(i + 1) * num_val_samples:]],\n",
        "        axis=0)\n",
        "\n",
        "    # Build the Keras model (already compiled)\n",
        "    model = build_model()\n",
        "    # Train the model (in silent mode, verbose=0)\n",
        "    model.fit(partial_train_data, partial_train_targets,\n",
        "              epochs=num_epochs, batch_size=1, verbose=0)\n",
        "    # Evaluate the model on the validation data\n",
        "    val_mse, val_mae = model.evaluate(val_data, val_targets, verbose=0)\n",
        "    all_scores.append(val_mae)\n"
      ],
      "execution_count": 4,
      "outputs": [
        {
          "output_type": "stream",
          "text": [
            "processing fold # 0\n",
            "processing fold # 1\n",
            "processing fold # 2\n",
            "processing fold # 3\n"
          ],
          "name": "stdout"
        }
      ]
    },
    {
      "cell_type": "code",
      "metadata": {
        "colab": {
          "base_uri": "https://localhost:8080/"
        },
        "id": "_WUOTf4L3iZt",
        "outputId": "64bb5e67-76e5-427d-e443-eb651fc650a3"
      },
      "source": [
        "all_scores"
      ],
      "execution_count": 5,
      "outputs": [
        {
          "output_type": "execute_result",
          "data": {
            "text/plain": [
              "[2.6380398273468018, 2.521239995956421, 2.6075634956359863, 2.78279972076416]"
            ]
          },
          "metadata": {
            "tags": []
          },
          "execution_count": 5
        }
      ]
    },
    {
      "cell_type": "markdown",
      "metadata": {
        "id": "2nu3eC2W3Wwz"
      },
      "source": [
        "在K折交叉验证中，平均数是比单一分数更可靠的指标。"
      ]
    },
    {
      "cell_type": "code",
      "metadata": {
        "colab": {
          "base_uri": "https://localhost:8080/"
        },
        "id": "FLfZZacC3pgN",
        "outputId": "37a4ac33-320e-421d-9515-83074d73069a"
      },
      "source": [
        "np.mean(all_scores)"
      ],
      "execution_count": 6,
      "outputs": [
        {
          "output_type": "execute_result",
          "data": {
            "text/plain": [
              "2.6374107599258423"
            ]
          },
          "metadata": {
            "tags": []
          },
          "execution_count": 6
        }
      ]
    },
    {
      "cell_type": "markdown",
      "metadata": {
        "id": "Jnt_1HUW3z_U"
      },
      "source": [
        "提升训练轮次为500次。为了记录模型在每一轮的表现，做一点改动保存每轮验证次数。"
      ]
    },
    {
      "cell_type": "code",
      "metadata": {
        "id": "KbzSs-iK4JDO"
      },
      "source": [
        "#from keras import backend as K\n",
        "\n",
        "# Some memory clean-up\n",
        "#K.clear_session()\n",
        "model.compile('sgd', metrics=['mean_absolute_error'])"
      ],
      "execution_count": 7,
      "outputs": []
    },
    {
      "cell_type": "code",
      "metadata": {
        "colab": {
          "base_uri": "https://localhost:8080/"
        },
        "id": "56IdSVl64TqY",
        "outputId": "5a64e7ea-3743-4bfd-aff8-1e3e962aa720"
      },
      "source": [
        "num_epochs = 500\n",
        "all_mae_histories = []\n",
        "for i in range(k):\n",
        "    print('processing fold #', i)\n",
        "    # Prepare the validation data: data from partition # k\n",
        "    val_data = train_data[i * num_val_samples: (i + 1) * num_val_samples]\n",
        "    val_targets = train_targets[i * num_val_samples: (i + 1) * num_val_samples]\n",
        "\n",
        "    # Prepare the training data: data from all other partitions\n",
        "    partial_train_data = np.concatenate(\n",
        "        [train_data[:i * num_val_samples],\n",
        "         train_data[(i + 1) * num_val_samples:]],\n",
        "        axis=0)\n",
        "    partial_train_targets = np.concatenate(\n",
        "        [train_targets[:i * num_val_samples],\n",
        "         train_targets[(i + 1) * num_val_samples:]],\n",
        "        axis=0)\n",
        "\n",
        "    # Build the Keras model (already compiled)\n",
        "    model = build_model()\n",
        "    # Train the model (in silent mode, verbose=0)\n",
        "    history = model.fit(partial_train_data, partial_train_targets,\n",
        "                        validation_data=(val_data, val_targets),\n",
        "                        epochs=num_epochs, batch_size=1, verbose=0)\n",
        "    mae_history = history.history['val_mae']\n",
        "    all_mae_histories.append(mae_history)"
      ],
      "execution_count": 8,
      "outputs": [
        {
          "output_type": "stream",
          "text": [
            "processing fold # 0\n",
            "processing fold # 1\n",
            "processing fold # 2\n",
            "processing fold # 3\n"
          ],
          "name": "stdout"
        }
      ]
    },
    {
      "cell_type": "markdown",
      "metadata": {
        "id": "itxQTSg-5E3R"
      },
      "source": [
        "计算每一轮中K折验证分数的平均值"
      ]
    },
    {
      "cell_type": "code",
      "metadata": {
        "id": "xh12Gltt5Ma0"
      },
      "source": [
        "average_mae_history = [\n",
        "    np.mean([x[i] for x in all_mae_histories]) for i in range(num_epochs)]"
      ],
      "execution_count": 9,
      "outputs": []
    },
    {
      "cell_type": "markdown",
      "metadata": {
        "id": "UB8bywV95N1x"
      },
      "source": [
        "绘制验证分数"
      ]
    },
    {
      "cell_type": "code",
      "metadata": {
        "colab": {
          "base_uri": "https://localhost:8080/",
          "height": 279
        },
        "id": "IzxBpacB5Pnp",
        "outputId": "aaca4565-9325-4106-d4bb-c5e9141c8459"
      },
      "source": [
        "import matplotlib.pyplot as plt\n",
        "\n",
        "plt.plot(range(1, len(average_mae_history) + 1), average_mae_history)\n",
        "plt.xlabel('Epochs')\n",
        "plt.ylabel('Validation MAE')\n",
        "plt.show()"
      ],
      "execution_count": 10,
      "outputs": [
        {
          "output_type": "display_data",
          "data": {
            "image/png": "[encoded data removed]",
            "text/plain": [
              "<Figure size 432x288 with 1 Axes>"
            ]
          },
          "metadata": {
            "tags": [],
            "needs_background": "light"
          }
        }
      ]
    },
    {
      "cell_type": "markdown",
      "metadata": {
        "id": "7BgH_Q0v5Uj9"
      },
      "source": [
        "因为纵轴的范围较大，数据方差相对较大，，很难看出图的规律，我们重新绘制一张图。\n",
        "* 删除前10个数据点，因为他们的取值范围与曲线上的其他点不同。\n",
        "* 将每个数据点替换为前面数据点的指数移动平均值。"
      ]
    },
    {
      "cell_type": "code",
      "metadata": {
        "colab": {
          "base_uri": "https://localhost:8080/",
          "height": 279
        },
        "id": "CTIfmVGT5rTg",
        "outputId": "d5d29e51-a281-4c29-c6af-1f2f13ef25f9"
      },
      "source": [
        "def smooth_curve(points, factor=0.9):\n",
        "  smoothed_points = []\n",
        "  for point in points:\n",
        "    if smoothed_points:\n",
        "      previous = smoothed_points[-1]\n",
        "      smoothed_points.append(previous * factor + point * (1 - factor))\n",
        "    else:\n",
        "      smoothed_points.append(point)\n",
        "  return smoothed_points\n",
        "\n",
        "smooth_mae_history = smooth_curve(average_mae_history[10:])\n",
        "\n",
        "plt.plot(range(1, len(smooth_mae_history) + 1), smooth_mae_history)\n",
        "plt.xlabel('Epochs')\n",
        "plt.ylabel('Validation MAE')\n",
        "plt.show()"
      ],
      "execution_count": 11,
      "outputs": [
        {
          "output_type": "display_data",
          "data": {
            "image/png": "[encoded data removed]",
            "text/plain": [
              "<Figure size 432x288 with 1 Axes>"
            ]
          },
          "metadata": {
            "tags": [],
            "needs_background": "light"
          }
        }
      ]
    },
    {
      "cell_type": "markdown",
      "metadata": {
        "id": "4g1-thrZ5vtN"
      },
      "source": [
        "## 训练最终模型"
      ]
    },
    {
      "cell_type": "code",
      "metadata": {
        "colab": {
          "base_uri": "https://localhost:8080/"
        },
        "id": "WvMIP9az5y2H",
        "outputId": "eb87ce07-bc3f-4a88-8443-470f7d2de19b"
      },
      "source": [
        "# Get a fresh, compiled model.\n",
        "model = build_model()\n",
        "# Train it on the entirety of the data.\n",
        "model.fit(train_data, train_targets,\n",
        "          epochs=80, batch_size=16, verbose=0)\n",
        "test_mse_score, test_mae_score = model.evaluate(test_data, test_targets)"
      ],
      "execution_count": 12,
      "outputs": [
        {
          "output_type": "stream",
          "text": [
            "4/4 [==============================] - 0s 2ms/step - loss: 18.4629 - mae: 2.7900\n"
          ],
          "name": "stdout"
        }
      ]
    },
    {
      "cell_type": "code",
      "metadata": {
        "colab": {
          "base_uri": "https://localhost:8080/"
        },
        "id": "VzTR6FII51f0",
        "outputId": "4414d418-c1f5-414d-d774-cc59a73991cd"
      },
      "source": [
        "test_mae_score"
      ],
      "execution_count": 13,
      "outputs": [
        {
          "output_type": "execute_result",
          "data": {
            "text/plain": [
              "2.790027379989624"
            ]
          },
          "metadata": {
            "tags": []
          },
          "execution_count": 13
        }
      ]
    },
    {
      "cell_type": "markdown",
      "metadata": {
        "id": "of_eclR86nVl"
      },
      "source": [
        "## 小结\n",
        "* 回归问题使用损失函数与分类问题不同。回归常用的损失函数是均方误差（MSE）\n",
        "* 回归问题使用的评估指标与分类问题不同。显而易见，精度概念不适用于回归问题。常见的回归指标是平均绝对误差（MAE）\n",
        "* 如果输入数据的特征具有不同的取值范围，应该进行预处理，对每个特征单独进行缩放。\n",
        "* 如果可用数据很少，使用K折验证评估模型。\n",
        "* 如果可用的训练数据很少，最好使用隐藏层较小的小型网络，以避免严重的过拟合。"
      ]
    }
  ]
}