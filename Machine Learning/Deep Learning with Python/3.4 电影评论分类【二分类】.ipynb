{
  "nbformat": 4,
  "nbformat_minor": 0,
  "metadata": {
    "colab": {
      "name": "3.4 电影评论分类【二分类】.ipynb",
      "provenance": [],
      "toc_visible": true,
      "authorship_tag": "ABX9TyM4IFklr3F13NipXfyBfRkp",
      "include_colab_link": true
    },
    "kernelspec": {
      "name": "python3",
      "display_name": "Python 3"
    }
  },
  "cells": [
    {
      "cell_type": "markdown",
      "metadata": {
        "id": "view-in-github",
        "colab_type": "text"
      },
      "source": [
        "<a href=\"https://colab.research.google.com/github/AlenZhang-Dev/Learning-Records/blob/master/Machine%20Learning/Deep%20Learning%20with%20Python/3.4%20%E7%94%B5%E5%BD%B1%E8%AF%84%E8%AE%BA%E5%88%86%E7%B1%BB%E3%80%90%E4%BA%8C%E5%88%86%E7%B1%BB%E3%80%91.ipynb\" target=\"_parent\"><img src=\"https://colab.research.google.com/assets/colab-badge.svg\" alt=\"Open In Colab\"/></a>"
      ]
    },
    {
      "cell_type": "markdown",
      "metadata": {
        "id": "Bwz2fahR510_"
      },
      "source": [
        "# 电影评论分类：二分类问题\n",
        "二分类是应用最广泛的机器学习问题。本例将根据电影评论的文字内容将其划分为正面或负面。"
      ]
    },
    {
      "cell_type": "markdown",
      "metadata": {
        "id": "oovL_wiP8rDE"
      },
      "source": [
        "## IMDB数据集\n",
        "使用IMDB数据集，包含来自互联网电影数据库的50000条严重两集分化的评论。数据集被分为用于训练的25000条评论与用于测试的25000条评论。训练集和测试集都包含50%的正面评论和50%的负面评论。"
      ]
    },
    {
      "cell_type": "code",
      "metadata": {
        "id": "1s6xws6H9PN5",
        "colab": {
          "base_uri": "https://localhost:8080/"
        },
        "outputId": "7a5b2369-cc36-45ca-b982-f59a1db41be9"
      },
      "source": [
        "from keras.datasets import imdb\n",
        "\n",
        "(train_data, train_labels), (test_data, test_labels) = imdb.load_data(num_words=10000)\n",
        "\n",
        "train_data[0]\n",
        "train_labels[0]"
      ],
      "execution_count": 1,
      "outputs": [
        {
          "output_type": "stream",
          "text": [
            "Downloading data from https://storage.googleapis.com/tensorflow/tf-keras-datasets/imdb.npz\n",
            "17465344/17464789 [==============================] - 0s 0us/step\n"
          ],
          "name": "stdout"
        },
        {
          "output_type": "execute_result",
          "data": {
            "text/plain": [
              "1"
            ]
          },
          "metadata": {
            "tags": []
          },
          "execution_count": 1
        }
      ]
    },
    {
      "cell_type": "markdown",
      "metadata": {
        "id": "YWw8FbrbDUHo"
      },
      "source": [
        "## 数据准备\n",
        "你不能将整数序列直接输入神经网络。你需要将列表转换为张量。转换方法有以下两种\n",
        "\n",
        "1.   填充列表，使其具有相同长度。再将列表转换成形状为(samples, word_indices)的整数张量，然后网络的第一层使用能处理这种张量整数张量的层。\n",
        "2.   对列表进行one-hot编码，将其转换为0和1组成的向量。序列[3,5]将会被转换为10000维的向量，只有索引为3和5的元素是1，其余都是0。然后网络的第一层可以用Dense，他可以处理浮点向量数据。\n",
        "\n",
        "以下使用方法2准备数据\n",
        "\n"
      ]
    },
    {
      "cell_type": "code",
      "metadata": {
        "id": "qX8p2G_mF-Qv"
      },
      "source": [
        "import numpy as np\n",
        "def vectorize_sequences(sequences, dimension=10000):\n",
        "    # Create an all-zero matrix of shape (len(sequences), dimension)\n",
        "    results = np.zeros((len(sequences), dimension))\n",
        "    for i, sequence in enumerate(sequences):\n",
        "        results[i, sequence] = 1.  # set specific indices of results[i] to 1s\n",
        "    return results\n",
        "\n",
        "# Our vectorized training data\n",
        "x_train = vectorize_sequences(train_data)\n",
        "# Our vectorized test data\n",
        "x_test = vectorize_sequences(test_data)\n",
        "\n",
        "x_train[0]\n",
        "\n",
        "# 将标签向量化\n",
        "y_train = np.asarray(train_labels).astype('float32')\n",
        "y_test = np.asarray(test_labels).astype('float32')"
      ],
      "execution_count": 2,
      "outputs": []
    },
    {
      "cell_type": "markdown",
      "metadata": {
        "id": "8NL-KHeLKUcr"
      },
      "source": [
        "## 构建网络\n",
        "输入数据是向量，而标签是标量（0和1），这是遇到的最好情况。在该模型中我们使用以下架构\n",
        "1.  两个中间层，每层有16个隐藏变量\n",
        "2.  第三层输出一个标量，预测当前评论的情感\n",
        "中间层使用relu作为激活函数，最后一层使Sigmoid函数激活输出一个0-1范围内的概率。"
      ]
    },
    {
      "cell_type": "code",
      "metadata": {
        "id": "JRYOgl8rQFFI"
      },
      "source": [
        "from keras import models\n",
        "from keras import layers\n",
        "\n",
        "model = models.Sequential()\n",
        "model.add(layers.Dense(16, activation='relu', input_shape=(10000,)))\n",
        "model.add(layers.Dense(16, activation='relu'))\n",
        "model.add(layers.Dense(1, activation='sigmoid'))"
      ],
      "execution_count": 3,
      "outputs": []
    },
    {
      "cell_type": "markdown",
      "metadata": {
        "id": "JU4f_MNhmhz8"
      },
      "source": [
        "以下选择损失函数和优化器。二分类问题的网络输出是一个概率值，最好使用binary_crossentropy(二元交叉熵)损失，这并不是唯一可行的选择，还可以使用mean_squared_error（均方误差）。对于输出概率的值，交叉熵往往是最好的选择。"
      ]
    },
    {
      "cell_type": "markdown",
      "metadata": {
        "id": "p47IaEsDnK8a"
      },
      "source": [
        "## 编译模型\n",
        "因为rmsprop、binary_crossentropy和accuracy都是Keras内置的一部分。可以通过optimzer参数传入一个优化器累实现。"
      ]
    },
    {
      "cell_type": "code",
      "metadata": {
        "id": "ZUGKAuY8njA1"
      },
      "source": [
        "model.compile(optimizer='rmsprop',\n",
        "              loss='binary_crossentropy',\n",
        "              metrics=['accuracy'])"
      ],
      "execution_count": 4,
      "outputs": []
    },
    {
      "cell_type": "markdown",
      "metadata": {
        "id": "ikQGkmBun3qr"
      },
      "source": [
        "## 配置优化器\n"
      ]
    },
    {
      "cell_type": "code",
      "metadata": {
        "id": "fKjE3ySpoCw4"
      },
      "source": [
        "from keras import optimizers\n",
        "model.compile(optimizer=optimizers.RMSprop(lr=0.001),\n",
        "              loss='binary_crossentropy',\n",
        "              metrics=['accuracy'])"
      ],
      "execution_count": 5,
      "outputs": []
    },
    {
      "cell_type": "markdown",
      "metadata": {
        "id": "Fhd3-ZHapWG9"
      },
      "source": [
        "使用自定义的损失和指标。"
      ]
    },
    {
      "cell_type": "code",
      "metadata": {
        "id": "qWtikbmrpBoJ"
      },
      "source": [
        "from keras import losses\n",
        "from keras import metrics\n",
        "\n",
        "model.compile(optimizer=optimizers.RMSprop(lr=0.001),\n",
        "              loss=losses.binary_crossentropy,\n",
        "              metrics=[metrics.binary_accuracy])"
      ],
      "execution_count": null,
      "outputs": []
    },
    {
      "cell_type": "markdown",
      "metadata": {
        "id": "Y7nz4XQoqH8e"
      },
      "source": [
        "## 验证\n",
        "留出验证集并进行训练"
      ]
    },
    {
      "cell_type": "code",
      "metadata": {
        "id": "Cm73eIesqXDt"
      },
      "source": [
        "x_val = x_train[:10000]\n",
        "partial_x_train = x_train[10000:]\n",
        "\n",
        "y_val = y_train[:10000]\n",
        "partial_y_train = y_train[10000:]"
      ],
      "execution_count": 6,
      "outputs": []
    },
    {
      "cell_type": "code",
      "metadata": {
        "id": "qY39tIRoqY3q",
        "colab": {
          "base_uri": "https://localhost:8080/"
        },
        "outputId": "9574d7fa-d3b1-45c7-a9b1-7ad2a9d4b2b3"
      },
      "source": [
        "history = model.fit(partial_x_train,\n",
        "                    partial_y_train,\n",
        "                    epochs=20,\n",
        "                    batch_size=512,\n",
        "                    validation_data=(x_val, y_val))"
      ],
      "execution_count": 7,
      "outputs": [
        {
          "output_type": "stream",
          "text": [
            "Epoch 1/20\n",
            "30/30 [==============================] - 1s 45ms/step - loss: 0.5489 - accuracy: 0.7835 - val_loss: 0.4291 - val_accuracy: 0.8607\n",
            "Epoch 2/20\n",
            "30/30 [==============================] - 1s 34ms/step - loss: 0.3484 - accuracy: 0.8935 - val_loss: 0.3376 - val_accuracy: 0.8725\n",
            "Epoch 3/20\n",
            "30/30 [==============================] - 1s 34ms/step - loss: 0.2526 - accuracy: 0.9190 - val_loss: 0.2866 - val_accuracy: 0.8892\n",
            "Epoch 4/20\n",
            "30/30 [==============================] - 1s 34ms/step - loss: 0.1971 - accuracy: 0.9354 - val_loss: 0.2775 - val_accuracy: 0.8883\n",
            "Epoch 5/20\n",
            "30/30 [==============================] - 1s 34ms/step - loss: 0.1620 - accuracy: 0.9466 - val_loss: 0.2781 - val_accuracy: 0.8858\n",
            "Epoch 6/20\n",
            "30/30 [==============================] - 1s 34ms/step - loss: 0.1330 - accuracy: 0.9574 - val_loss: 0.3067 - val_accuracy: 0.8801\n",
            "Epoch 7/20\n",
            "30/30 [==============================] - 1s 33ms/step - loss: 0.1096 - accuracy: 0.9672 - val_loss: 0.3130 - val_accuracy: 0.8801\n",
            "Epoch 8/20\n",
            "30/30 [==============================] - 1s 33ms/step - loss: 0.0944 - accuracy: 0.9717 - val_loss: 0.3185 - val_accuracy: 0.8836\n",
            "Epoch 9/20\n",
            "30/30 [==============================] - 1s 33ms/step - loss: 0.0764 - accuracy: 0.9788 - val_loss: 0.3322 - val_accuracy: 0.8834\n",
            "Epoch 10/20\n",
            "30/30 [==============================] - 1s 33ms/step - loss: 0.0646 - accuracy: 0.9826 - val_loss: 0.3552 - val_accuracy: 0.8786\n",
            "Epoch 11/20\n",
            "30/30 [==============================] - 1s 33ms/step - loss: 0.0515 - accuracy: 0.9875 - val_loss: 0.3952 - val_accuracy: 0.8719\n",
            "Epoch 12/20\n",
            "30/30 [==============================] - 1s 34ms/step - loss: 0.0410 - accuracy: 0.9914 - val_loss: 0.4094 - val_accuracy: 0.8757\n",
            "Epoch 13/20\n",
            "30/30 [==============================] - 1s 34ms/step - loss: 0.0349 - accuracy: 0.9925 - val_loss: 0.4445 - val_accuracy: 0.8723\n",
            "Epoch 14/20\n",
            "30/30 [==============================] - 1s 33ms/step - loss: 0.0254 - accuracy: 0.9957 - val_loss: 0.4675 - val_accuracy: 0.8763\n",
            "Epoch 15/20\n",
            "30/30 [==============================] - 1s 35ms/step - loss: 0.0228 - accuracy: 0.9957 - val_loss: 0.4987 - val_accuracy: 0.8738\n",
            "Epoch 16/20\n",
            "30/30 [==============================] - 1s 36ms/step - loss: 0.0165 - accuracy: 0.9975 - val_loss: 0.5302 - val_accuracy: 0.8713\n",
            "Epoch 17/20\n",
            "30/30 [==============================] - 1s 34ms/step - loss: 0.0110 - accuracy: 0.9993 - val_loss: 0.5723 - val_accuracy: 0.8670\n",
            "Epoch 18/20\n",
            "30/30 [==============================] - 1s 35ms/step - loss: 0.0106 - accuracy: 0.9984 - val_loss: 0.6025 - val_accuracy: 0.8687\n",
            "Epoch 19/20\n",
            "30/30 [==============================] - 1s 33ms/step - loss: 0.0090 - accuracy: 0.9988 - val_loss: 0.6324 - val_accuracy: 0.8682\n",
            "Epoch 20/20\n",
            "30/30 [==============================] - 1s 33ms/step - loss: 0.0045 - accuracy: 0.9999 - val_loss: 0.6741 - val_accuracy: 0.8629\n"
          ],
          "name": "stdout"
        }
      ]
    },
    {
      "cell_type": "markdown",
      "metadata": {
        "id": "DpmlRyHTqdHN"
      },
      "source": [
        "以下字典中的四个指标对应训练过程中的验证过程和监控指标。以下为对数据进行可视化"
      ]
    },
    {
      "cell_type": "code",
      "metadata": {
        "id": "vzxc83YJq72G",
        "colab": {
          "base_uri": "https://localhost:8080/"
        },
        "outputId": "5a7dd567-d935-4ca7-c1e5-4d8930ae117b"
      },
      "source": [
        "history_dict = history.history\n",
        "history_dict.keys()"
      ],
      "execution_count": 8,
      "outputs": [
        {
          "output_type": "execute_result",
          "data": {
            "text/plain": [
              "dict_keys(['loss', 'accuracy', 'val_loss', 'val_accuracy'])"
            ]
          },
          "metadata": {
            "tags": []
          },
          "execution_count": 8
        }
      ]
    },
    {
      "cell_type": "code",
      "metadata": {
        "id": "BN6LW4yLrH_3",
        "colab": {
          "base_uri": "https://localhost:8080/",
          "height": 295
        },
        "outputId": "111d81e5-6db6-460e-a59c-29d2cf2eaeb3"
      },
      "source": [
        "import matplotlib.pyplot as plt\n",
        "\n",
        "acc = history.history['accuracy']\n",
        "val_acc = history.history['val_accuracy']\n",
        "loss = history.history['loss']\n",
        "val_loss = history.history['val_loss']\n",
        "\n",
        "epochs = range(1, len(acc) + 1)\n",
        "\n",
        "# \"bo\" is for \"blue dot\"\n",
        "plt.plot(epochs, loss, 'bo', label='Training loss')\n",
        "# b is for \"solid blue line\"\n",
        "plt.plot(epochs, val_loss, 'b', label='Validation loss')\n",
        "plt.title('Training and validation loss')\n",
        "plt.xlabel('Epochs')\n",
        "plt.ylabel('Loss')\n",
        "plt.legend()\n",
        "\n",
        "plt.show()"
      ],
      "execution_count": 10,
      "outputs": [
        {
          "output_type": "display_data",
          "data": {
            "image/png": "[encoded data removed]",
            "text/plain": [
              "<Figure size 432x288 with 1 Axes>"
            ]
          },
          "metadata": {
            "tags": [],
            "needs_background": "light"
          }
        }
      ]
    },
    {
      "cell_type": "code",
      "metadata": {
        "id": "KqiJQ9XerLyy",
        "colab": {
          "base_uri": "https://localhost:8080/",
          "height": 295
        },
        "outputId": "3b46f826-2b7f-4256-eb57-9f26749c2e1a"
      },
      "source": [
        "plt.clf()   # clear figure\n",
        "acc_values = history_dict['accuracy']\n",
        "val_acc_values = history_dict['val_accuracy']\n",
        "\n",
        "plt.plot(epochs, acc, 'bo', label='Training acc')\n",
        "plt.plot(epochs, val_acc, 'b', label='Validation acc')\n",
        "plt.title('Training and validation accuracy')\n",
        "plt.xlabel('Epochs')\n",
        "plt.ylabel('Loss')\n",
        "plt.legend()\n",
        "\n",
        "plt.show()"
      ],
      "execution_count": 12,
      "outputs": [
        {
          "output_type": "display_data",
          "data": {
            "image/png": "[encoded data removed]",
            "text/plain": [
              "<Figure size 432x288 with 1 Axes>"
            ]
          },
          "metadata": {
            "tags": [],
            "needs_background": "light"
          }
        }
      ]
    },
    {
      "cell_type": "markdown",
      "metadata": {
        "id": "DknDdSJrrYmL"
      },
      "source": [
        "然后从头开始训练一个网络\n"
      ]
    },
    {
      "cell_type": "code",
      "metadata": {
        "id": "ah7Zet4ircfr",
        "colab": {
          "base_uri": "https://localhost:8080/"
        },
        "outputId": "6374c022-39e5-4811-8152-db6ce8969201"
      },
      "source": [
        "model = models.Sequential()\n",
        "model.add(layers.Dense(16, activation='relu', input_shape=(10000,)))\n",
        "model.add(layers.Dense(16, activation='relu'))\n",
        "model.add(layers.Dense(1, activation='sigmoid'))\n",
        "\n",
        "model.compile(optimizer='rmsprop',\n",
        "              loss='binary_crossentropy',\n",
        "              metrics=['accuracy'])\n",
        "\n",
        "model.fit(x_train, y_train, epochs=4, batch_size=512)\n",
        "results = model.evaluate(x_test, y_test)"
      ],
      "execution_count": 13,
      "outputs": [
        {
          "output_type": "stream",
          "text": [
            "Epoch 1/4\n",
            "49/49 [==============================] - 1s 26ms/step - loss: 0.4638 - accuracy: 0.8117\n",
            "Epoch 2/4\n",
            "49/49 [==============================] - 1s 26ms/step - loss: 0.2673 - accuracy: 0.9078\n",
            "Epoch 3/4\n",
            "49/49 [==============================] - 1s 27ms/step - loss: 0.2039 - accuracy: 0.9299\n",
            "Epoch 4/4\n",
            "49/49 [==============================] - 1s 26ms/step - loss: 0.1699 - accuracy: 0.9401\n",
            "782/782 [==============================] - 1s 2ms/step - loss: 0.2922 - accuracy: 0.8834\n"
          ],
          "name": "stdout"
        }
      ]
    },
    {
      "cell_type": "code",
      "metadata": {
        "id": "ZW5tdJFsreyY",
        "colab": {
          "base_uri": "https://localhost:8080/"
        },
        "outputId": "1d6ca4f9-8441-4b94-9f87-c11ee08a3e5e"
      },
      "source": [
        "results"
      ],
      "execution_count": 14,
      "outputs": [
        {
          "output_type": "execute_result",
          "data": {
            "text/plain": [
              "[0.2922472059726715, 0.883400022983551]"
            ]
          },
          "metadata": {
            "tags": []
          },
          "execution_count": 14
        }
      ]
    },
    {
      "cell_type": "markdown",
      "metadata": {
        "id": "g14B8wlqri5W"
      },
      "source": [
        "使用训练好的网路在新数据上生成预测结果"
      ]
    },
    {
      "cell_type": "code",
      "metadata": {
        "id": "wrIuTAldrozb",
        "colab": {
          "base_uri": "https://localhost:8080/"
        },
        "outputId": "f1b6e0c1-7370-476c-e34a-225c4178202e"
      },
      "source": [
        "model.predict(x_test)"
      ],
      "execution_count": 15,
      "outputs": [
        {
          "output_type": "execute_result",
          "data": {
            "text/plain": [
              "array([[0.22443414],\n",
              "       [0.9977936 ],\n",
              "       [0.9192313 ],\n",
              "       ...,\n",
              "       [0.14909774],\n",
              "       [0.09306887],\n",
              "       [0.6657225 ]], dtype=float32)"
            ]
          },
          "metadata": {
            "tags": []
          },
          "execution_count": 15
        }
      ]
    },
    {
      "cell_type": "markdown",
      "metadata": {
        "id": "G2iZlGXE1aPF"
      },
      "source": [
        "## 进一步实验\n",
        "通过以下实现，你可以确信前面选择的网络架构挺合理，但还有改进空间。\n",
        "* 尝试使用一个或3个以上的隐藏层，观察对验证精度和测试精度的影响。\n",
        "* 尝试使用更少的隐藏单元。\n",
        "* 尝试使用mse损失函数代替binary_crosseentropy。\n",
        "* 尝试使用tanh激活（该激活函数在神经网络早期流行）代替relu。"
      ]
    },
    {
      "cell_type": "markdown",
      "metadata": {
        "id": "zHLkVoyd2Js0"
      },
      "source": [
        "## 总结\n",
        "1. 需要对原始数据进行大量的预处理，方便将其转换为张量输入到神经网络中。单词序列使用二进制向量编码，但也有别的编码方式。\n",
        "\n",
        "2. 带有relu激活的Dense层堆叠，可以解决很多种问题。\n",
        "\n",
        "3. 对于二分类问题，网络最后一层应该是只有一个单元并使用sigmoid激活的Dense层，网络输出应该是0～1范围内的标量，表示概率值。\n",
        "\n",
        "4. 对于二分类问题的sigmoid标量输出，应该使用binary_crossentropy损失函数。\n",
        "\n",
        "5. 无论问题是什么，rmsprop优化器通常都是足够好的选择。\n",
        "\n",
        "6. 随着神经网络在训练数据上的表现越来越好，模型最终会过拟合，所以需要监控模型在训练集之外的性能。"
      ]
    }
  ]
}