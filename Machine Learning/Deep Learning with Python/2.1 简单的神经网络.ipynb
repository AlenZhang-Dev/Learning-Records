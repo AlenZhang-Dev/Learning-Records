{
  "nbformat": 4,
  "nbformat_minor": 0,
  "metadata": {
    "colab": {
      "name": "2.1 简单的神经网络.ipynb",
      "provenance": [],
      "toc_visible": true,
      "authorship_tag": "ABX9TyPnuJ5PRNeNCk56dyAnmK2j",
      "include_colab_link": true
    },
    "kernelspec": {
      "name": "python3",
      "display_name": "Python 3"
    }
  },
  "cells": [
    {
      "cell_type": "markdown",
      "metadata": {
        "id": "view-in-github",
        "colab_type": "text"
      },
      "source": [
        "<a href=\"https://colab.research.google.com/github/AlenZhang-Dev/Learning-Records/blob/master/Machine%20Learning/Deep%20Learning%20with%20Python/2.1%20%E7%AE%80%E5%8D%95%E7%9A%84%E7%A5%9E%E7%BB%8F%E7%BD%91%E7%BB%9C.ipynb\" target=\"_parent\"><img src=\"https://colab.research.google.com/assets/colab-badge.svg\" alt=\"Open In Colab\"/></a>"
      ]
    },
    {
      "cell_type": "markdown",
      "metadata": {
        "id": "V5tTggVK7fTr"
      },
      "source": [
        "# 构建简单的神经网络\n",
        "实现一个具体的神经网络，使用Python的keras来学习手写数字分类。\n",
        "我们要解决的问题是：将手写数字的灰度图像（28 * 28像素）划分到10个类别中（0，9）。\n",
        "使用Minist数据集，包含60000张训练图像和10000张测试图像。"
      ]
    },
    {
      "cell_type": "markdown",
      "metadata": {
        "id": "uHoS7tig9jMa"
      },
      "source": [
        "## 加载数据集\n",
        "train_images 和 train_labels构成来训练集(training_set)，模型将从这些数据中进行学习。然后在测试集（test set 即test_images 和 test_labels）上对模型进行测试。\n",
        "主要操作如下：将训练数据输入神经网络；其次，网络学习将图像和标签关联在一起；最后对test_images生产预测，而我们将验证这些预测与test_labels中标签是否匹配。"
      ]
    },
    {
      "cell_type": "code",
      "metadata": {
        "id": "LLOth79MzMS7"
      },
      "source": [
        "# load data from MNIST\n",
        "import keras\n",
        "\n",
        "from keras.datasets import mnist\n",
        "\n",
        "(train_images, train_labels), (test_images, test_labels) = mnist.load_data()"
      ],
      "execution_count": null,
      "outputs": []
    },
    {
      "cell_type": "code",
      "metadata": {
        "id": "uMbdiwRZ-Wx7",
        "colab": {
          "base_uri": "https://localhost:8080/"
        },
        "outputId": "c792286b-116e-43f6-9da2-a33449a2c2a1"
      },
      "source": [
        "train_images.shape\n",
        "\n",
        "len(train_labels)\n",
        "\n",
        "train_labels\n",
        "\n",
        "test_images.shape\n",
        "\n",
        "len(test_labels)\n",
        "\n",
        "test_labels"
      ],
      "execution_count": null,
      "outputs": [
        {
          "output_type": "execute_result",
          "data": {
            "text/plain": [
              "array([7, 2, 1, ..., 4, 5, 6], dtype=uint8)"
            ]
          },
          "metadata": {
            "tags": []
          },
          "execution_count": 14
        }
      ]
    },
    {
      "cell_type": "markdown",
      "metadata": {
        "id": "Pjw-z3_b1MYt"
      },
      "source": [
        "## 网络架构\n",
        "神经网络的核心组件是层（Layer），它是一种数据处理模块。你可以将他看成数据过滤器。大多数数据学习都是将简单的层连接起来，从而实现渐进式的数据蒸馏（data distillation）。深度学习就像是数据处理的筛子，包含一系列越来越精细的数据过滤器。\n",
        "以下网络包含两个Dense层，它们是密集连接（全连接）的神经层。第二层是一个10路的softmax层，他将返回一个由10个数字类别中某一个的概率。"
      ]
    },
    {
      "cell_type": "code",
      "metadata": {
        "id": "Yn4VIeuE0qHC"
      },
      "source": [
        "from keras import models\n",
        "from keras import layers\n",
        "\n",
        "network = models.Sequential()\n",
        "network.add(layers.Dense(512, activation='relu', input_shape=(28 * 28,)))\n",
        "network.add(layers.Dense(10, activation='softmax'))"
      ],
      "execution_count": null,
      "outputs": []
    },
    {
      "cell_type": "markdown",
      "metadata": {
        "id": "6a89sTc74U6D"
      },
      "source": [
        "在训练网络的过程中，需要选择编译（compile）步骤的三个参数\n",
        "\n",
        "*   列表项\n",
        "*   列表项\n",
        "\n",
        "\n",
        "1. 损失参数（loss function）：网络如何衡量在训练数据上的性能，即网络如何朝着正确的方向前进。\n",
        "2. 优化器（Optimizer）：基于训练数据和损失函数来更新网络的机制。\n",
        "3. 在训练和测试的过程中需要监控的指标（metric）：本例只关心精度，即正确分类的图像所占的比例。"
      ]
    },
    {
      "cell_type": "code",
      "metadata": {
        "id": "MSOJSbIn3NNg"
      },
      "source": [
        "network.compile(optimizer='rmsprop',\n",
        "                loss='categorical_crossentropy',\n",
        "                metrics=['accuracy'])"
      ],
      "execution_count": null,
      "outputs": []
    },
    {
      "cell_type": "markdown",
      "metadata": {
        "id": "ZtBbQrcH4X44"
      },
      "source": [
        "## 数据预处理\n",
        "对数据进行预处理，将其转换为网络要求的形状，并缩放到所有值都在[0, 1]区间。"
      ]
    },
    {
      "cell_type": "code",
      "metadata": {
        "id": "al3XoTd14n5B"
      },
      "source": [
        "train_images = train_images.reshape(60000, 28 * 28)\n",
        "train_images = train_images.astype('float32') / 255\n",
        "\n",
        "test_images = test_images.reshape(10000, 28 * 28)\n",
        "test_images = test_images.astype('float32') / 255\n"
      ],
      "execution_count": null,
      "outputs": []
    },
    {
      "cell_type": "markdown",
      "metadata": {
        "id": "6uNRVxFE5Wir"
      },
      "source": [
        "准备标签。"
      ]
    },
    {
      "cell_type": "code",
      "metadata": {
        "id": "HBgKPHgW5WaC"
      },
      "source": [
        "from keras.utils import to_categorical\n",
        "\n",
        "train_labels = to_categorical(train_labels)\n",
        "test_labels = to_categorical(test_labels)"
      ],
      "execution_count": null,
      "outputs": []
    },
    {
      "cell_type": "markdown",
      "metadata": {
        "id": "FVGK_-VI5wFh"
      },
      "source": [
        "训练数据。\n"
      ]
    },
    {
      "cell_type": "code",
      "metadata": {
        "id": "tmYC2cqQ5yFf",
        "colab": {
          "base_uri": "https://localhost:8080/"
        },
        "outputId": "69881417-f974-4864-eaf9-2803b441c654"
      },
      "source": [
        "network.fit(train_images, train_labels, epochs=5, batch_size=128)"
      ],
      "execution_count": null,
      "outputs": [
        {
          "output_type": "stream",
          "text": [
            "Epoch 1/5\n",
            "469/469 [==============================] - 4s 9ms/step - loss: 0.2536 - accuracy: 0.9267\n",
            "Epoch 2/5\n",
            "469/469 [==============================] - 4s 8ms/step - loss: 0.1033 - accuracy: 0.9692\n",
            "Epoch 3/5\n",
            "469/469 [==============================] - 4s 9ms/step - loss: 0.0685 - accuracy: 0.9795\n",
            "Epoch 4/5\n",
            "469/469 [==============================] - 4s 9ms/step - loss: 0.0497 - accuracy: 0.9854\n",
            "Epoch 5/5\n",
            "469/469 [==============================] - 4s 9ms/step - loss: 0.0373 - accuracy: 0.9886\n"
          ],
          "name": "stdout"
        },
        {
          "output_type": "execute_result",
          "data": {
            "text/plain": [
              "<tensorflow.python.keras.callbacks.History at 0x7f77b5549b38>"
            ]
          },
          "metadata": {
            "tags": []
          },
          "execution_count": 19
        }
      ]
    },
    {
      "cell_type": "markdown",
      "metadata": {
        "id": "P0Xlpoi19a6Q"
      },
      "source": [
        "根据训练过程可以看出，模型对于训练集的数据预测准确率经过5次迭代就达到了98左右的准确率"
      ]
    },
    {
      "cell_type": "markdown",
      "metadata": {
        "id": "cOnD_b537eOl"
      },
      "source": [
        "数据精度输出。"
      ]
    },
    {
      "cell_type": "code",
      "metadata": {
        "id": "Iw-0sbiPA3QM",
        "colab": {
          "base_uri": "https://localhost:8080/"
        },
        "outputId": "4ca3d804-4e0d-4818-e500-f2bb541ecff0"
      },
      "source": [
        "test_loss, test_acc = network.evaluate(test_images, test_labels)\n",
        "print('test_acc: ', test_acc)"
      ],
      "execution_count": null,
      "outputs": [
        {
          "output_type": "stream",
          "text": [
            "313/313 [==============================] - 1s 2ms/step - loss: 0.0715 - accuracy: 0.9773\n",
            "test_acc:  0.9772999882698059\n"
          ],
          "name": "stdout"
        }
      ]
    },
    {
      "cell_type": "markdown",
      "metadata": {
        "id": "txyVmwPL9nPF"
      },
      "source": [
        "将训练好的模型应用于测试集中，准确率达到97%左右，比训练集低1%，这种训练精度与测试精度之间的差距是过拟合导致的。\n",
        "* 过拟合指机器学习模型在新数据上的性能要比训练数据上差。"
      ]
    }
  ]
}